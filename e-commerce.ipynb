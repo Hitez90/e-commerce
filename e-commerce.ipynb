{
 "cells": [
  {
   "cell_type": "code",
   "execution_count": 93,
   "metadata": {},
   "outputs": [],
   "source": [
    "import pandas as pd\n",
    "import matplotlib.pyplot as plt\n",
    "import seaborn as sns\n",
    "import plotly.express as px\n",
    "import numpy as np\n",
    "%matplotlib inline"
   ]
  },
  {
   "cell_type": "code",
   "execution_count": 2,
   "metadata": {},
   "outputs": [],
   "source": [
    "customers = pd.read_csv('/mnt/HC_Volume_18315164/home-jupyter/jupyter-v-tsuzoj/olist_customers_dataset.csv')\n",
    "orders = pd.read_csv('/mnt/HC_Volume_18315164/home-jupyter/jupyter-v-tsuzoj/olist_orders_dataset.csv', \n",
    "                    parse_dates = ['order_purchase_timestamp', 'order_approved_at', 'order_delivered_carrier_date',\n",
    "                                     'order_delivered_customer_date', 'order_estimated_delivery_date'])\n",
    "items = pd.read_csv('/mnt/HC_Volume_18315164/home-jupyter/jupyter-v-tsuzoj/olist_order_items_dataset.csv',\n",
    "                   parse_dates = ['shipping_limit_date'])"
   ]
  },
  {
   "cell_type": "markdown",
   "metadata": {},
   "source": [
    "Взглянем на наши данные, посмотрим на размерность таблиц, наличие промущенных значений, наличие дубликатов. Проверим правильно ли у нас спарсились колонки со временем."
   ]
  },
  {
   "cell_type": "code",
   "execution_count": 3,
   "metadata": {},
   "outputs": [
    {
     "data": {
      "text/html": [
       "<div>\n",
       "<style scoped>\n",
       "    .dataframe tbody tr th:only-of-type {\n",
       "        vertical-align: middle;\n",
       "    }\n",
       "\n",
       "    .dataframe tbody tr th {\n",
       "        vertical-align: top;\n",
       "    }\n",
       "\n",
       "    .dataframe thead th {\n",
       "        text-align: right;\n",
       "    }\n",
       "</style>\n",
       "<table border=\"1\" class=\"dataframe\">\n",
       "  <thead>\n",
       "    <tr style=\"text-align: right;\">\n",
       "      <th></th>\n",
       "      <th>customer_id</th>\n",
       "      <th>customer_unique_id</th>\n",
       "      <th>customer_zip_code_prefix</th>\n",
       "      <th>customer_city</th>\n",
       "      <th>customer_state</th>\n",
       "    </tr>\n",
       "  </thead>\n",
       "  <tbody>\n",
       "    <tr>\n",
       "      <th>0</th>\n",
       "      <td>06b8999e2fba1a1fbc88172c00ba8bc7</td>\n",
       "      <td>861eff4711a542e4b93843c6dd7febb0</td>\n",
       "      <td>14409</td>\n",
       "      <td>franca</td>\n",
       "      <td>SP</td>\n",
       "    </tr>\n",
       "    <tr>\n",
       "      <th>1</th>\n",
       "      <td>18955e83d337fd6b2def6b18a428ac77</td>\n",
       "      <td>290c77bc529b7ac935b93aa66c333dc3</td>\n",
       "      <td>9790</td>\n",
       "      <td>sao bernardo do campo</td>\n",
       "      <td>SP</td>\n",
       "    </tr>\n",
       "    <tr>\n",
       "      <th>2</th>\n",
       "      <td>4e7b3e00288586ebd08712fdd0374a03</td>\n",
       "      <td>060e732b5b29e8181a18229c7b0b2b5e</td>\n",
       "      <td>1151</td>\n",
       "      <td>sao paulo</td>\n",
       "      <td>SP</td>\n",
       "    </tr>\n",
       "    <tr>\n",
       "      <th>3</th>\n",
       "      <td>b2b6027bc5c5109e529d4dc6358b12c3</td>\n",
       "      <td>259dac757896d24d7702b9acbbff3f3c</td>\n",
       "      <td>8775</td>\n",
       "      <td>mogi das cruzes</td>\n",
       "      <td>SP</td>\n",
       "    </tr>\n",
       "    <tr>\n",
       "      <th>4</th>\n",
       "      <td>4f2d8ab171c80ec8364f7c12e35b23ad</td>\n",
       "      <td>345ecd01c38d18a9036ed96c73b8d066</td>\n",
       "      <td>13056</td>\n",
       "      <td>campinas</td>\n",
       "      <td>SP</td>\n",
       "    </tr>\n",
       "  </tbody>\n",
       "</table>\n",
       "</div>"
      ],
      "text/plain": [
       "                        customer_id                customer_unique_id  \\\n",
       "0  06b8999e2fba1a1fbc88172c00ba8bc7  861eff4711a542e4b93843c6dd7febb0   \n",
       "1  18955e83d337fd6b2def6b18a428ac77  290c77bc529b7ac935b93aa66c333dc3   \n",
       "2  4e7b3e00288586ebd08712fdd0374a03  060e732b5b29e8181a18229c7b0b2b5e   \n",
       "3  b2b6027bc5c5109e529d4dc6358b12c3  259dac757896d24d7702b9acbbff3f3c   \n",
       "4  4f2d8ab171c80ec8364f7c12e35b23ad  345ecd01c38d18a9036ed96c73b8d066   \n",
       "\n",
       "   customer_zip_code_prefix          customer_city customer_state  \n",
       "0                     14409                 franca             SP  \n",
       "1                      9790  sao bernardo do campo             SP  \n",
       "2                      1151              sao paulo             SP  \n",
       "3                      8775        mogi das cruzes             SP  \n",
       "4                     13056               campinas             SP  "
      ]
     },
     "execution_count": 3,
     "metadata": {},
     "output_type": "execute_result"
    }
   ],
   "source": [
    "customers.head()"
   ]
  },
  {
   "cell_type": "code",
   "execution_count": 4,
   "metadata": {},
   "outputs": [
    {
     "data": {
      "text/plain": [
       "(99441, 5)"
      ]
     },
     "execution_count": 4,
     "metadata": {},
     "output_type": "execute_result"
    }
   ],
   "source": [
    "customers.shape"
   ]
  },
  {
   "cell_type": "code",
   "execution_count": 5,
   "metadata": {},
   "outputs": [
    {
     "data": {
      "text/plain": [
       "customer_id                 0\n",
       "customer_unique_id          0\n",
       "customer_zip_code_prefix    0\n",
       "customer_city               0\n",
       "customer_state              0\n",
       "dtype: int64"
      ]
     },
     "execution_count": 5,
     "metadata": {},
     "output_type": "execute_result"
    }
   ],
   "source": [
    "customers.isna().sum()"
   ]
  },
  {
   "cell_type": "code",
   "execution_count": 6,
   "metadata": {},
   "outputs": [
    {
     "data": {
      "text/plain": [
       "0"
      ]
     },
     "execution_count": 6,
     "metadata": {},
     "output_type": "execute_result"
    }
   ],
   "source": [
    "customers.duplicated().sum()"
   ]
  },
  {
   "cell_type": "code",
   "execution_count": 7,
   "metadata": {},
   "outputs": [
    {
     "data": {
      "text/html": [
       "<div>\n",
       "<style scoped>\n",
       "    .dataframe tbody tr th:only-of-type {\n",
       "        vertical-align: middle;\n",
       "    }\n",
       "\n",
       "    .dataframe tbody tr th {\n",
       "        vertical-align: top;\n",
       "    }\n",
       "\n",
       "    .dataframe thead th {\n",
       "        text-align: right;\n",
       "    }\n",
       "</style>\n",
       "<table border=\"1\" class=\"dataframe\">\n",
       "  <thead>\n",
       "    <tr style=\"text-align: right;\">\n",
       "      <th></th>\n",
       "      <th>order_id</th>\n",
       "      <th>customer_id</th>\n",
       "      <th>order_status</th>\n",
       "      <th>order_purchase_timestamp</th>\n",
       "      <th>order_approved_at</th>\n",
       "      <th>order_delivered_carrier_date</th>\n",
       "      <th>order_delivered_customer_date</th>\n",
       "      <th>order_estimated_delivery_date</th>\n",
       "    </tr>\n",
       "  </thead>\n",
       "  <tbody>\n",
       "    <tr>\n",
       "      <th>0</th>\n",
       "      <td>e481f51cbdc54678b7cc49136f2d6af7</td>\n",
       "      <td>9ef432eb6251297304e76186b10a928d</td>\n",
       "      <td>delivered</td>\n",
       "      <td>2017-10-02 10:56:33</td>\n",
       "      <td>2017-10-02 11:07:15</td>\n",
       "      <td>2017-10-04 19:55:00</td>\n",
       "      <td>2017-10-10 21:25:13</td>\n",
       "      <td>2017-10-18</td>\n",
       "    </tr>\n",
       "    <tr>\n",
       "      <th>1</th>\n",
       "      <td>53cdb2fc8bc7dce0b6741e2150273451</td>\n",
       "      <td>b0830fb4747a6c6d20dea0b8c802d7ef</td>\n",
       "      <td>delivered</td>\n",
       "      <td>2018-07-24 20:41:37</td>\n",
       "      <td>2018-07-26 03:24:27</td>\n",
       "      <td>2018-07-26 14:31:00</td>\n",
       "      <td>2018-08-07 15:27:45</td>\n",
       "      <td>2018-08-13</td>\n",
       "    </tr>\n",
       "    <tr>\n",
       "      <th>2</th>\n",
       "      <td>47770eb9100c2d0c44946d9cf07ec65d</td>\n",
       "      <td>41ce2a54c0b03bf3443c3d931a367089</td>\n",
       "      <td>delivered</td>\n",
       "      <td>2018-08-08 08:38:49</td>\n",
       "      <td>2018-08-08 08:55:23</td>\n",
       "      <td>2018-08-08 13:50:00</td>\n",
       "      <td>2018-08-17 18:06:29</td>\n",
       "      <td>2018-09-04</td>\n",
       "    </tr>\n",
       "    <tr>\n",
       "      <th>3</th>\n",
       "      <td>949d5b44dbf5de918fe9c16f97b45f8a</td>\n",
       "      <td>f88197465ea7920adcdbec7375364d82</td>\n",
       "      <td>delivered</td>\n",
       "      <td>2017-11-18 19:28:06</td>\n",
       "      <td>2017-11-18 19:45:59</td>\n",
       "      <td>2017-11-22 13:39:59</td>\n",
       "      <td>2017-12-02 00:28:42</td>\n",
       "      <td>2017-12-15</td>\n",
       "    </tr>\n",
       "    <tr>\n",
       "      <th>4</th>\n",
       "      <td>ad21c59c0840e6cb83a9ceb5573f8159</td>\n",
       "      <td>8ab97904e6daea8866dbdbc4fb7aad2c</td>\n",
       "      <td>delivered</td>\n",
       "      <td>2018-02-13 21:18:39</td>\n",
       "      <td>2018-02-13 22:20:29</td>\n",
       "      <td>2018-02-14 19:46:34</td>\n",
       "      <td>2018-02-16 18:17:02</td>\n",
       "      <td>2018-02-26</td>\n",
       "    </tr>\n",
       "  </tbody>\n",
       "</table>\n",
       "</div>"
      ],
      "text/plain": [
       "                           order_id                       customer_id  \\\n",
       "0  e481f51cbdc54678b7cc49136f2d6af7  9ef432eb6251297304e76186b10a928d   \n",
       "1  53cdb2fc8bc7dce0b6741e2150273451  b0830fb4747a6c6d20dea0b8c802d7ef   \n",
       "2  47770eb9100c2d0c44946d9cf07ec65d  41ce2a54c0b03bf3443c3d931a367089   \n",
       "3  949d5b44dbf5de918fe9c16f97b45f8a  f88197465ea7920adcdbec7375364d82   \n",
       "4  ad21c59c0840e6cb83a9ceb5573f8159  8ab97904e6daea8866dbdbc4fb7aad2c   \n",
       "\n",
       "  order_status order_purchase_timestamp   order_approved_at  \\\n",
       "0    delivered      2017-10-02 10:56:33 2017-10-02 11:07:15   \n",
       "1    delivered      2018-07-24 20:41:37 2018-07-26 03:24:27   \n",
       "2    delivered      2018-08-08 08:38:49 2018-08-08 08:55:23   \n",
       "3    delivered      2017-11-18 19:28:06 2017-11-18 19:45:59   \n",
       "4    delivered      2018-02-13 21:18:39 2018-02-13 22:20:29   \n",
       "\n",
       "  order_delivered_carrier_date order_delivered_customer_date  \\\n",
       "0          2017-10-04 19:55:00           2017-10-10 21:25:13   \n",
       "1          2018-07-26 14:31:00           2018-08-07 15:27:45   \n",
       "2          2018-08-08 13:50:00           2018-08-17 18:06:29   \n",
       "3          2017-11-22 13:39:59           2017-12-02 00:28:42   \n",
       "4          2018-02-14 19:46:34           2018-02-16 18:17:02   \n",
       "\n",
       "  order_estimated_delivery_date  \n",
       "0                    2017-10-18  \n",
       "1                    2018-08-13  \n",
       "2                    2018-09-04  \n",
       "3                    2017-12-15  \n",
       "4                    2018-02-26  "
      ]
     },
     "execution_count": 7,
     "metadata": {},
     "output_type": "execute_result"
    }
   ],
   "source": [
    "orders.head()"
   ]
  },
  {
   "cell_type": "code",
   "execution_count": 8,
   "metadata": {},
   "outputs": [
    {
     "data": {
      "text/plain": [
       "(99441, 8)"
      ]
     },
     "execution_count": 8,
     "metadata": {},
     "output_type": "execute_result"
    }
   ],
   "source": [
    "orders.shape"
   ]
  },
  {
   "cell_type": "code",
   "execution_count": 9,
   "metadata": {},
   "outputs": [
    {
     "data": {
      "text/plain": [
       "order_id                                 object\n",
       "customer_id                              object\n",
       "order_status                             object\n",
       "order_purchase_timestamp         datetime64[ns]\n",
       "order_approved_at                datetime64[ns]\n",
       "order_delivered_carrier_date     datetime64[ns]\n",
       "order_delivered_customer_date    datetime64[ns]\n",
       "order_estimated_delivery_date    datetime64[ns]\n",
       "dtype: object"
      ]
     },
     "execution_count": 9,
     "metadata": {},
     "output_type": "execute_result"
    }
   ],
   "source": [
    "orders.dtypes"
   ]
  },
  {
   "cell_type": "code",
   "execution_count": 10,
   "metadata": {},
   "outputs": [
    {
     "data": {
      "text/plain": [
       "order_id                            0\n",
       "customer_id                         0\n",
       "order_status                        0\n",
       "order_purchase_timestamp            0\n",
       "order_approved_at                 160\n",
       "order_delivered_carrier_date     1783\n",
       "order_delivered_customer_date    2965\n",
       "order_estimated_delivery_date       0\n",
       "dtype: int64"
      ]
     },
     "execution_count": 10,
     "metadata": {},
     "output_type": "execute_result"
    }
   ],
   "source": [
    "orders.isna().sum()"
   ]
  },
  {
   "cell_type": "code",
   "execution_count": 11,
   "metadata": {},
   "outputs": [
    {
     "data": {
      "text/plain": [
       "0"
      ]
     },
     "execution_count": 11,
     "metadata": {},
     "output_type": "execute_result"
    }
   ],
   "source": [
    "orders.duplicated().sum()"
   ]
  },
  {
   "cell_type": "code",
   "execution_count": 12,
   "metadata": {},
   "outputs": [
    {
     "data": {
      "text/plain": [
       "delivered      96478\n",
       "shipped         1107\n",
       "canceled         625\n",
       "unavailable      609\n",
       "invoiced         314\n",
       "processing       301\n",
       "created            5\n",
       "approved           2\n",
       "Name: order_status, dtype: int64"
      ]
     },
     "execution_count": 12,
     "metadata": {},
     "output_type": "execute_result"
    }
   ],
   "source": [
    "orders.order_status.value_counts()"
   ]
  },
  {
   "cell_type": "code",
   "execution_count": 13,
   "metadata": {},
   "outputs": [
    {
     "data": {
      "text/html": [
       "<div>\n",
       "<style scoped>\n",
       "    .dataframe tbody tr th:only-of-type {\n",
       "        vertical-align: middle;\n",
       "    }\n",
       "\n",
       "    .dataframe tbody tr th {\n",
       "        vertical-align: top;\n",
       "    }\n",
       "\n",
       "    .dataframe thead th {\n",
       "        text-align: right;\n",
       "    }\n",
       "</style>\n",
       "<table border=\"1\" class=\"dataframe\">\n",
       "  <thead>\n",
       "    <tr style=\"text-align: right;\">\n",
       "      <th></th>\n",
       "      <th>order_id</th>\n",
       "      <th>order_item_id</th>\n",
       "      <th>product_id</th>\n",
       "      <th>seller_id</th>\n",
       "      <th>shipping_limit_date</th>\n",
       "      <th>price</th>\n",
       "      <th>freight_value</th>\n",
       "    </tr>\n",
       "  </thead>\n",
       "  <tbody>\n",
       "    <tr>\n",
       "      <th>0</th>\n",
       "      <td>00010242fe8c5a6d1ba2dd792cb16214</td>\n",
       "      <td>1</td>\n",
       "      <td>4244733e06e7ecb4970a6e2683c13e61</td>\n",
       "      <td>48436dade18ac8b2bce089ec2a041202</td>\n",
       "      <td>2017-09-19 09:45:35</td>\n",
       "      <td>58.90</td>\n",
       "      <td>13.29</td>\n",
       "    </tr>\n",
       "    <tr>\n",
       "      <th>1</th>\n",
       "      <td>00018f77f2f0320c557190d7a144bdd3</td>\n",
       "      <td>1</td>\n",
       "      <td>e5f2d52b802189ee658865ca93d83a8f</td>\n",
       "      <td>dd7ddc04e1b6c2c614352b383efe2d36</td>\n",
       "      <td>2017-05-03 11:05:13</td>\n",
       "      <td>239.90</td>\n",
       "      <td>19.93</td>\n",
       "    </tr>\n",
       "    <tr>\n",
       "      <th>2</th>\n",
       "      <td>000229ec398224ef6ca0657da4fc703e</td>\n",
       "      <td>1</td>\n",
       "      <td>c777355d18b72b67abbeef9df44fd0fd</td>\n",
       "      <td>5b51032eddd242adc84c38acab88f23d</td>\n",
       "      <td>2018-01-18 14:48:30</td>\n",
       "      <td>199.00</td>\n",
       "      <td>17.87</td>\n",
       "    </tr>\n",
       "    <tr>\n",
       "      <th>3</th>\n",
       "      <td>00024acbcdf0a6daa1e931b038114c75</td>\n",
       "      <td>1</td>\n",
       "      <td>7634da152a4610f1595efa32f14722fc</td>\n",
       "      <td>9d7a1d34a5052409006425275ba1c2b4</td>\n",
       "      <td>2018-08-15 10:10:18</td>\n",
       "      <td>12.99</td>\n",
       "      <td>12.79</td>\n",
       "    </tr>\n",
       "    <tr>\n",
       "      <th>4</th>\n",
       "      <td>00042b26cf59d7ce69dfabb4e55b4fd9</td>\n",
       "      <td>1</td>\n",
       "      <td>ac6c3623068f30de03045865e4e10089</td>\n",
       "      <td>df560393f3a51e74553ab94004ba5c87</td>\n",
       "      <td>2017-02-13 13:57:51</td>\n",
       "      <td>199.90</td>\n",
       "      <td>18.14</td>\n",
       "    </tr>\n",
       "  </tbody>\n",
       "</table>\n",
       "</div>"
      ],
      "text/plain": [
       "                           order_id  order_item_id  \\\n",
       "0  00010242fe8c5a6d1ba2dd792cb16214              1   \n",
       "1  00018f77f2f0320c557190d7a144bdd3              1   \n",
       "2  000229ec398224ef6ca0657da4fc703e              1   \n",
       "3  00024acbcdf0a6daa1e931b038114c75              1   \n",
       "4  00042b26cf59d7ce69dfabb4e55b4fd9              1   \n",
       "\n",
       "                         product_id                         seller_id  \\\n",
       "0  4244733e06e7ecb4970a6e2683c13e61  48436dade18ac8b2bce089ec2a041202   \n",
       "1  e5f2d52b802189ee658865ca93d83a8f  dd7ddc04e1b6c2c614352b383efe2d36   \n",
       "2  c777355d18b72b67abbeef9df44fd0fd  5b51032eddd242adc84c38acab88f23d   \n",
       "3  7634da152a4610f1595efa32f14722fc  9d7a1d34a5052409006425275ba1c2b4   \n",
       "4  ac6c3623068f30de03045865e4e10089  df560393f3a51e74553ab94004ba5c87   \n",
       "\n",
       "  shipping_limit_date   price  freight_value  \n",
       "0 2017-09-19 09:45:35   58.90          13.29  \n",
       "1 2017-05-03 11:05:13  239.90          19.93  \n",
       "2 2018-01-18 14:48:30  199.00          17.87  \n",
       "3 2018-08-15 10:10:18   12.99          12.79  \n",
       "4 2017-02-13 13:57:51  199.90          18.14  "
      ]
     },
     "execution_count": 13,
     "metadata": {},
     "output_type": "execute_result"
    }
   ],
   "source": [
    "items.head()"
   ]
  },
  {
   "cell_type": "code",
   "execution_count": 14,
   "metadata": {},
   "outputs": [
    {
     "data": {
      "text/plain": [
       "(112650, 7)"
      ]
     },
     "execution_count": 14,
     "metadata": {},
     "output_type": "execute_result"
    }
   ],
   "source": [
    "items.shape"
   ]
  },
  {
   "cell_type": "code",
   "execution_count": 15,
   "metadata": {},
   "outputs": [
    {
     "data": {
      "text/plain": [
       "order_id               0\n",
       "order_item_id          0\n",
       "product_id             0\n",
       "seller_id              0\n",
       "shipping_limit_date    0\n",
       "price                  0\n",
       "freight_value          0\n",
       "dtype: int64"
      ]
     },
     "execution_count": 15,
     "metadata": {},
     "output_type": "execute_result"
    }
   ],
   "source": [
    "items.isna().sum()"
   ]
  },
  {
   "cell_type": "code",
   "execution_count": 16,
   "metadata": {},
   "outputs": [
    {
     "data": {
      "text/plain": [
       "0"
      ]
     },
     "execution_count": 16,
     "metadata": {},
     "output_type": "execute_result"
    }
   ],
   "source": [
    "items.duplicated().sum()"
   ]
  },
  {
   "cell_type": "markdown",
   "metadata": {},
   "source": [
    "Заранее создадим датафрейм, в котором будут лежать данные по необходимым нам стобцам."
   ]
  },
  {
   "cell_type": "code",
   "execution_count": 17,
   "metadata": {},
   "outputs": [
    {
     "data": {
      "text/html": [
       "<div>\n",
       "<style scoped>\n",
       "    .dataframe tbody tr th:only-of-type {\n",
       "        vertical-align: middle;\n",
       "    }\n",
       "\n",
       "    .dataframe tbody tr th {\n",
       "        vertical-align: top;\n",
       "    }\n",
       "\n",
       "    .dataframe thead th {\n",
       "        text-align: right;\n",
       "    }\n",
       "</style>\n",
       "<table border=\"1\" class=\"dataframe\">\n",
       "  <thead>\n",
       "    <tr style=\"text-align: right;\">\n",
       "      <th></th>\n",
       "      <th>customer_id</th>\n",
       "      <th>customer_unique_id</th>\n",
       "    </tr>\n",
       "  </thead>\n",
       "  <tbody>\n",
       "    <tr>\n",
       "      <th>0</th>\n",
       "      <td>06b8999e2fba1a1fbc88172c00ba8bc7</td>\n",
       "      <td>861eff4711a542e4b93843c6dd7febb0</td>\n",
       "    </tr>\n",
       "    <tr>\n",
       "      <th>1</th>\n",
       "      <td>18955e83d337fd6b2def6b18a428ac77</td>\n",
       "      <td>290c77bc529b7ac935b93aa66c333dc3</td>\n",
       "    </tr>\n",
       "    <tr>\n",
       "      <th>2</th>\n",
       "      <td>4e7b3e00288586ebd08712fdd0374a03</td>\n",
       "      <td>060e732b5b29e8181a18229c7b0b2b5e</td>\n",
       "    </tr>\n",
       "    <tr>\n",
       "      <th>3</th>\n",
       "      <td>b2b6027bc5c5109e529d4dc6358b12c3</td>\n",
       "      <td>259dac757896d24d7702b9acbbff3f3c</td>\n",
       "    </tr>\n",
       "    <tr>\n",
       "      <th>4</th>\n",
       "      <td>4f2d8ab171c80ec8364f7c12e35b23ad</td>\n",
       "      <td>345ecd01c38d18a9036ed96c73b8d066</td>\n",
       "    </tr>\n",
       "  </tbody>\n",
       "</table>\n",
       "</div>"
      ],
      "text/plain": [
       "                        customer_id                customer_unique_id\n",
       "0  06b8999e2fba1a1fbc88172c00ba8bc7  861eff4711a542e4b93843c6dd7febb0\n",
       "1  18955e83d337fd6b2def6b18a428ac77  290c77bc529b7ac935b93aa66c333dc3\n",
       "2  4e7b3e00288586ebd08712fdd0374a03  060e732b5b29e8181a18229c7b0b2b5e\n",
       "3  b2b6027bc5c5109e529d4dc6358b12c3  259dac757896d24d7702b9acbbff3f3c\n",
       "4  4f2d8ab171c80ec8364f7c12e35b23ad  345ecd01c38d18a9036ed96c73b8d066"
      ]
     },
     "execution_count": 17,
     "metadata": {},
     "output_type": "execute_result"
    }
   ],
   "source": [
    "customers_df = customers[['customer_id', 'customer_unique_id']]\n",
    "customers_df.head()"
   ]
  },
  {
   "cell_type": "code",
   "execution_count": 18,
   "metadata": {},
   "outputs": [
    {
     "data": {
      "text/html": [
       "<div>\n",
       "<style scoped>\n",
       "    .dataframe tbody tr th:only-of-type {\n",
       "        vertical-align: middle;\n",
       "    }\n",
       "\n",
       "    .dataframe tbody tr th {\n",
       "        vertical-align: top;\n",
       "    }\n",
       "\n",
       "    .dataframe thead th {\n",
       "        text-align: right;\n",
       "    }\n",
       "</style>\n",
       "<table border=\"1\" class=\"dataframe\">\n",
       "  <thead>\n",
       "    <tr style=\"text-align: right;\">\n",
       "      <th></th>\n",
       "      <th>order_id</th>\n",
       "      <th>customer_id</th>\n",
       "      <th>order_status</th>\n",
       "      <th>order_purchase</th>\n",
       "      <th>order_delivered</th>\n",
       "      <th>estimated_delivery_date</th>\n",
       "      <th>purchase_date</th>\n",
       "      <th>delivered_date</th>\n",
       "    </tr>\n",
       "  </thead>\n",
       "  <tbody>\n",
       "    <tr>\n",
       "      <th>0</th>\n",
       "      <td>e481f51cbdc54678b7cc49136f2d6af7</td>\n",
       "      <td>9ef432eb6251297304e76186b10a928d</td>\n",
       "      <td>delivered</td>\n",
       "      <td>2017-10-02</td>\n",
       "      <td>2017-10-10</td>\n",
       "      <td>2017-10-18</td>\n",
       "      <td>2017-10-01</td>\n",
       "      <td>2017-10-01</td>\n",
       "    </tr>\n",
       "    <tr>\n",
       "      <th>1</th>\n",
       "      <td>53cdb2fc8bc7dce0b6741e2150273451</td>\n",
       "      <td>b0830fb4747a6c6d20dea0b8c802d7ef</td>\n",
       "      <td>delivered</td>\n",
       "      <td>2018-07-24</td>\n",
       "      <td>2018-08-07</td>\n",
       "      <td>2018-08-13</td>\n",
       "      <td>2018-07-01</td>\n",
       "      <td>2018-08-01</td>\n",
       "    </tr>\n",
       "    <tr>\n",
       "      <th>2</th>\n",
       "      <td>47770eb9100c2d0c44946d9cf07ec65d</td>\n",
       "      <td>41ce2a54c0b03bf3443c3d931a367089</td>\n",
       "      <td>delivered</td>\n",
       "      <td>2018-08-08</td>\n",
       "      <td>2018-08-17</td>\n",
       "      <td>2018-09-04</td>\n",
       "      <td>2018-08-01</td>\n",
       "      <td>2018-08-01</td>\n",
       "    </tr>\n",
       "    <tr>\n",
       "      <th>3</th>\n",
       "      <td>949d5b44dbf5de918fe9c16f97b45f8a</td>\n",
       "      <td>f88197465ea7920adcdbec7375364d82</td>\n",
       "      <td>delivered</td>\n",
       "      <td>2017-11-18</td>\n",
       "      <td>2017-12-02</td>\n",
       "      <td>2017-12-15</td>\n",
       "      <td>2017-11-01</td>\n",
       "      <td>2017-12-01</td>\n",
       "    </tr>\n",
       "    <tr>\n",
       "      <th>4</th>\n",
       "      <td>ad21c59c0840e6cb83a9ceb5573f8159</td>\n",
       "      <td>8ab97904e6daea8866dbdbc4fb7aad2c</td>\n",
       "      <td>delivered</td>\n",
       "      <td>2018-02-13</td>\n",
       "      <td>2018-02-16</td>\n",
       "      <td>2018-02-26</td>\n",
       "      <td>2018-02-01</td>\n",
       "      <td>2018-02-01</td>\n",
       "    </tr>\n",
       "  </tbody>\n",
       "</table>\n",
       "</div>"
      ],
      "text/plain": [
       "                           order_id                       customer_id  \\\n",
       "0  e481f51cbdc54678b7cc49136f2d6af7  9ef432eb6251297304e76186b10a928d   \n",
       "1  53cdb2fc8bc7dce0b6741e2150273451  b0830fb4747a6c6d20dea0b8c802d7ef   \n",
       "2  47770eb9100c2d0c44946d9cf07ec65d  41ce2a54c0b03bf3443c3d931a367089   \n",
       "3  949d5b44dbf5de918fe9c16f97b45f8a  f88197465ea7920adcdbec7375364d82   \n",
       "4  ad21c59c0840e6cb83a9ceb5573f8159  8ab97904e6daea8866dbdbc4fb7aad2c   \n",
       "\n",
       "  order_status order_purchase order_delivered estimated_delivery_date  \\\n",
       "0    delivered     2017-10-02      2017-10-10              2017-10-18   \n",
       "1    delivered     2018-07-24      2018-08-07              2018-08-13   \n",
       "2    delivered     2018-08-08      2018-08-17              2018-09-04   \n",
       "3    delivered     2017-11-18      2017-12-02              2017-12-15   \n",
       "4    delivered     2018-02-13      2018-02-16              2018-02-26   \n",
       "\n",
       "  purchase_date delivered_date  \n",
       "0    2017-10-01     2017-10-01  \n",
       "1    2018-07-01     2018-08-01  \n",
       "2    2018-08-01     2018-08-01  \n",
       "3    2017-11-01     2017-12-01  \n",
       "4    2018-02-01     2018-02-01  "
      ]
     },
     "execution_count": 18,
     "metadata": {},
     "output_type": "execute_result"
    }
   ],
   "source": [
    "orders_df = orders[['order_id', 'customer_id', 'order_status',\n",
    "                    'order_purchase_timestamp', 'order_delivered_customer_date', 'order_estimated_delivery_date']]\n",
    "orders_df = orders_df.rename(columns = {'order_purchase_timestamp' : 'order_purchase',\n",
    "                                       'order_delivered_customer_date' : 'order_delivered',\n",
    "                                       'order_estimated_delivery_date' : 'estimated_delivery_date'})\n",
    "\n",
    "#Удалим часы, минуты и секунды в стобцах order_purchase и order_delivered\n",
    "orders_df['order_purchase'] = pd.to_datetime(orders_df['order_purchase'].dt.date)\n",
    "orders_df['order_delivered'] = pd.to_datetime(orders_df['order_delivered'].dt.date)\n",
    "\n",
    "# Также сразу добавлю столбы с датой, когда был совершен первый заказ и и первая доставка\n",
    "orders_df['purchase_date'] = pd.to_datetime(orders_df.order_purchase.dt.strftime('%Y-%m-01'))\n",
    "orders_df['delivered_date'] = pd.to_datetime(orders_df.order_delivered.dt.strftime('%Y-%m-01'))\n",
    "\n",
    "orders_df.head()"
   ]
  },
  {
   "cell_type": "code",
   "execution_count": 19,
   "metadata": {},
   "outputs": [
    {
     "data": {
      "text/html": [
       "<div>\n",
       "<style scoped>\n",
       "    .dataframe tbody tr th:only-of-type {\n",
       "        vertical-align: middle;\n",
       "    }\n",
       "\n",
       "    .dataframe tbody tr th {\n",
       "        vertical-align: top;\n",
       "    }\n",
       "\n",
       "    .dataframe thead th {\n",
       "        text-align: right;\n",
       "    }\n",
       "</style>\n",
       "<table border=\"1\" class=\"dataframe\">\n",
       "  <thead>\n",
       "    <tr style=\"text-align: right;\">\n",
       "      <th></th>\n",
       "      <th>order_id</th>\n",
       "      <th>product_id</th>\n",
       "      <th>price</th>\n",
       "      <th>quantity</th>\n",
       "    </tr>\n",
       "  </thead>\n",
       "  <tbody>\n",
       "    <tr>\n",
       "      <th>0</th>\n",
       "      <td>00010242fe8c5a6d1ba2dd792cb16214</td>\n",
       "      <td>4244733e06e7ecb4970a6e2683c13e61</td>\n",
       "      <td>58.90</td>\n",
       "      <td>1</td>\n",
       "    </tr>\n",
       "    <tr>\n",
       "      <th>1</th>\n",
       "      <td>00018f77f2f0320c557190d7a144bdd3</td>\n",
       "      <td>e5f2d52b802189ee658865ca93d83a8f</td>\n",
       "      <td>239.90</td>\n",
       "      <td>1</td>\n",
       "    </tr>\n",
       "    <tr>\n",
       "      <th>2</th>\n",
       "      <td>000229ec398224ef6ca0657da4fc703e</td>\n",
       "      <td>c777355d18b72b67abbeef9df44fd0fd</td>\n",
       "      <td>199.00</td>\n",
       "      <td>1</td>\n",
       "    </tr>\n",
       "    <tr>\n",
       "      <th>3</th>\n",
       "      <td>00024acbcdf0a6daa1e931b038114c75</td>\n",
       "      <td>7634da152a4610f1595efa32f14722fc</td>\n",
       "      <td>12.99</td>\n",
       "      <td>1</td>\n",
       "    </tr>\n",
       "    <tr>\n",
       "      <th>4</th>\n",
       "      <td>00042b26cf59d7ce69dfabb4e55b4fd9</td>\n",
       "      <td>ac6c3623068f30de03045865e4e10089</td>\n",
       "      <td>199.90</td>\n",
       "      <td>1</td>\n",
       "    </tr>\n",
       "  </tbody>\n",
       "</table>\n",
       "</div>"
      ],
      "text/plain": [
       "                           order_id                        product_id   price  \\\n",
       "0  00010242fe8c5a6d1ba2dd792cb16214  4244733e06e7ecb4970a6e2683c13e61   58.90   \n",
       "1  00018f77f2f0320c557190d7a144bdd3  e5f2d52b802189ee658865ca93d83a8f  239.90   \n",
       "2  000229ec398224ef6ca0657da4fc703e  c777355d18b72b67abbeef9df44fd0fd  199.00   \n",
       "3  00024acbcdf0a6daa1e931b038114c75  7634da152a4610f1595efa32f14722fc   12.99   \n",
       "4  00042b26cf59d7ce69dfabb4e55b4fd9  ac6c3623068f30de03045865e4e10089  199.90   \n",
       "\n",
       "   quantity  \n",
       "0         1  \n",
       "1         1  \n",
       "2         1  \n",
       "3         1  \n",
       "4         1  "
      ]
     },
     "execution_count": 19,
     "metadata": {},
     "output_type": "execute_result"
    }
   ],
   "source": [
    "items_df = items.groupby(['order_id', 'product_id', 'price'], as_index=False) \\\n",
    "                .agg({'order_item_id': 'count'}) \\\n",
    "                .rename(columns = {'order_item_id' : 'quantity'})\n",
    "items_df.head()             "
   ]
  },
  {
   "cell_type": "markdown",
   "metadata": {},
   "source": [
    "Смерджим датафреймы orders_df и items_df"
   ]
  },
  {
   "cell_type": "code",
   "execution_count": 20,
   "metadata": {},
   "outputs": [
    {
     "data": {
      "text/html": [
       "<div>\n",
       "<style scoped>\n",
       "    .dataframe tbody tr th:only-of-type {\n",
       "        vertical-align: middle;\n",
       "    }\n",
       "\n",
       "    .dataframe tbody tr th {\n",
       "        vertical-align: top;\n",
       "    }\n",
       "\n",
       "    .dataframe thead th {\n",
       "        text-align: right;\n",
       "    }\n",
       "</style>\n",
       "<table border=\"1\" class=\"dataframe\">\n",
       "  <thead>\n",
       "    <tr style=\"text-align: right;\">\n",
       "      <th></th>\n",
       "      <th>order_id</th>\n",
       "      <th>customer_id</th>\n",
       "      <th>order_status</th>\n",
       "      <th>order_purchase</th>\n",
       "      <th>order_delivered</th>\n",
       "      <th>estimated_delivery_date</th>\n",
       "      <th>purchase_date</th>\n",
       "      <th>delivered_date</th>\n",
       "      <th>product_id</th>\n",
       "      <th>price</th>\n",
       "      <th>quantity</th>\n",
       "    </tr>\n",
       "  </thead>\n",
       "  <tbody>\n",
       "    <tr>\n",
       "      <th>0</th>\n",
       "      <td>e481f51cbdc54678b7cc49136f2d6af7</td>\n",
       "      <td>9ef432eb6251297304e76186b10a928d</td>\n",
       "      <td>delivered</td>\n",
       "      <td>2017-10-02</td>\n",
       "      <td>2017-10-10</td>\n",
       "      <td>2017-10-18</td>\n",
       "      <td>2017-10-01</td>\n",
       "      <td>2017-10-01</td>\n",
       "      <td>87285b34884572647811a353c7ac498a</td>\n",
       "      <td>29.99</td>\n",
       "      <td>1.0</td>\n",
       "    </tr>\n",
       "    <tr>\n",
       "      <th>1</th>\n",
       "      <td>53cdb2fc8bc7dce0b6741e2150273451</td>\n",
       "      <td>b0830fb4747a6c6d20dea0b8c802d7ef</td>\n",
       "      <td>delivered</td>\n",
       "      <td>2018-07-24</td>\n",
       "      <td>2018-08-07</td>\n",
       "      <td>2018-08-13</td>\n",
       "      <td>2018-07-01</td>\n",
       "      <td>2018-08-01</td>\n",
       "      <td>595fac2a385ac33a80bd5114aec74eb8</td>\n",
       "      <td>118.70</td>\n",
       "      <td>1.0</td>\n",
       "    </tr>\n",
       "    <tr>\n",
       "      <th>2</th>\n",
       "      <td>47770eb9100c2d0c44946d9cf07ec65d</td>\n",
       "      <td>41ce2a54c0b03bf3443c3d931a367089</td>\n",
       "      <td>delivered</td>\n",
       "      <td>2018-08-08</td>\n",
       "      <td>2018-08-17</td>\n",
       "      <td>2018-09-04</td>\n",
       "      <td>2018-08-01</td>\n",
       "      <td>2018-08-01</td>\n",
       "      <td>aa4383b373c6aca5d8797843e5594415</td>\n",
       "      <td>159.90</td>\n",
       "      <td>1.0</td>\n",
       "    </tr>\n",
       "    <tr>\n",
       "      <th>3</th>\n",
       "      <td>949d5b44dbf5de918fe9c16f97b45f8a</td>\n",
       "      <td>f88197465ea7920adcdbec7375364d82</td>\n",
       "      <td>delivered</td>\n",
       "      <td>2017-11-18</td>\n",
       "      <td>2017-12-02</td>\n",
       "      <td>2017-12-15</td>\n",
       "      <td>2017-11-01</td>\n",
       "      <td>2017-12-01</td>\n",
       "      <td>d0b61bfb1de832b15ba9d266ca96e5b0</td>\n",
       "      <td>45.00</td>\n",
       "      <td>1.0</td>\n",
       "    </tr>\n",
       "    <tr>\n",
       "      <th>4</th>\n",
       "      <td>ad21c59c0840e6cb83a9ceb5573f8159</td>\n",
       "      <td>8ab97904e6daea8866dbdbc4fb7aad2c</td>\n",
       "      <td>delivered</td>\n",
       "      <td>2018-02-13</td>\n",
       "      <td>2018-02-16</td>\n",
       "      <td>2018-02-26</td>\n",
       "      <td>2018-02-01</td>\n",
       "      <td>2018-02-01</td>\n",
       "      <td>65266b2da20d04dbe00c5c2d3bb7859e</td>\n",
       "      <td>19.90</td>\n",
       "      <td>1.0</td>\n",
       "    </tr>\n",
       "  </tbody>\n",
       "</table>\n",
       "</div>"
      ],
      "text/plain": [
       "                           order_id                       customer_id  \\\n",
       "0  e481f51cbdc54678b7cc49136f2d6af7  9ef432eb6251297304e76186b10a928d   \n",
       "1  53cdb2fc8bc7dce0b6741e2150273451  b0830fb4747a6c6d20dea0b8c802d7ef   \n",
       "2  47770eb9100c2d0c44946d9cf07ec65d  41ce2a54c0b03bf3443c3d931a367089   \n",
       "3  949d5b44dbf5de918fe9c16f97b45f8a  f88197465ea7920adcdbec7375364d82   \n",
       "4  ad21c59c0840e6cb83a9ceb5573f8159  8ab97904e6daea8866dbdbc4fb7aad2c   \n",
       "\n",
       "  order_status order_purchase order_delivered estimated_delivery_date  \\\n",
       "0    delivered     2017-10-02      2017-10-10              2017-10-18   \n",
       "1    delivered     2018-07-24      2018-08-07              2018-08-13   \n",
       "2    delivered     2018-08-08      2018-08-17              2018-09-04   \n",
       "3    delivered     2017-11-18      2017-12-02              2017-12-15   \n",
       "4    delivered     2018-02-13      2018-02-16              2018-02-26   \n",
       "\n",
       "  purchase_date delivered_date                        product_id   price  \\\n",
       "0    2017-10-01     2017-10-01  87285b34884572647811a353c7ac498a   29.99   \n",
       "1    2018-07-01     2018-08-01  595fac2a385ac33a80bd5114aec74eb8  118.70   \n",
       "2    2018-08-01     2018-08-01  aa4383b373c6aca5d8797843e5594415  159.90   \n",
       "3    2017-11-01     2017-12-01  d0b61bfb1de832b15ba9d266ca96e5b0   45.00   \n",
       "4    2018-02-01     2018-02-01  65266b2da20d04dbe00c5c2d3bb7859e   19.90   \n",
       "\n",
       "   quantity  \n",
       "0       1.0  \n",
       "1       1.0  \n",
       "2       1.0  \n",
       "3       1.0  \n",
       "4       1.0  "
      ]
     },
     "execution_count": 20,
     "metadata": {},
     "output_type": "execute_result"
    }
   ],
   "source": [
    "df_merged = orders_df.merge(items_df, how='left', on='order_id')\n",
    "df_merged.head()"
   ]
  },
  {
   "cell_type": "markdown",
   "metadata": {},
   "source": [
    "Теперь смерджим получившийся датафрейм с customers_df"
   ]
  },
  {
   "cell_type": "code",
   "execution_count": 21,
   "metadata": {},
   "outputs": [
    {
     "data": {
      "text/html": [
       "<div>\n",
       "<style scoped>\n",
       "    .dataframe tbody tr th:only-of-type {\n",
       "        vertical-align: middle;\n",
       "    }\n",
       "\n",
       "    .dataframe tbody tr th {\n",
       "        vertical-align: top;\n",
       "    }\n",
       "\n",
       "    .dataframe thead th {\n",
       "        text-align: right;\n",
       "    }\n",
       "</style>\n",
       "<table border=\"1\" class=\"dataframe\">\n",
       "  <thead>\n",
       "    <tr style=\"text-align: right;\">\n",
       "      <th></th>\n",
       "      <th>order_id</th>\n",
       "      <th>customer_id</th>\n",
       "      <th>order_status</th>\n",
       "      <th>order_purchase</th>\n",
       "      <th>order_delivered</th>\n",
       "      <th>estimated_delivery_date</th>\n",
       "      <th>purchase_date</th>\n",
       "      <th>delivered_date</th>\n",
       "      <th>product_id</th>\n",
       "      <th>price</th>\n",
       "      <th>quantity</th>\n",
       "      <th>customer_unique_id</th>\n",
       "    </tr>\n",
       "  </thead>\n",
       "  <tbody>\n",
       "    <tr>\n",
       "      <th>0</th>\n",
       "      <td>e481f51cbdc54678b7cc49136f2d6af7</td>\n",
       "      <td>9ef432eb6251297304e76186b10a928d</td>\n",
       "      <td>delivered</td>\n",
       "      <td>2017-10-02</td>\n",
       "      <td>2017-10-10</td>\n",
       "      <td>2017-10-18</td>\n",
       "      <td>2017-10-01</td>\n",
       "      <td>2017-10-01</td>\n",
       "      <td>87285b34884572647811a353c7ac498a</td>\n",
       "      <td>29.99</td>\n",
       "      <td>1.0</td>\n",
       "      <td>7c396fd4830fd04220f754e42b4e5bff</td>\n",
       "    </tr>\n",
       "    <tr>\n",
       "      <th>1</th>\n",
       "      <td>53cdb2fc8bc7dce0b6741e2150273451</td>\n",
       "      <td>b0830fb4747a6c6d20dea0b8c802d7ef</td>\n",
       "      <td>delivered</td>\n",
       "      <td>2018-07-24</td>\n",
       "      <td>2018-08-07</td>\n",
       "      <td>2018-08-13</td>\n",
       "      <td>2018-07-01</td>\n",
       "      <td>2018-08-01</td>\n",
       "      <td>595fac2a385ac33a80bd5114aec74eb8</td>\n",
       "      <td>118.70</td>\n",
       "      <td>1.0</td>\n",
       "      <td>af07308b275d755c9edb36a90c618231</td>\n",
       "    </tr>\n",
       "    <tr>\n",
       "      <th>2</th>\n",
       "      <td>47770eb9100c2d0c44946d9cf07ec65d</td>\n",
       "      <td>41ce2a54c0b03bf3443c3d931a367089</td>\n",
       "      <td>delivered</td>\n",
       "      <td>2018-08-08</td>\n",
       "      <td>2018-08-17</td>\n",
       "      <td>2018-09-04</td>\n",
       "      <td>2018-08-01</td>\n",
       "      <td>2018-08-01</td>\n",
       "      <td>aa4383b373c6aca5d8797843e5594415</td>\n",
       "      <td>159.90</td>\n",
       "      <td>1.0</td>\n",
       "      <td>3a653a41f6f9fc3d2a113cf8398680e8</td>\n",
       "    </tr>\n",
       "    <tr>\n",
       "      <th>3</th>\n",
       "      <td>949d5b44dbf5de918fe9c16f97b45f8a</td>\n",
       "      <td>f88197465ea7920adcdbec7375364d82</td>\n",
       "      <td>delivered</td>\n",
       "      <td>2017-11-18</td>\n",
       "      <td>2017-12-02</td>\n",
       "      <td>2017-12-15</td>\n",
       "      <td>2017-11-01</td>\n",
       "      <td>2017-12-01</td>\n",
       "      <td>d0b61bfb1de832b15ba9d266ca96e5b0</td>\n",
       "      <td>45.00</td>\n",
       "      <td>1.0</td>\n",
       "      <td>7c142cf63193a1473d2e66489a9ae977</td>\n",
       "    </tr>\n",
       "    <tr>\n",
       "      <th>4</th>\n",
       "      <td>ad21c59c0840e6cb83a9ceb5573f8159</td>\n",
       "      <td>8ab97904e6daea8866dbdbc4fb7aad2c</td>\n",
       "      <td>delivered</td>\n",
       "      <td>2018-02-13</td>\n",
       "      <td>2018-02-16</td>\n",
       "      <td>2018-02-26</td>\n",
       "      <td>2018-02-01</td>\n",
       "      <td>2018-02-01</td>\n",
       "      <td>65266b2da20d04dbe00c5c2d3bb7859e</td>\n",
       "      <td>19.90</td>\n",
       "      <td>1.0</td>\n",
       "      <td>72632f0f9dd73dfee390c9b22eb56dd6</td>\n",
       "    </tr>\n",
       "  </tbody>\n",
       "</table>\n",
       "</div>"
      ],
      "text/plain": [
       "                           order_id                       customer_id  \\\n",
       "0  e481f51cbdc54678b7cc49136f2d6af7  9ef432eb6251297304e76186b10a928d   \n",
       "1  53cdb2fc8bc7dce0b6741e2150273451  b0830fb4747a6c6d20dea0b8c802d7ef   \n",
       "2  47770eb9100c2d0c44946d9cf07ec65d  41ce2a54c0b03bf3443c3d931a367089   \n",
       "3  949d5b44dbf5de918fe9c16f97b45f8a  f88197465ea7920adcdbec7375364d82   \n",
       "4  ad21c59c0840e6cb83a9ceb5573f8159  8ab97904e6daea8866dbdbc4fb7aad2c   \n",
       "\n",
       "  order_status order_purchase order_delivered estimated_delivery_date  \\\n",
       "0    delivered     2017-10-02      2017-10-10              2017-10-18   \n",
       "1    delivered     2018-07-24      2018-08-07              2018-08-13   \n",
       "2    delivered     2018-08-08      2018-08-17              2018-09-04   \n",
       "3    delivered     2017-11-18      2017-12-02              2017-12-15   \n",
       "4    delivered     2018-02-13      2018-02-16              2018-02-26   \n",
       "\n",
       "  purchase_date delivered_date                        product_id   price  \\\n",
       "0    2017-10-01     2017-10-01  87285b34884572647811a353c7ac498a   29.99   \n",
       "1    2018-07-01     2018-08-01  595fac2a385ac33a80bd5114aec74eb8  118.70   \n",
       "2    2018-08-01     2018-08-01  aa4383b373c6aca5d8797843e5594415  159.90   \n",
       "3    2017-11-01     2017-12-01  d0b61bfb1de832b15ba9d266ca96e5b0   45.00   \n",
       "4    2018-02-01     2018-02-01  65266b2da20d04dbe00c5c2d3bb7859e   19.90   \n",
       "\n",
       "   quantity                customer_unique_id  \n",
       "0       1.0  7c396fd4830fd04220f754e42b4e5bff  \n",
       "1       1.0  af07308b275d755c9edb36a90c618231  \n",
       "2       1.0  3a653a41f6f9fc3d2a113cf8398680e8  \n",
       "3       1.0  7c142cf63193a1473d2e66489a9ae977  \n",
       "4       1.0  72632f0f9dd73dfee390c9b22eb56dd6  "
      ]
     },
     "execution_count": 21,
     "metadata": {},
     "output_type": "execute_result"
    }
   ],
   "source": [
    "df_merged = df_merged.merge(customers_df, how='left', on='customer_id')\n",
    "df_merged.head()"
   ]
  },
  {
   "cell_type": "code",
   "execution_count": 22,
   "metadata": {},
   "outputs": [
    {
     "data": {
      "text/plain": [
       "(103200, 12)"
      ]
     },
     "execution_count": 22,
     "metadata": {},
     "output_type": "execute_result"
    }
   ],
   "source": [
    "df_merged.shape"
   ]
  },
  {
   "cell_type": "markdown",
   "metadata": {},
   "source": [
    "1. Сколько у нас пользователей, которые совершили покупку только один раз?\n",
    "\n",
    "Покупкой будем считать наличие чека (внезависимости от того, что в чеке может находится несколько предметов) и заказы со статусом delivered."
   ]
  },
  {
   "cell_type": "code",
   "execution_count": 23,
   "metadata": {},
   "outputs": [],
   "source": [
    "task_1 = df_merged.copy()"
   ]
  },
  {
   "cell_type": "code",
   "execution_count": 24,
   "metadata": {},
   "outputs": [
    {
     "data": {
      "text/html": [
       "<div>\n",
       "<style scoped>\n",
       "    .dataframe tbody tr th:only-of-type {\n",
       "        vertical-align: middle;\n",
       "    }\n",
       "\n",
       "    .dataframe tbody tr th {\n",
       "        vertical-align: top;\n",
       "    }\n",
       "\n",
       "    .dataframe thead th {\n",
       "        text-align: right;\n",
       "    }\n",
       "</style>\n",
       "<table border=\"1\" class=\"dataframe\">\n",
       "  <thead>\n",
       "    <tr style=\"text-align: right;\">\n",
       "      <th></th>\n",
       "      <th>order_id</th>\n",
       "      <th>customer_id</th>\n",
       "      <th>order_status</th>\n",
       "      <th>order_purchase</th>\n",
       "      <th>order_delivered</th>\n",
       "      <th>estimated_delivery_date</th>\n",
       "      <th>purchase_date</th>\n",
       "      <th>delivered_date</th>\n",
       "      <th>product_id</th>\n",
       "      <th>price</th>\n",
       "      <th>quantity</th>\n",
       "      <th>customer_unique_id</th>\n",
       "    </tr>\n",
       "  </thead>\n",
       "  <tbody>\n",
       "    <tr>\n",
       "      <th>0</th>\n",
       "      <td>e481f51cbdc54678b7cc49136f2d6af7</td>\n",
       "      <td>9ef432eb6251297304e76186b10a928d</td>\n",
       "      <td>delivered</td>\n",
       "      <td>2017-10-02</td>\n",
       "      <td>2017-10-10</td>\n",
       "      <td>2017-10-18</td>\n",
       "      <td>2017-10-01</td>\n",
       "      <td>2017-10-01</td>\n",
       "      <td>87285b34884572647811a353c7ac498a</td>\n",
       "      <td>29.99</td>\n",
       "      <td>1.0</td>\n",
       "      <td>7c396fd4830fd04220f754e42b4e5bff</td>\n",
       "    </tr>\n",
       "    <tr>\n",
       "      <th>1</th>\n",
       "      <td>53cdb2fc8bc7dce0b6741e2150273451</td>\n",
       "      <td>b0830fb4747a6c6d20dea0b8c802d7ef</td>\n",
       "      <td>delivered</td>\n",
       "      <td>2018-07-24</td>\n",
       "      <td>2018-08-07</td>\n",
       "      <td>2018-08-13</td>\n",
       "      <td>2018-07-01</td>\n",
       "      <td>2018-08-01</td>\n",
       "      <td>595fac2a385ac33a80bd5114aec74eb8</td>\n",
       "      <td>118.70</td>\n",
       "      <td>1.0</td>\n",
       "      <td>af07308b275d755c9edb36a90c618231</td>\n",
       "    </tr>\n",
       "    <tr>\n",
       "      <th>2</th>\n",
       "      <td>47770eb9100c2d0c44946d9cf07ec65d</td>\n",
       "      <td>41ce2a54c0b03bf3443c3d931a367089</td>\n",
       "      <td>delivered</td>\n",
       "      <td>2018-08-08</td>\n",
       "      <td>2018-08-17</td>\n",
       "      <td>2018-09-04</td>\n",
       "      <td>2018-08-01</td>\n",
       "      <td>2018-08-01</td>\n",
       "      <td>aa4383b373c6aca5d8797843e5594415</td>\n",
       "      <td>159.90</td>\n",
       "      <td>1.0</td>\n",
       "      <td>3a653a41f6f9fc3d2a113cf8398680e8</td>\n",
       "    </tr>\n",
       "    <tr>\n",
       "      <th>3</th>\n",
       "      <td>949d5b44dbf5de918fe9c16f97b45f8a</td>\n",
       "      <td>f88197465ea7920adcdbec7375364d82</td>\n",
       "      <td>delivered</td>\n",
       "      <td>2017-11-18</td>\n",
       "      <td>2017-12-02</td>\n",
       "      <td>2017-12-15</td>\n",
       "      <td>2017-11-01</td>\n",
       "      <td>2017-12-01</td>\n",
       "      <td>d0b61bfb1de832b15ba9d266ca96e5b0</td>\n",
       "      <td>45.00</td>\n",
       "      <td>1.0</td>\n",
       "      <td>7c142cf63193a1473d2e66489a9ae977</td>\n",
       "    </tr>\n",
       "    <tr>\n",
       "      <th>4</th>\n",
       "      <td>ad21c59c0840e6cb83a9ceb5573f8159</td>\n",
       "      <td>8ab97904e6daea8866dbdbc4fb7aad2c</td>\n",
       "      <td>delivered</td>\n",
       "      <td>2018-02-13</td>\n",
       "      <td>2018-02-16</td>\n",
       "      <td>2018-02-26</td>\n",
       "      <td>2018-02-01</td>\n",
       "      <td>2018-02-01</td>\n",
       "      <td>65266b2da20d04dbe00c5c2d3bb7859e</td>\n",
       "      <td>19.90</td>\n",
       "      <td>1.0</td>\n",
       "      <td>72632f0f9dd73dfee390c9b22eb56dd6</td>\n",
       "    </tr>\n",
       "  </tbody>\n",
       "</table>\n",
       "</div>"
      ],
      "text/plain": [
       "                           order_id                       customer_id  \\\n",
       "0  e481f51cbdc54678b7cc49136f2d6af7  9ef432eb6251297304e76186b10a928d   \n",
       "1  53cdb2fc8bc7dce0b6741e2150273451  b0830fb4747a6c6d20dea0b8c802d7ef   \n",
       "2  47770eb9100c2d0c44946d9cf07ec65d  41ce2a54c0b03bf3443c3d931a367089   \n",
       "3  949d5b44dbf5de918fe9c16f97b45f8a  f88197465ea7920adcdbec7375364d82   \n",
       "4  ad21c59c0840e6cb83a9ceb5573f8159  8ab97904e6daea8866dbdbc4fb7aad2c   \n",
       "\n",
       "  order_status order_purchase order_delivered estimated_delivery_date  \\\n",
       "0    delivered     2017-10-02      2017-10-10              2017-10-18   \n",
       "1    delivered     2018-07-24      2018-08-07              2018-08-13   \n",
       "2    delivered     2018-08-08      2018-08-17              2018-09-04   \n",
       "3    delivered     2017-11-18      2017-12-02              2017-12-15   \n",
       "4    delivered     2018-02-13      2018-02-16              2018-02-26   \n",
       "\n",
       "  purchase_date delivered_date                        product_id   price  \\\n",
       "0    2017-10-01     2017-10-01  87285b34884572647811a353c7ac498a   29.99   \n",
       "1    2018-07-01     2018-08-01  595fac2a385ac33a80bd5114aec74eb8  118.70   \n",
       "2    2018-08-01     2018-08-01  aa4383b373c6aca5d8797843e5594415  159.90   \n",
       "3    2017-11-01     2017-12-01  d0b61bfb1de832b15ba9d266ca96e5b0   45.00   \n",
       "4    2018-02-01     2018-02-01  65266b2da20d04dbe00c5c2d3bb7859e   19.90   \n",
       "\n",
       "   quantity                customer_unique_id  \n",
       "0       1.0  7c396fd4830fd04220f754e42b4e5bff  \n",
       "1       1.0  af07308b275d755c9edb36a90c618231  \n",
       "2       1.0  3a653a41f6f9fc3d2a113cf8398680e8  \n",
       "3       1.0  7c142cf63193a1473d2e66489a9ae977  \n",
       "4       1.0  72632f0f9dd73dfee390c9b22eb56dd6  "
      ]
     },
     "execution_count": 24,
     "metadata": {},
     "output_type": "execute_result"
    }
   ],
   "source": [
    "task_1.head()"
   ]
  },
  {
   "cell_type": "code",
   "execution_count": 25,
   "metadata": {},
   "outputs": [
    {
     "data": {
      "text/html": [
       "<div>\n",
       "<style scoped>\n",
       "    .dataframe tbody tr th:only-of-type {\n",
       "        vertical-align: middle;\n",
       "    }\n",
       "\n",
       "    .dataframe tbody tr th {\n",
       "        vertical-align: top;\n",
       "    }\n",
       "\n",
       "    .dataframe thead th {\n",
       "        text-align: right;\n",
       "    }\n",
       "</style>\n",
       "<table border=\"1\" class=\"dataframe\">\n",
       "  <thead>\n",
       "    <tr style=\"text-align: right;\">\n",
       "      <th></th>\n",
       "      <th>customer_unique_id</th>\n",
       "      <th>purchase_count</th>\n",
       "    </tr>\n",
       "  </thead>\n",
       "  <tbody>\n",
       "    <tr>\n",
       "      <th>0</th>\n",
       "      <td>0000366f3b9a7992bf8c76cfdf3221e2</td>\n",
       "      <td>1</td>\n",
       "    </tr>\n",
       "    <tr>\n",
       "      <th>1</th>\n",
       "      <td>0000b849f77a49e4a4ce2b2a4ca5be3f</td>\n",
       "      <td>1</td>\n",
       "    </tr>\n",
       "    <tr>\n",
       "      <th>2</th>\n",
       "      <td>0000f46a3911fa3c0805444483337064</td>\n",
       "      <td>1</td>\n",
       "    </tr>\n",
       "    <tr>\n",
       "      <th>3</th>\n",
       "      <td>0000f6ccb0745a6a4b88665a16c9f078</td>\n",
       "      <td>1</td>\n",
       "    </tr>\n",
       "    <tr>\n",
       "      <th>4</th>\n",
       "      <td>0004aac84e0df4da2b147fca70cf8255</td>\n",
       "      <td>1</td>\n",
       "    </tr>\n",
       "  </tbody>\n",
       "</table>\n",
       "</div>"
      ],
      "text/plain": [
       "                 customer_unique_id  purchase_count\n",
       "0  0000366f3b9a7992bf8c76cfdf3221e2               1\n",
       "1  0000b849f77a49e4a4ce2b2a4ca5be3f               1\n",
       "2  0000f46a3911fa3c0805444483337064               1\n",
       "3  0000f6ccb0745a6a4b88665a16c9f078               1\n",
       "4  0004aac84e0df4da2b147fca70cf8255               1"
      ]
     },
     "execution_count": 25,
     "metadata": {},
     "output_type": "execute_result"
    }
   ],
   "source": [
    "# Сгруппируем датафрейм по customer_unique_id и посчитаем количество заказов, сделанных конкретным пользователем.\n",
    "df_purchase_count = task_1.query('order_status == \"delivered\"') \\\n",
    "                             .groupby('customer_unique_id', as_index = False) \\\n",
    "                             .agg({'order_id' : 'nunique'}) \\\n",
    "                             .rename(columns = {'order_id' : 'purchase_count'})\n",
    "df_purchase_count.head()"
   ]
  },
  {
   "cell_type": "code",
   "execution_count": 26,
   "metadata": {},
   "outputs": [
    {
     "data": {
      "text/plain": [
       "90557"
      ]
     },
     "execution_count": 26,
     "metadata": {},
     "output_type": "execute_result"
    }
   ],
   "source": [
    "# Считаем количество пользователей, сделавших покупку только 1 раз.\n",
    "df_purchase_count_onetime = df_purchase_count.query('purchase_count == 1')\n",
    "len(df_purchase_count_onetime)"
   ]
  },
  {
   "cell_type": "code",
   "execution_count": 27,
   "metadata": {},
   "outputs": [],
   "source": [
    "# Также посчитаем сколько пользователей сделало 1 заказ и сколько пользователей сделали > 1 заказа. \n",
    "df_purchase_count['purchase_count'] = np.where(df_purchase_count['purchase_count'] == 1, '1', '>1')\n",
    "orders_count = df_purchase_count['purchase_count'].value_counts()"
   ]
  },
  {
   "cell_type": "code",
   "execution_count": 28,
   "metadata": {},
   "outputs": [
    {
     "data": {
      "image/png": "[encoded data removed]",
      "text/plain": [
       "<Figure size 1440x792 with 1 Axes>"
      ]
     },
     "metadata": {
      "needs_background": "light"
     },
     "output_type": "display_data"
    }
   ],
   "source": [
    "# Также провизуализируем полученный результат.\n",
    "fig, ax = plt.subplots(figsize=(20, 11))\n",
    "\n",
    "sns.countplot(data=df_purchase_count, x='purchase_count')\n",
    "\n",
    "# Воспользуемся функцией annotate для добавления текстовой подписи с количеством над каждым столбцом диаграммы.\n",
    "for i, count in enumerate(orders_count):\n",
    "    plt.annotate(str(count), xy=(i, count), ha='center', va='bottom')\n",
    "\n",
    "ax.set_ylabel('Количество пользователей')\n",
    "ax.set_xlabel('Количество заказов')\n",
    "ax.set_title('Количество пользователей в разрезе по количеству сделанных заказов');"
   ]
  },
  {
   "cell_type": "markdown",
   "metadata": {},
   "source": [
    "Вывод: Большая часть пользователей совершает ровно 1 заказ."
   ]
  },
  {
   "cell_type": "markdown",
   "metadata": {},
   "source": [
    "2. Сколько заказов в месяц в среднем не доставляется по разным причинам (вывести детализацию по причинам)?"
   ]
  },
  {
   "cell_type": "code",
   "execution_count": 29,
   "metadata": {},
   "outputs": [
    {
     "data": {
      "text/html": [
       "<div>\n",
       "<style scoped>\n",
       "    .dataframe tbody tr th:only-of-type {\n",
       "        vertical-align: middle;\n",
       "    }\n",
       "\n",
       "    .dataframe tbody tr th {\n",
       "        vertical-align: top;\n",
       "    }\n",
       "\n",
       "    .dataframe thead th {\n",
       "        text-align: right;\n",
       "    }\n",
       "</style>\n",
       "<table border=\"1\" class=\"dataframe\">\n",
       "  <thead>\n",
       "    <tr style=\"text-align: right;\">\n",
       "      <th></th>\n",
       "      <th>order_id</th>\n",
       "      <th>customer_id</th>\n",
       "      <th>order_status</th>\n",
       "      <th>order_purchase</th>\n",
       "      <th>order_delivered</th>\n",
       "      <th>estimated_delivery_date</th>\n",
       "      <th>purchase_date</th>\n",
       "      <th>delivered_date</th>\n",
       "      <th>product_id</th>\n",
       "      <th>price</th>\n",
       "      <th>quantity</th>\n",
       "      <th>customer_unique_id</th>\n",
       "    </tr>\n",
       "  </thead>\n",
       "  <tbody>\n",
       "    <tr>\n",
       "      <th>0</th>\n",
       "      <td>e481f51cbdc54678b7cc49136f2d6af7</td>\n",
       "      <td>9ef432eb6251297304e76186b10a928d</td>\n",
       "      <td>delivered</td>\n",
       "      <td>2017-10-02</td>\n",
       "      <td>2017-10-10</td>\n",
       "      <td>2017-10-18</td>\n",
       "      <td>2017-10-01</td>\n",
       "      <td>2017-10-01</td>\n",
       "      <td>87285b34884572647811a353c7ac498a</td>\n",
       "      <td>29.99</td>\n",
       "      <td>1.0</td>\n",
       "      <td>7c396fd4830fd04220f754e42b4e5bff</td>\n",
       "    </tr>\n",
       "    <tr>\n",
       "      <th>1</th>\n",
       "      <td>53cdb2fc8bc7dce0b6741e2150273451</td>\n",
       "      <td>b0830fb4747a6c6d20dea0b8c802d7ef</td>\n",
       "      <td>delivered</td>\n",
       "      <td>2018-07-24</td>\n",
       "      <td>2018-08-07</td>\n",
       "      <td>2018-08-13</td>\n",
       "      <td>2018-07-01</td>\n",
       "      <td>2018-08-01</td>\n",
       "      <td>595fac2a385ac33a80bd5114aec74eb8</td>\n",
       "      <td>118.70</td>\n",
       "      <td>1.0</td>\n",
       "      <td>af07308b275d755c9edb36a90c618231</td>\n",
       "    </tr>\n",
       "    <tr>\n",
       "      <th>2</th>\n",
       "      <td>47770eb9100c2d0c44946d9cf07ec65d</td>\n",
       "      <td>41ce2a54c0b03bf3443c3d931a367089</td>\n",
       "      <td>delivered</td>\n",
       "      <td>2018-08-08</td>\n",
       "      <td>2018-08-17</td>\n",
       "      <td>2018-09-04</td>\n",
       "      <td>2018-08-01</td>\n",
       "      <td>2018-08-01</td>\n",
       "      <td>aa4383b373c6aca5d8797843e5594415</td>\n",
       "      <td>159.90</td>\n",
       "      <td>1.0</td>\n",
       "      <td>3a653a41f6f9fc3d2a113cf8398680e8</td>\n",
       "    </tr>\n",
       "    <tr>\n",
       "      <th>3</th>\n",
       "      <td>949d5b44dbf5de918fe9c16f97b45f8a</td>\n",
       "      <td>f88197465ea7920adcdbec7375364d82</td>\n",
       "      <td>delivered</td>\n",
       "      <td>2017-11-18</td>\n",
       "      <td>2017-12-02</td>\n",
       "      <td>2017-12-15</td>\n",
       "      <td>2017-11-01</td>\n",
       "      <td>2017-12-01</td>\n",
       "      <td>d0b61bfb1de832b15ba9d266ca96e5b0</td>\n",
       "      <td>45.00</td>\n",
       "      <td>1.0</td>\n",
       "      <td>7c142cf63193a1473d2e66489a9ae977</td>\n",
       "    </tr>\n",
       "    <tr>\n",
       "      <th>4</th>\n",
       "      <td>ad21c59c0840e6cb83a9ceb5573f8159</td>\n",
       "      <td>8ab97904e6daea8866dbdbc4fb7aad2c</td>\n",
       "      <td>delivered</td>\n",
       "      <td>2018-02-13</td>\n",
       "      <td>2018-02-16</td>\n",
       "      <td>2018-02-26</td>\n",
       "      <td>2018-02-01</td>\n",
       "      <td>2018-02-01</td>\n",
       "      <td>65266b2da20d04dbe00c5c2d3bb7859e</td>\n",
       "      <td>19.90</td>\n",
       "      <td>1.0</td>\n",
       "      <td>72632f0f9dd73dfee390c9b22eb56dd6</td>\n",
       "    </tr>\n",
       "  </tbody>\n",
       "</table>\n",
       "</div>"
      ],
      "text/plain": [
       "                           order_id                       customer_id  \\\n",
       "0  e481f51cbdc54678b7cc49136f2d6af7  9ef432eb6251297304e76186b10a928d   \n",
       "1  53cdb2fc8bc7dce0b6741e2150273451  b0830fb4747a6c6d20dea0b8c802d7ef   \n",
       "2  47770eb9100c2d0c44946d9cf07ec65d  41ce2a54c0b03bf3443c3d931a367089   \n",
       "3  949d5b44dbf5de918fe9c16f97b45f8a  f88197465ea7920adcdbec7375364d82   \n",
       "4  ad21c59c0840e6cb83a9ceb5573f8159  8ab97904e6daea8866dbdbc4fb7aad2c   \n",
       "\n",
       "  order_status order_purchase order_delivered estimated_delivery_date  \\\n",
       "0    delivered     2017-10-02      2017-10-10              2017-10-18   \n",
       "1    delivered     2018-07-24      2018-08-07              2018-08-13   \n",
       "2    delivered     2018-08-08      2018-08-17              2018-09-04   \n",
       "3    delivered     2017-11-18      2017-12-02              2017-12-15   \n",
       "4    delivered     2018-02-13      2018-02-16              2018-02-26   \n",
       "\n",
       "  purchase_date delivered_date                        product_id   price  \\\n",
       "0    2017-10-01     2017-10-01  87285b34884572647811a353c7ac498a   29.99   \n",
       "1    2018-07-01     2018-08-01  595fac2a385ac33a80bd5114aec74eb8  118.70   \n",
       "2    2018-08-01     2018-08-01  aa4383b373c6aca5d8797843e5594415  159.90   \n",
       "3    2017-11-01     2017-12-01  d0b61bfb1de832b15ba9d266ca96e5b0   45.00   \n",
       "4    2018-02-01     2018-02-01  65266b2da20d04dbe00c5c2d3bb7859e   19.90   \n",
       "\n",
       "   quantity                customer_unique_id  \n",
       "0       1.0  7c396fd4830fd04220f754e42b4e5bff  \n",
       "1       1.0  af07308b275d755c9edb36a90c618231  \n",
       "2       1.0  3a653a41f6f9fc3d2a113cf8398680e8  \n",
       "3       1.0  7c142cf63193a1473d2e66489a9ae977  \n",
       "4       1.0  72632f0f9dd73dfee390c9b22eb56dd6  "
      ]
     },
     "execution_count": 29,
     "metadata": {},
     "output_type": "execute_result"
    }
   ],
   "source": [
    "dont_delivered_orders = df_merged.copy()\n",
    "dont_delivered_orders.head()"
   ]
  },
  {
   "cell_type": "code",
   "execution_count": 30,
   "metadata": {},
   "outputs": [],
   "source": [
    "# Создадим колонку month для хранения информации о годе и месяце доставки заказа.\n",
    "dont_delivered_orders['month'] = dont_delivered_orders['estimated_delivery_date'].dt.month"
   ]
  },
  {
   "cell_type": "code",
   "execution_count": 31,
   "metadata": {},
   "outputs": [
    {
     "data": {
      "text/plain": [
       "order_status\n",
       "delivered      100196\n",
       "shipped          1128\n",
       "canceled          629\n",
       "unavailable       610\n",
       "invoiced          324\n",
       "processing        306\n",
       "created             5\n",
       "approved            2\n",
       "Name: order_id, dtype: int64"
      ]
     },
     "execution_count": 31,
     "metadata": {},
     "output_type": "execute_result"
    }
   ],
   "source": [
    "dont_delivered_orders.groupby('order_status')['order_id'].count().sort_values(ascending = False)"
   ]
  },
  {
   "cell_type": "markdown",
   "metadata": {},
   "source": [
    "Из полученной выше серии видно, что большая часть заказов доставлена юзерам (delivered), соответственно их рассматривать не будем. Также у нас имеется 1128 отгруженных заказов, находящихся в процессе доставки. Созданные, подтвержденные, находящиеся в процессе сборки и ожидающие оплаты рассматривать не будем. Поэтому оценим количество заказов со статусом canceled и unavailable в разрезе по месяцам"
   ]
  },
  {
   "cell_type": "code",
   "execution_count": 32,
   "metadata": {},
   "outputs": [
    {
     "data": {
      "text/html": [
       "<div>\n",
       "<style scoped>\n",
       "    .dataframe tbody tr th:only-of-type {\n",
       "        vertical-align: middle;\n",
       "    }\n",
       "\n",
       "    .dataframe tbody tr th {\n",
       "        vertical-align: top;\n",
       "    }\n",
       "\n",
       "    .dataframe thead th {\n",
       "        text-align: right;\n",
       "    }\n",
       "</style>\n",
       "<table border=\"1\" class=\"dataframe\">\n",
       "  <thead>\n",
       "    <tr style=\"text-align: right;\">\n",
       "      <th></th>\n",
       "      <th>month</th>\n",
       "      <th>order_status</th>\n",
       "      <th>orders_count</th>\n",
       "    </tr>\n",
       "  </thead>\n",
       "  <tbody>\n",
       "    <tr>\n",
       "      <th>0</th>\n",
       "      <td>1</td>\n",
       "      <td>canceled</td>\n",
       "      <td>7</td>\n",
       "    </tr>\n",
       "    <tr>\n",
       "      <th>1</th>\n",
       "      <td>1</td>\n",
       "      <td>unavailable</td>\n",
       "      <td>44</td>\n",
       "    </tr>\n",
       "    <tr>\n",
       "      <th>2</th>\n",
       "      <td>2</td>\n",
       "      <td>canceled</td>\n",
       "      <td>34</td>\n",
       "    </tr>\n",
       "    <tr>\n",
       "      <th>3</th>\n",
       "      <td>2</td>\n",
       "      <td>unavailable</td>\n",
       "      <td>42</td>\n",
       "    </tr>\n",
       "    <tr>\n",
       "      <th>4</th>\n",
       "      <td>3</td>\n",
       "      <td>canceled</td>\n",
       "      <td>114</td>\n",
       "    </tr>\n",
       "  </tbody>\n",
       "</table>\n",
       "</div>"
      ],
      "text/plain": [
       "   month order_status  orders_count\n",
       "0      1     canceled             7\n",
       "1      1  unavailable            44\n",
       "2      2     canceled            34\n",
       "3      2  unavailable            42\n",
       "4      3     canceled           114"
      ]
     },
     "execution_count": 32,
     "metadata": {},
     "output_type": "execute_result"
    }
   ],
   "source": [
    "# Создадим ДФ в котором будет посчитано количество заказов по месяцам, которые не доставляются по разным причинам.\n",
    "dont_delivered_orders_by_month = dont_delivered_orders.query('order_status == \"canceled\" | order_status == \"unavailable\"') \\\n",
    "               .groupby(['month', 'order_status'], as_index = False) \\\n",
    "               .agg({'order_id' : 'count'}) \\\n",
    "               .sort_values('month') \\\n",
    "               .rename(columns={'order_id' : 'orders_count'})\n",
    "dont_delivered_orders_by_month.head()"
   ]
  },
  {
   "cell_type": "code",
   "execution_count": 33,
   "metadata": {},
   "outputs": [],
   "source": [
    "# Теперь создадим ДФ, в котором будет рассчитано среднее количество не доставляемых заказов в месяц\n",
    "dont_delivered_orders_avg = dont_delivered_orders_by_month.groupby('month', as_index = False) \\\n",
    "                                         .agg({'orders_count' : 'mean'})"
   ]
  },
  {
   "cell_type": "code",
   "execution_count": 34,
   "metadata": {},
   "outputs": [
    {
     "data": {
      "image/png": "[encoded data removed]",
      "text/plain": [
       "<Figure size 1440x792 with 1 Axes>"
      ]
     },
     "metadata": {},
     "output_type": "display_data"
    }
   ],
   "source": [
    "# Визуализируем среднее количество заказов не доставленных по разным причинам в месяц\n",
    "sns.set(font_scale= 2)\n",
    "fig, ax = plt.subplots(figsize=(20, 11))\n",
    "ax = sns.barplot(x=dont_delivered_orders_avg.month, \n",
    "                 y=dont_delivered_orders_avg.orders_count)\n",
    "\n",
    "for p in ax.patches:\n",
    "    ax.annotate(format(p.get_height(), '.2f'), (p.get_x() + p.get_width() / 2., p.get_height()), \n",
    "                ha = 'center', va = 'center', xytext = (0, 10), textcoords = 'offset points')\n",
    "\n",
    "plt.xlabel('Месяц')\n",
    "plt.ylabel('Среднее количество не доставленных заказов')\n",
    "plt.title('Среднее количество не доставленных заказов по месяцам');"
   ]
  },
  {
   "cell_type": "code",
   "execution_count": 35,
   "metadata": {},
   "outputs": [
    {
     "data": {
      "image/png": "[encoded data removed]",
      "text/plain": [
       "<Figure size 1440x792 with 1 Axes>"
      ]
     },
     "metadata": {},
     "output_type": "display_data"
    }
   ],
   "source": [
    "# Визуализируем детализацию по причинам \n",
    "fig, ax = plt.subplots(figsize=(20, 11))\n",
    "sns.lineplot(data = dont_delivered_orders_by_month, x=\"month\", y=\"orders_count\", hue=\"order_status\")\n",
    "ax.legend(loc='upper right')\n",
    "plt.xlabel('Месяц')\n",
    "plt.ylabel('Количество заказов')\n",
    "plt.title('Статус заказа по месяцам');"
   ]
  },
  {
   "cell_type": "code",
   "execution_count": 36,
   "metadata": {},
   "outputs": [
    {
     "data": {
      "text/html": [
       "<div>\n",
       "<style scoped>\n",
       "    .dataframe tbody tr th:only-of-type {\n",
       "        vertical-align: middle;\n",
       "    }\n",
       "\n",
       "    .dataframe tbody tr th {\n",
       "        vertical-align: top;\n",
       "    }\n",
       "\n",
       "    .dataframe thead th {\n",
       "        text-align: right;\n",
       "    }\n",
       "</style>\n",
       "<table border=\"1\" class=\"dataframe\">\n",
       "  <thead>\n",
       "    <tr style=\"text-align: right;\">\n",
       "      <th>order_status</th>\n",
       "      <th>canceled</th>\n",
       "      <th>unavailable</th>\n",
       "    </tr>\n",
       "    <tr>\n",
       "      <th>month</th>\n",
       "      <th></th>\n",
       "      <th></th>\n",
       "    </tr>\n",
       "  </thead>\n",
       "  <tbody>\n",
       "    <tr>\n",
       "      <th>1</th>\n",
       "      <td>7</td>\n",
       "      <td>44</td>\n",
       "    </tr>\n",
       "    <tr>\n",
       "      <th>2</th>\n",
       "      <td>34</td>\n",
       "      <td>42</td>\n",
       "    </tr>\n",
       "    <tr>\n",
       "      <th>3</th>\n",
       "      <td>114</td>\n",
       "      <td>100</td>\n",
       "    </tr>\n",
       "    <tr>\n",
       "      <th>4</th>\n",
       "      <td>40</td>\n",
       "      <td>30</td>\n",
       "    </tr>\n",
       "    <tr>\n",
       "      <th>5</th>\n",
       "      <td>49</td>\n",
       "      <td>28</td>\n",
       "    </tr>\n",
       "    <tr>\n",
       "      <th>6</th>\n",
       "      <td>41</td>\n",
       "      <td>36</td>\n",
       "    </tr>\n",
       "    <tr>\n",
       "      <th>7</th>\n",
       "      <td>47</td>\n",
       "      <td>41</td>\n",
       "    </tr>\n",
       "    <tr>\n",
       "      <th>8</th>\n",
       "      <td>101</td>\n",
       "      <td>65</td>\n",
       "    </tr>\n",
       "    <tr>\n",
       "      <th>9</th>\n",
       "      <td>76</td>\n",
       "      <td>35</td>\n",
       "    </tr>\n",
       "    <tr>\n",
       "      <th>10</th>\n",
       "      <td>33</td>\n",
       "      <td>40</td>\n",
       "    </tr>\n",
       "    <tr>\n",
       "      <th>11</th>\n",
       "      <td>52</td>\n",
       "      <td>78</td>\n",
       "    </tr>\n",
       "    <tr>\n",
       "      <th>12</th>\n",
       "      <td>35</td>\n",
       "      <td>71</td>\n",
       "    </tr>\n",
       "  </tbody>\n",
       "</table>\n",
       "</div>"
      ],
      "text/plain": [
       "order_status  canceled  unavailable\n",
       "month                              \n",
       "1                    7           44\n",
       "2                   34           42\n",
       "3                  114          100\n",
       "4                   40           30\n",
       "5                   49           28\n",
       "6                   41           36\n",
       "7                   47           41\n",
       "8                  101           65\n",
       "9                   76           35\n",
       "10                  33           40\n",
       "11                  52           78\n",
       "12                  35           71"
      ]
     },
     "execution_count": 36,
     "metadata": {},
     "output_type": "execute_result"
    }
   ],
   "source": [
    "dont_delivered_orders_by_month = dont_delivered_orders_by_month.pivot(index = 'month', columns = 'order_status', values = 'orders_count')\n",
    "dont_delivered_orders_by_month"
   ]
  },
  {
   "cell_type": "code",
   "execution_count": 37,
   "metadata": {},
   "outputs": [
    {
     "data": {
      "text/plain": [
       "order_status\n",
       "canceled       52.0\n",
       "unavailable    51.0\n",
       "dtype: float64"
      ]
     },
     "execution_count": 37,
     "metadata": {},
     "output_type": "execute_result"
    }
   ],
   "source": [
    "# Рассчитаем среднее количество заказов в месяц, которые не доставляются.\n",
    "dont_delivered_orders_by_month.mean().round()"
   ]
  },
  {
   "cell_type": "markdown",
   "metadata": {},
   "source": [
    "Вывод: в среднем количество заказов со статусом canceled практически равняется количеству заказов со статусом unavailable"
   ]
  },
  {
   "cell_type": "markdown",
   "metadata": {},
   "source": [
    "3. По каждому товару определить, в какой день недели товар чаще всего покупается."
   ]
  },
  {
   "cell_type": "code",
   "execution_count": 38,
   "metadata": {},
   "outputs": [
    {
     "data": {
      "text/html": [
       "<div>\n",
       "<style scoped>\n",
       "    .dataframe tbody tr th:only-of-type {\n",
       "        vertical-align: middle;\n",
       "    }\n",
       "\n",
       "    .dataframe tbody tr th {\n",
       "        vertical-align: top;\n",
       "    }\n",
       "\n",
       "    .dataframe thead th {\n",
       "        text-align: right;\n",
       "    }\n",
       "</style>\n",
       "<table border=\"1\" class=\"dataframe\">\n",
       "  <thead>\n",
       "    <tr style=\"text-align: right;\">\n",
       "      <th></th>\n",
       "      <th>order_id</th>\n",
       "      <th>customer_id</th>\n",
       "      <th>order_status</th>\n",
       "      <th>order_purchase</th>\n",
       "      <th>order_delivered</th>\n",
       "      <th>estimated_delivery_date</th>\n",
       "      <th>purchase_date</th>\n",
       "      <th>delivered_date</th>\n",
       "      <th>product_id</th>\n",
       "      <th>price</th>\n",
       "      <th>quantity</th>\n",
       "      <th>customer_unique_id</th>\n",
       "    </tr>\n",
       "  </thead>\n",
       "  <tbody>\n",
       "    <tr>\n",
       "      <th>0</th>\n",
       "      <td>e481f51cbdc54678b7cc49136f2d6af7</td>\n",
       "      <td>9ef432eb6251297304e76186b10a928d</td>\n",
       "      <td>delivered</td>\n",
       "      <td>2017-10-02</td>\n",
       "      <td>2017-10-10</td>\n",
       "      <td>2017-10-18</td>\n",
       "      <td>2017-10-01</td>\n",
       "      <td>2017-10-01</td>\n",
       "      <td>87285b34884572647811a353c7ac498a</td>\n",
       "      <td>29.99</td>\n",
       "      <td>1.0</td>\n",
       "      <td>7c396fd4830fd04220f754e42b4e5bff</td>\n",
       "    </tr>\n",
       "    <tr>\n",
       "      <th>1</th>\n",
       "      <td>53cdb2fc8bc7dce0b6741e2150273451</td>\n",
       "      <td>b0830fb4747a6c6d20dea0b8c802d7ef</td>\n",
       "      <td>delivered</td>\n",
       "      <td>2018-07-24</td>\n",
       "      <td>2018-08-07</td>\n",
       "      <td>2018-08-13</td>\n",
       "      <td>2018-07-01</td>\n",
       "      <td>2018-08-01</td>\n",
       "      <td>595fac2a385ac33a80bd5114aec74eb8</td>\n",
       "      <td>118.70</td>\n",
       "      <td>1.0</td>\n",
       "      <td>af07308b275d755c9edb36a90c618231</td>\n",
       "    </tr>\n",
       "    <tr>\n",
       "      <th>2</th>\n",
       "      <td>47770eb9100c2d0c44946d9cf07ec65d</td>\n",
       "      <td>41ce2a54c0b03bf3443c3d931a367089</td>\n",
       "      <td>delivered</td>\n",
       "      <td>2018-08-08</td>\n",
       "      <td>2018-08-17</td>\n",
       "      <td>2018-09-04</td>\n",
       "      <td>2018-08-01</td>\n",
       "      <td>2018-08-01</td>\n",
       "      <td>aa4383b373c6aca5d8797843e5594415</td>\n",
       "      <td>159.90</td>\n",
       "      <td>1.0</td>\n",
       "      <td>3a653a41f6f9fc3d2a113cf8398680e8</td>\n",
       "    </tr>\n",
       "    <tr>\n",
       "      <th>3</th>\n",
       "      <td>949d5b44dbf5de918fe9c16f97b45f8a</td>\n",
       "      <td>f88197465ea7920adcdbec7375364d82</td>\n",
       "      <td>delivered</td>\n",
       "      <td>2017-11-18</td>\n",
       "      <td>2017-12-02</td>\n",
       "      <td>2017-12-15</td>\n",
       "      <td>2017-11-01</td>\n",
       "      <td>2017-12-01</td>\n",
       "      <td>d0b61bfb1de832b15ba9d266ca96e5b0</td>\n",
       "      <td>45.00</td>\n",
       "      <td>1.0</td>\n",
       "      <td>7c142cf63193a1473d2e66489a9ae977</td>\n",
       "    </tr>\n",
       "    <tr>\n",
       "      <th>4</th>\n",
       "      <td>ad21c59c0840e6cb83a9ceb5573f8159</td>\n",
       "      <td>8ab97904e6daea8866dbdbc4fb7aad2c</td>\n",
       "      <td>delivered</td>\n",
       "      <td>2018-02-13</td>\n",
       "      <td>2018-02-16</td>\n",
       "      <td>2018-02-26</td>\n",
       "      <td>2018-02-01</td>\n",
       "      <td>2018-02-01</td>\n",
       "      <td>65266b2da20d04dbe00c5c2d3bb7859e</td>\n",
       "      <td>19.90</td>\n",
       "      <td>1.0</td>\n",
       "      <td>72632f0f9dd73dfee390c9b22eb56dd6</td>\n",
       "    </tr>\n",
       "  </tbody>\n",
       "</table>\n",
       "</div>"
      ],
      "text/plain": [
       "                           order_id                       customer_id  \\\n",
       "0  e481f51cbdc54678b7cc49136f2d6af7  9ef432eb6251297304e76186b10a928d   \n",
       "1  53cdb2fc8bc7dce0b6741e2150273451  b0830fb4747a6c6d20dea0b8c802d7ef   \n",
       "2  47770eb9100c2d0c44946d9cf07ec65d  41ce2a54c0b03bf3443c3d931a367089   \n",
       "3  949d5b44dbf5de918fe9c16f97b45f8a  f88197465ea7920adcdbec7375364d82   \n",
       "4  ad21c59c0840e6cb83a9ceb5573f8159  8ab97904e6daea8866dbdbc4fb7aad2c   \n",
       "\n",
       "  order_status order_purchase order_delivered estimated_delivery_date  \\\n",
       "0    delivered     2017-10-02      2017-10-10              2017-10-18   \n",
       "1    delivered     2018-07-24      2018-08-07              2018-08-13   \n",
       "2    delivered     2018-08-08      2018-08-17              2018-09-04   \n",
       "3    delivered     2017-11-18      2017-12-02              2017-12-15   \n",
       "4    delivered     2018-02-13      2018-02-16              2018-02-26   \n",
       "\n",
       "  purchase_date delivered_date                        product_id   price  \\\n",
       "0    2017-10-01     2017-10-01  87285b34884572647811a353c7ac498a   29.99   \n",
       "1    2018-07-01     2018-08-01  595fac2a385ac33a80bd5114aec74eb8  118.70   \n",
       "2    2018-08-01     2018-08-01  aa4383b373c6aca5d8797843e5594415  159.90   \n",
       "3    2017-11-01     2017-12-01  d0b61bfb1de832b15ba9d266ca96e5b0   45.00   \n",
       "4    2018-02-01     2018-02-01  65266b2da20d04dbe00c5c2d3bb7859e   19.90   \n",
       "\n",
       "   quantity                customer_unique_id  \n",
       "0       1.0  7c396fd4830fd04220f754e42b4e5bff  \n",
       "1       1.0  af07308b275d755c9edb36a90c618231  \n",
       "2       1.0  3a653a41f6f9fc3d2a113cf8398680e8  \n",
       "3       1.0  7c142cf63193a1473d2e66489a9ae977  \n",
       "4       1.0  72632f0f9dd73dfee390c9b22eb56dd6  "
      ]
     },
     "execution_count": 38,
     "metadata": {},
     "output_type": "execute_result"
    }
   ],
   "source": [
    "# Как ранее уже упоминалось, покупкой будем считать доставленные заказы, поэтому создадим дф, в котором будут храниться именно такие заказы.\n",
    "day_number_df = df_merged.copy().query('order_status == \"delivered\"')\n",
    "day_number_df.head()"
   ]
  },
  {
   "cell_type": "code",
   "execution_count": 39,
   "metadata": {},
   "outputs": [],
   "source": [
    "# Создадим колонку с днями недели\n",
    "day_number_df['weekday'] = day_number_df.order_purchase.dt.day_name()"
   ]
  },
  {
   "cell_type": "code",
   "execution_count": 40,
   "metadata": {},
   "outputs": [],
   "source": [
    "# Сгруппируем датафрейм по ид товара и дню недели и посчитаем количество проданных товаров.\n",
    "product_day_count = day_number_df.groupby(['product_id', 'weekday'], as_index = False).agg({'order_id' : 'count'})"
   ]
  },
  {
   "cell_type": "code",
   "execution_count": 41,
   "metadata": {},
   "outputs": [
    {
     "data": {
      "text/html": [
       "<div>\n",
       "<style scoped>\n",
       "    .dataframe tbody tr th:only-of-type {\n",
       "        vertical-align: middle;\n",
       "    }\n",
       "\n",
       "    .dataframe tbody tr th {\n",
       "        vertical-align: top;\n",
       "    }\n",
       "\n",
       "    .dataframe thead th {\n",
       "        text-align: right;\n",
       "    }\n",
       "</style>\n",
       "<table border=\"1\" class=\"dataframe\">\n",
       "  <thead>\n",
       "    <tr style=\"text-align: right;\">\n",
       "      <th></th>\n",
       "      <th>product_id</th>\n",
       "      <th>order_id</th>\n",
       "    </tr>\n",
       "  </thead>\n",
       "  <tbody>\n",
       "    <tr>\n",
       "      <th>0</th>\n",
       "      <td>00066f42aeeb9f3007548bb9d3f33c38</td>\n",
       "      <td>1</td>\n",
       "    </tr>\n",
       "    <tr>\n",
       "      <th>1</th>\n",
       "      <td>00088930e925c41fd95ebfe695fd2655</td>\n",
       "      <td>1</td>\n",
       "    </tr>\n",
       "    <tr>\n",
       "      <th>2</th>\n",
       "      <td>0009406fd7479715e4bef61dd91f2462</td>\n",
       "      <td>1</td>\n",
       "    </tr>\n",
       "    <tr>\n",
       "      <th>3</th>\n",
       "      <td>000b8f95fcb9e0096488278317764d19</td>\n",
       "      <td>1</td>\n",
       "    </tr>\n",
       "    <tr>\n",
       "      <th>4</th>\n",
       "      <td>000d9be29b5207b54e86aa1b1ac54872</td>\n",
       "      <td>1</td>\n",
       "    </tr>\n",
       "    <tr>\n",
       "      <th>...</th>\n",
       "      <td>...</td>\n",
       "      <td>...</td>\n",
       "    </tr>\n",
       "    <tr>\n",
       "      <th>32211</th>\n",
       "      <td>fff6177642830a9a94a0f2cba5e476d1</td>\n",
       "      <td>1</td>\n",
       "    </tr>\n",
       "    <tr>\n",
       "      <th>32212</th>\n",
       "      <td>fff81cc3158d2725c0655ab9ba0f712c</td>\n",
       "      <td>1</td>\n",
       "    </tr>\n",
       "    <tr>\n",
       "      <th>32213</th>\n",
       "      <td>fff9553ac224cec9d15d49f5a263411f</td>\n",
       "      <td>1</td>\n",
       "    </tr>\n",
       "    <tr>\n",
       "      <th>32214</th>\n",
       "      <td>fffdb2d0ec8d6a61f0a0a0db3f25b441</td>\n",
       "      <td>2</td>\n",
       "    </tr>\n",
       "    <tr>\n",
       "      <th>32215</th>\n",
       "      <td>fffe9eeff12fcbd74a2f2b007dde0c58</td>\n",
       "      <td>1</td>\n",
       "    </tr>\n",
       "  </tbody>\n",
       "</table>\n",
       "<p>32216 rows × 2 columns</p>\n",
       "</div>"
      ],
      "text/plain": [
       "                             product_id  order_id\n",
       "0      00066f42aeeb9f3007548bb9d3f33c38         1\n",
       "1      00088930e925c41fd95ebfe695fd2655         1\n",
       "2      0009406fd7479715e4bef61dd91f2462         1\n",
       "3      000b8f95fcb9e0096488278317764d19         1\n",
       "4      000d9be29b5207b54e86aa1b1ac54872         1\n",
       "...                                 ...       ...\n",
       "32211  fff6177642830a9a94a0f2cba5e476d1         1\n",
       "32212  fff81cc3158d2725c0655ab9ba0f712c         1\n",
       "32213  fff9553ac224cec9d15d49f5a263411f         1\n",
       "32214  fffdb2d0ec8d6a61f0a0a0db3f25b441         2\n",
       "32215  fffe9eeff12fcbd74a2f2b007dde0c58         1\n",
       "\n",
       "[32216 rows x 2 columns]"
      ]
     },
     "execution_count": 41,
     "metadata": {},
     "output_type": "execute_result"
    }
   ],
   "source": [
    "# Теперь найдем товары, которые покупаются чаще всего\n",
    "product_day_max = product_day_count.groupby('product_id', as_index = False).agg({'order_id' : 'max'})\n",
    "product_day_max"
   ]
  },
  {
   "cell_type": "code",
   "execution_count": 42,
   "metadata": {},
   "outputs": [],
   "source": [
    "# Объединим полученные результаты в один датафрейм\n",
    "most_purchased_day = pd.merge(product_day_max, product_day_count, on = ['product_id', 'order_id'], how = 'left')"
   ]
  },
  {
   "cell_type": "code",
   "execution_count": 43,
   "metadata": {},
   "outputs": [
    {
     "data": {
      "text/html": [
       "<div>\n",
       "<style scoped>\n",
       "    .dataframe tbody tr th:only-of-type {\n",
       "        vertical-align: middle;\n",
       "    }\n",
       "\n",
       "    .dataframe tbody tr th {\n",
       "        vertical-align: top;\n",
       "    }\n",
       "\n",
       "    .dataframe thead th {\n",
       "        text-align: right;\n",
       "    }\n",
       "</style>\n",
       "<table border=\"1\" class=\"dataframe\">\n",
       "  <thead>\n",
       "    <tr style=\"text-align: right;\">\n",
       "      <th></th>\n",
       "      <th>product_id</th>\n",
       "      <th>max_order_value</th>\n",
       "      <th>weekday</th>\n",
       "    </tr>\n",
       "  </thead>\n",
       "  <tbody>\n",
       "    <tr>\n",
       "      <th>25661</th>\n",
       "      <td>99a4788cb24856965c36a24e339b6058</td>\n",
       "      <td>86</td>\n",
       "      <td>Monday</td>\n",
       "    </tr>\n",
       "    <tr>\n",
       "      <th>28768</th>\n",
       "      <td>aca2eb7d00ea1a7b8ebd4e68314663af</td>\n",
       "      <td>75</td>\n",
       "      <td>Thursday</td>\n",
       "    </tr>\n",
       "    <tr>\n",
       "      <th>14122</th>\n",
       "      <td>53b36df67ebb7c41585e8d54d6772e08</td>\n",
       "      <td>70</td>\n",
       "      <td>Tuesday</td>\n",
       "    </tr>\n",
       "    <tr>\n",
       "      <th>11229</th>\n",
       "      <td>422879e10f46682990de24d770e7f83d</td>\n",
       "      <td>58</td>\n",
       "      <td>Thursday</td>\n",
       "    </tr>\n",
       "    <tr>\n",
       "      <th>35335</th>\n",
       "      <td>d1c427060a0f73f6b889a5c7c61f2ac4</td>\n",
       "      <td>58</td>\n",
       "      <td>Monday</td>\n",
       "    </tr>\n",
       "    <tr>\n",
       "      <th>...</th>\n",
       "      <td>...</td>\n",
       "      <td>...</td>\n",
       "      <td>...</td>\n",
       "    </tr>\n",
       "    <tr>\n",
       "      <th>15956</th>\n",
       "      <td>5ea060e5498eaeee39d5dc4b4525b7ac</td>\n",
       "      <td>1</td>\n",
       "      <td>Wednesday</td>\n",
       "    </tr>\n",
       "    <tr>\n",
       "      <th>15955</th>\n",
       "      <td>5e9f7e47bbd1cf91d9a98ed9fdaf6193</td>\n",
       "      <td>1</td>\n",
       "      <td>Wednesday</td>\n",
       "    </tr>\n",
       "    <tr>\n",
       "      <th>15954</th>\n",
       "      <td>5e9a6c707458f23644bb74a8b9c53222</td>\n",
       "      <td>1</td>\n",
       "      <td>Wednesday</td>\n",
       "    </tr>\n",
       "    <tr>\n",
       "      <th>15953</th>\n",
       "      <td>5e98eec44c208da92f2b66345586a229</td>\n",
       "      <td>1</td>\n",
       "      <td>Tuesday</td>\n",
       "    </tr>\n",
       "    <tr>\n",
       "      <th>43147</th>\n",
       "      <td>fffe9eeff12fcbd74a2f2b007dde0c58</td>\n",
       "      <td>1</td>\n",
       "      <td>Wednesday</td>\n",
       "    </tr>\n",
       "  </tbody>\n",
       "</table>\n",
       "<p>32216 rows × 3 columns</p>\n",
       "</div>"
      ],
      "text/plain": [
       "                             product_id  max_order_value    weekday\n",
       "25661  99a4788cb24856965c36a24e339b6058               86     Monday\n",
       "28768  aca2eb7d00ea1a7b8ebd4e68314663af               75   Thursday\n",
       "14122  53b36df67ebb7c41585e8d54d6772e08               70    Tuesday\n",
       "11229  422879e10f46682990de24d770e7f83d               58   Thursday\n",
       "35335  d1c427060a0f73f6b889a5c7c61f2ac4               58     Monday\n",
       "...                                 ...              ...        ...\n",
       "15956  5ea060e5498eaeee39d5dc4b4525b7ac                1  Wednesday\n",
       "15955  5e9f7e47bbd1cf91d9a98ed9fdaf6193                1  Wednesday\n",
       "15954  5e9a6c707458f23644bb74a8b9c53222                1  Wednesday\n",
       "15953  5e98eec44c208da92f2b66345586a229                1    Tuesday\n",
       "43147  fffe9eeff12fcbd74a2f2b007dde0c58                1  Wednesday\n",
       "\n",
       "[32216 rows x 3 columns]"
      ]
     },
     "execution_count": 43,
     "metadata": {},
     "output_type": "execute_result"
    }
   ],
   "source": [
    "# Во время объединения могли возникнуть дубликаты по product_id т.к. в разные дни могло покупаться одинаковое количество\n",
    "# этих товаров, поэтому удалим дубликаты\n",
    "most_purchased_day = most_purchased_day.drop_duplicates(subset = ('product_id')).rename(columns = {'order_id' : 'max_order_value'})\n",
    "most_purchased_day.sort_values('max_order_value', ascending = False)"
   ]
  },
  {
   "cell_type": "markdown",
   "metadata": {},
   "source": [
    "Полученный ДФ является ответом на вопрос задания №3. Однако, если визуализировать полученнй результат на графике, то получится не информативный результат. Поэтому сделаем визуализацию просто по дням недели и сумме заказанных товаров."
   ]
  },
  {
   "cell_type": "code",
   "execution_count": 44,
   "metadata": {},
   "outputs": [],
   "source": [
    "# Сгруппируемся по дням недели и добавим новую колонку, в которой будут храниться номера дней недели для последующей сортировки\n",
    "most_purchased_day = most_purchased_day.groupby('weekday', as_index = False).agg({'max_order_value' : 'sum'})\n",
    "most_purchased_day['day_number'] = pd.Series([5, 1, 6, 7, 4, 2, 3])\n",
    "most_purchased_day = most_purchased_day.sort_values('day_number')"
   ]
  },
  {
   "cell_type": "code",
   "execution_count": 45,
   "metadata": {},
   "outputs": [
    {
     "data": {
      "image/png": "[encoded data removed]",
      "text/plain": [
       "<Figure size 1440x792 with 1 Axes>"
      ]
     },
     "metadata": {},
     "output_type": "display_data"
    }
   ],
   "source": [
    "# Визуализируем полученные результаты\n",
    "fig, ax = plt.subplots(figsize=(20, 11))\n",
    "\n",
    "sns.barplot(data = most_purchased_day, x = 'weekday', y = 'max_order_value')\n",
    "\n",
    "# Воспользуемся функцией annotate для добавления текстовой подписи с количеством над каждым столбцом диаграммы.\n",
    "for i in range(len(most_purchased_day)):\n",
    "    plt.text(i, most_purchased_day.max_order_value.iloc[i], most_purchased_day.max_order_value.iloc[i], ha='center', va='bottom')\n",
    "\n",
    "plt.title('Количество товаров в день')\n",
    "plt.xlabel('День недели')\n",
    "plt.ylabel('Количество товаров');"
   ]
  },
  {
   "cell_type": "markdown",
   "metadata": {},
   "source": [
    "Вывод: наибольшее количество товаров покупается в понедельник."
   ]
  },
  {
   "cell_type": "markdown",
   "metadata": {},
   "source": [
    "4. Сколько у каждого из пользователей в среднем покупок в неделю (по месяцам)? Не стоит забывать, что внутри месяца может быть не целое количество недель. Например, в ноябре 2021 года 4,28 недели. И внутри метрики это нужно учесть."
   ]
  },
  {
   "cell_type": "code",
   "execution_count": 46,
   "metadata": {},
   "outputs": [],
   "source": [
    "# Подготовим дф с покупками со статусом delivered\n",
    "customer_buys = df_merged.copy().query('order_status == \"delivered\"')"
   ]
  },
  {
   "cell_type": "code",
   "execution_count": 47,
   "metadata": {},
   "outputs": [
    {
     "data": {
      "text/html": [
       "<div>\n",
       "<style scoped>\n",
       "    .dataframe tbody tr th:only-of-type {\n",
       "        vertical-align: middle;\n",
       "    }\n",
       "\n",
       "    .dataframe tbody tr th {\n",
       "        vertical-align: top;\n",
       "    }\n",
       "\n",
       "    .dataframe thead th {\n",
       "        text-align: right;\n",
       "    }\n",
       "</style>\n",
       "<table border=\"1\" class=\"dataframe\">\n",
       "  <thead>\n",
       "    <tr style=\"text-align: right;\">\n",
       "      <th></th>\n",
       "      <th>order_id</th>\n",
       "      <th>customer_id</th>\n",
       "      <th>order_status</th>\n",
       "      <th>order_purchase</th>\n",
       "      <th>order_delivered</th>\n",
       "      <th>estimated_delivery_date</th>\n",
       "      <th>purchase_date</th>\n",
       "      <th>delivered_date</th>\n",
       "      <th>product_id</th>\n",
       "      <th>price</th>\n",
       "      <th>quantity</th>\n",
       "      <th>customer_unique_id</th>\n",
       "      <th>weeks_month</th>\n",
       "    </tr>\n",
       "  </thead>\n",
       "  <tbody>\n",
       "    <tr>\n",
       "      <th>0</th>\n",
       "      <td>e481f51cbdc54678b7cc49136f2d6af7</td>\n",
       "      <td>9ef432eb6251297304e76186b10a928d</td>\n",
       "      <td>delivered</td>\n",
       "      <td>2017-10-02</td>\n",
       "      <td>2017-10-10</td>\n",
       "      <td>2017-10-18</td>\n",
       "      <td>2017-10-01</td>\n",
       "      <td>2017-10-01</td>\n",
       "      <td>87285b34884572647811a353c7ac498a</td>\n",
       "      <td>29.99</td>\n",
       "      <td>1.0</td>\n",
       "      <td>7c396fd4830fd04220f754e42b4e5bff</td>\n",
       "      <td>4.428571</td>\n",
       "    </tr>\n",
       "    <tr>\n",
       "      <th>1</th>\n",
       "      <td>53cdb2fc8bc7dce0b6741e2150273451</td>\n",
       "      <td>b0830fb4747a6c6d20dea0b8c802d7ef</td>\n",
       "      <td>delivered</td>\n",
       "      <td>2018-07-24</td>\n",
       "      <td>2018-08-07</td>\n",
       "      <td>2018-08-13</td>\n",
       "      <td>2018-07-01</td>\n",
       "      <td>2018-08-01</td>\n",
       "      <td>595fac2a385ac33a80bd5114aec74eb8</td>\n",
       "      <td>118.70</td>\n",
       "      <td>1.0</td>\n",
       "      <td>af07308b275d755c9edb36a90c618231</td>\n",
       "      <td>4.428571</td>\n",
       "    </tr>\n",
       "    <tr>\n",
       "      <th>2</th>\n",
       "      <td>47770eb9100c2d0c44946d9cf07ec65d</td>\n",
       "      <td>41ce2a54c0b03bf3443c3d931a367089</td>\n",
       "      <td>delivered</td>\n",
       "      <td>2018-08-08</td>\n",
       "      <td>2018-08-17</td>\n",
       "      <td>2018-09-04</td>\n",
       "      <td>2018-08-01</td>\n",
       "      <td>2018-08-01</td>\n",
       "      <td>aa4383b373c6aca5d8797843e5594415</td>\n",
       "      <td>159.90</td>\n",
       "      <td>1.0</td>\n",
       "      <td>3a653a41f6f9fc3d2a113cf8398680e8</td>\n",
       "      <td>4.428571</td>\n",
       "    </tr>\n",
       "    <tr>\n",
       "      <th>3</th>\n",
       "      <td>949d5b44dbf5de918fe9c16f97b45f8a</td>\n",
       "      <td>f88197465ea7920adcdbec7375364d82</td>\n",
       "      <td>delivered</td>\n",
       "      <td>2017-11-18</td>\n",
       "      <td>2017-12-02</td>\n",
       "      <td>2017-12-15</td>\n",
       "      <td>2017-11-01</td>\n",
       "      <td>2017-12-01</td>\n",
       "      <td>d0b61bfb1de832b15ba9d266ca96e5b0</td>\n",
       "      <td>45.00</td>\n",
       "      <td>1.0</td>\n",
       "      <td>7c142cf63193a1473d2e66489a9ae977</td>\n",
       "      <td>4.285714</td>\n",
       "    </tr>\n",
       "    <tr>\n",
       "      <th>4</th>\n",
       "      <td>ad21c59c0840e6cb83a9ceb5573f8159</td>\n",
       "      <td>8ab97904e6daea8866dbdbc4fb7aad2c</td>\n",
       "      <td>delivered</td>\n",
       "      <td>2018-02-13</td>\n",
       "      <td>2018-02-16</td>\n",
       "      <td>2018-02-26</td>\n",
       "      <td>2018-02-01</td>\n",
       "      <td>2018-02-01</td>\n",
       "      <td>65266b2da20d04dbe00c5c2d3bb7859e</td>\n",
       "      <td>19.90</td>\n",
       "      <td>1.0</td>\n",
       "      <td>72632f0f9dd73dfee390c9b22eb56dd6</td>\n",
       "      <td>4.000000</td>\n",
       "    </tr>\n",
       "  </tbody>\n",
       "</table>\n",
       "</div>"
      ],
      "text/plain": [
       "                           order_id                       customer_id  \\\n",
       "0  e481f51cbdc54678b7cc49136f2d6af7  9ef432eb6251297304e76186b10a928d   \n",
       "1  53cdb2fc8bc7dce0b6741e2150273451  b0830fb4747a6c6d20dea0b8c802d7ef   \n",
       "2  47770eb9100c2d0c44946d9cf07ec65d  41ce2a54c0b03bf3443c3d931a367089   \n",
       "3  949d5b44dbf5de918fe9c16f97b45f8a  f88197465ea7920adcdbec7375364d82   \n",
       "4  ad21c59c0840e6cb83a9ceb5573f8159  8ab97904e6daea8866dbdbc4fb7aad2c   \n",
       "\n",
       "  order_status order_purchase order_delivered estimated_delivery_date  \\\n",
       "0    delivered     2017-10-02      2017-10-10              2017-10-18   \n",
       "1    delivered     2018-07-24      2018-08-07              2018-08-13   \n",
       "2    delivered     2018-08-08      2018-08-17              2018-09-04   \n",
       "3    delivered     2017-11-18      2017-12-02              2017-12-15   \n",
       "4    delivered     2018-02-13      2018-02-16              2018-02-26   \n",
       "\n",
       "  purchase_date delivered_date                        product_id   price  \\\n",
       "0    2017-10-01     2017-10-01  87285b34884572647811a353c7ac498a   29.99   \n",
       "1    2018-07-01     2018-08-01  595fac2a385ac33a80bd5114aec74eb8  118.70   \n",
       "2    2018-08-01     2018-08-01  aa4383b373c6aca5d8797843e5594415  159.90   \n",
       "3    2017-11-01     2017-12-01  d0b61bfb1de832b15ba9d266ca96e5b0   45.00   \n",
       "4    2018-02-01     2018-02-01  65266b2da20d04dbe00c5c2d3bb7859e   19.90   \n",
       "\n",
       "   quantity                customer_unique_id  weeks_month  \n",
       "0       1.0  7c396fd4830fd04220f754e42b4e5bff     4.428571  \n",
       "1       1.0  af07308b275d755c9edb36a90c618231     4.428571  \n",
       "2       1.0  3a653a41f6f9fc3d2a113cf8398680e8     4.428571  \n",
       "3       1.0  7c142cf63193a1473d2e66489a9ae977     4.285714  \n",
       "4       1.0  72632f0f9dd73dfee390c9b22eb56dd6     4.000000  "
      ]
     },
     "execution_count": 47,
     "metadata": {},
     "output_type": "execute_result"
    }
   ],
   "source": [
    "# Создадим колонку в которой будет храниться количество недель в каждом месяце\n",
    "customer_buys['weeks_month'] = customer_buys.order_purchase.dt.days_in_month / 7\n",
    "customer_buys.head()"
   ]
  },
  {
   "cell_type": "code",
   "execution_count": 48,
   "metadata": {},
   "outputs": [],
   "source": [
    "# Посчитаем количество покупок для каждого пользователя\n",
    "customer_buys_df = customer_buys.groupby(['customer_unique_id', 'order_purchase'], as_index=False) \\\n",
    "             .agg({'quantity': 'sum'}) \\\n",
    "             .rename(columns={'quantity': 'buys'})"
   ]
  },
  {
   "cell_type": "code",
   "execution_count": 49,
   "metadata": {},
   "outputs": [],
   "source": [
    "# Рассчитаем среднее количество покупок в неделю для каждого пользователя\n",
    "customer_buys_df['avg_buys_per_week'] = customer_buys_df.buys / customer_buys.weeks_month"
   ]
  },
  {
   "cell_type": "code",
   "execution_count": 50,
   "metadata": {},
   "outputs": [
    {
     "data": {
      "text/html": [
       "<div>\n",
       "<style scoped>\n",
       "    .dataframe tbody tr th:only-of-type {\n",
       "        vertical-align: middle;\n",
       "    }\n",
       "\n",
       "    .dataframe tbody tr th {\n",
       "        vertical-align: top;\n",
       "    }\n",
       "\n",
       "    .dataframe thead th {\n",
       "        text-align: right;\n",
       "    }\n",
       "</style>\n",
       "<table border=\"1\" class=\"dataframe\">\n",
       "  <thead>\n",
       "    <tr style=\"text-align: right;\">\n",
       "      <th></th>\n",
       "      <th>customer_unique_id</th>\n",
       "      <th>order_purchase</th>\n",
       "      <th>buys</th>\n",
       "      <th>avg_buys_per_week</th>\n",
       "    </tr>\n",
       "  </thead>\n",
       "  <tbody>\n",
       "    <tr>\n",
       "      <th>25902</th>\n",
       "      <td>4546caea018ad8c692964e3382debd19</td>\n",
       "      <td>2017-07-16</td>\n",
       "      <td>21.0</td>\n",
       "      <td>4.741935</td>\n",
       "    </tr>\n",
       "    <tr>\n",
       "      <th>73282</th>\n",
       "      <td>c402f431464c72e27330a67f7b94d4fb</td>\n",
       "      <td>2018-02-22</td>\n",
       "      <td>20.0</td>\n",
       "      <td>4.516129</td>\n",
       "    </tr>\n",
       "    <tr>\n",
       "      <th>39481</th>\n",
       "      <td>698e1cf81d01a3d389d96145f7fa6df8</td>\n",
       "      <td>2017-08-23</td>\n",
       "      <td>20.0</td>\n",
       "      <td>4.666667</td>\n",
       "    </tr>\n",
       "    <tr>\n",
       "      <th>6761</th>\n",
       "      <td>11f97da02237a49c8e783dfda6f50e8e</td>\n",
       "      <td>2017-01-30</td>\n",
       "      <td>15.0</td>\n",
       "      <td>3.387097</td>\n",
       "    </tr>\n",
       "    <tr>\n",
       "      <th>5752</th>\n",
       "      <td>0f5ac8d5c31de21d2f25e24be15bbffb</td>\n",
       "      <td>2017-11-23</td>\n",
       "      <td>15.0</td>\n",
       "      <td>3.387097</td>\n",
       "    </tr>\n",
       "    <tr>\n",
       "      <th>...</th>\n",
       "      <td>...</td>\n",
       "      <td>...</td>\n",
       "      <td>...</td>\n",
       "      <td>...</td>\n",
       "    </tr>\n",
       "    <tr>\n",
       "      <th>33607</th>\n",
       "      <td>59b0e7e6b1f155454156a1bda0e97e2a</td>\n",
       "      <td>2018-03-08</td>\n",
       "      <td>1.0</td>\n",
       "      <td>0.225806</td>\n",
       "    </tr>\n",
       "    <tr>\n",
       "      <th>33606</th>\n",
       "      <td>59aff619adb6008c7b562fc260c1b29b</td>\n",
       "      <td>2018-08-22</td>\n",
       "      <td>1.0</td>\n",
       "      <td>0.250000</td>\n",
       "    </tr>\n",
       "    <tr>\n",
       "      <th>33605</th>\n",
       "      <td>59af340efbf4f7183fe7f92d11d6c7dc</td>\n",
       "      <td>2017-09-25</td>\n",
       "      <td>1.0</td>\n",
       "      <td>0.225806</td>\n",
       "    </tr>\n",
       "    <tr>\n",
       "      <th>33604</th>\n",
       "      <td>59aea6f3724d3746108354ec8312fe2d</td>\n",
       "      <td>2018-01-08</td>\n",
       "      <td>1.0</td>\n",
       "      <td>0.225806</td>\n",
       "    </tr>\n",
       "    <tr>\n",
       "      <th>95587</th>\n",
       "      <td>ffffd2657e2aad2907e67c3e9daecbeb</td>\n",
       "      <td>2017-05-02</td>\n",
       "      <td>1.0</td>\n",
       "      <td>0.225806</td>\n",
       "    </tr>\n",
       "  </tbody>\n",
       "</table>\n",
       "<p>95588 rows × 4 columns</p>\n",
       "</div>"
      ],
      "text/plain": [
       "                     customer_unique_id order_purchase  buys  \\\n",
       "25902  4546caea018ad8c692964e3382debd19     2017-07-16  21.0   \n",
       "73282  c402f431464c72e27330a67f7b94d4fb     2018-02-22  20.0   \n",
       "39481  698e1cf81d01a3d389d96145f7fa6df8     2017-08-23  20.0   \n",
       "6761   11f97da02237a49c8e783dfda6f50e8e     2017-01-30  15.0   \n",
       "5752   0f5ac8d5c31de21d2f25e24be15bbffb     2017-11-23  15.0   \n",
       "...                                 ...            ...   ...   \n",
       "33607  59b0e7e6b1f155454156a1bda0e97e2a     2018-03-08   1.0   \n",
       "33606  59aff619adb6008c7b562fc260c1b29b     2018-08-22   1.0   \n",
       "33605  59af340efbf4f7183fe7f92d11d6c7dc     2017-09-25   1.0   \n",
       "33604  59aea6f3724d3746108354ec8312fe2d     2018-01-08   1.0   \n",
       "95587  ffffd2657e2aad2907e67c3e9daecbeb     2017-05-02   1.0   \n",
       "\n",
       "       avg_buys_per_week  \n",
       "25902           4.741935  \n",
       "73282           4.516129  \n",
       "39481           4.666667  \n",
       "6761            3.387097  \n",
       "5752            3.387097  \n",
       "...                  ...  \n",
       "33607           0.225806  \n",
       "33606           0.250000  \n",
       "33605           0.225806  \n",
       "33604           0.225806  \n",
       "95587           0.225806  \n",
       "\n",
       "[95588 rows x 4 columns]"
      ]
     },
     "execution_count": 50,
     "metadata": {},
     "output_type": "execute_result"
    }
   ],
   "source": [
    "customer_buys_df.sort_values('buys', ascending = False)"
   ]
  },
  {
   "cell_type": "markdown",
   "metadata": {},
   "source": [
    "Вывод: в среднем количество купленных товаров для каждого пользователя в неделю находится в диапазоне [0.225806, 4.741935]"
   ]
  },
  {
   "cell_type": "markdown",
   "metadata": {},
   "source": [
    "5.1. Выполните когортный анализ пользователей.\n",
    "5.2. В период с января по декабрь выявите когорту с самым высоким retention на 3-й месяц."
   ]
  },
  {
   "cell_type": "code",
   "execution_count": 51,
   "metadata": {},
   "outputs": [],
   "source": [
    "cohort_df = df_merged.copy().query('order_status == \"delivered\"')"
   ]
  },
  {
   "cell_type": "code",
   "execution_count": 52,
   "metadata": {},
   "outputs": [],
   "source": [
    "# Определим временные рамки ДФ, чтобы узнать есть ли у нас полный год для последующего анализа"
   ]
  },
  {
   "cell_type": "code",
   "execution_count": 53,
   "metadata": {},
   "outputs": [
    {
     "data": {
      "text/plain": [
       "Timestamp('2016-09-15 00:00:00')"
      ]
     },
     "execution_count": 53,
     "metadata": {},
     "output_type": "execute_result"
    }
   ],
   "source": [
    "cohort_df['order_purchase'].min()"
   ]
  },
  {
   "cell_type": "code",
   "execution_count": 54,
   "metadata": {},
   "outputs": [
    {
     "data": {
      "text/plain": [
       "Timestamp('2018-08-29 00:00:00')"
      ]
     },
     "execution_count": 54,
     "metadata": {},
     "output_type": "execute_result"
    }
   ],
   "source": [
    "cohort_df['order_purchase'].max()"
   ]
  },
  {
   "cell_type": "code",
   "execution_count": 55,
   "metadata": {},
   "outputs": [],
   "source": [
    "# Полным годом является 2017, поэтому будет выполнять когорнтный анализ с января по декабрь 2017 года\n",
    "cohort_df = cohort_df[cohort_df['order_purchase'].dt.year == 2017]"
   ]
  },
  {
   "cell_type": "code",
   "execution_count": 56,
   "metadata": {},
   "outputs": [
    {
     "data": {
      "text/html": [
       "<div>\n",
       "<style scoped>\n",
       "    .dataframe tbody tr th:only-of-type {\n",
       "        vertical-align: middle;\n",
       "    }\n",
       "\n",
       "    .dataframe tbody tr th {\n",
       "        vertical-align: top;\n",
       "    }\n",
       "\n",
       "    .dataframe thead th {\n",
       "        text-align: right;\n",
       "    }\n",
       "</style>\n",
       "<table border=\"1\" class=\"dataframe\">\n",
       "  <thead>\n",
       "    <tr style=\"text-align: right;\">\n",
       "      <th></th>\n",
       "      <th>order_id</th>\n",
       "      <th>customer_id</th>\n",
       "      <th>order_status</th>\n",
       "      <th>order_purchase</th>\n",
       "      <th>order_delivered</th>\n",
       "      <th>estimated_delivery_date</th>\n",
       "      <th>purchase_date</th>\n",
       "      <th>delivered_date</th>\n",
       "      <th>product_id</th>\n",
       "      <th>price</th>\n",
       "      <th>quantity</th>\n",
       "      <th>customer_unique_id</th>\n",
       "    </tr>\n",
       "  </thead>\n",
       "  <tbody>\n",
       "    <tr>\n",
       "      <th>0</th>\n",
       "      <td>e481f51cbdc54678b7cc49136f2d6af7</td>\n",
       "      <td>9ef432eb6251297304e76186b10a928d</td>\n",
       "      <td>delivered</td>\n",
       "      <td>2017-10-02</td>\n",
       "      <td>2017-10-10</td>\n",
       "      <td>2017-10-18</td>\n",
       "      <td>2017-10-01</td>\n",
       "      <td>2017-10-01</td>\n",
       "      <td>87285b34884572647811a353c7ac498a</td>\n",
       "      <td>29.99</td>\n",
       "      <td>1.0</td>\n",
       "      <td>7c396fd4830fd04220f754e42b4e5bff</td>\n",
       "    </tr>\n",
       "    <tr>\n",
       "      <th>3</th>\n",
       "      <td>949d5b44dbf5de918fe9c16f97b45f8a</td>\n",
       "      <td>f88197465ea7920adcdbec7375364d82</td>\n",
       "      <td>delivered</td>\n",
       "      <td>2017-11-18</td>\n",
       "      <td>2017-12-02</td>\n",
       "      <td>2017-12-15</td>\n",
       "      <td>2017-11-01</td>\n",
       "      <td>2017-12-01</td>\n",
       "      <td>d0b61bfb1de832b15ba9d266ca96e5b0</td>\n",
       "      <td>45.00</td>\n",
       "      <td>1.0</td>\n",
       "      <td>7c142cf63193a1473d2e66489a9ae977</td>\n",
       "    </tr>\n",
       "    <tr>\n",
       "      <th>5</th>\n",
       "      <td>a4591c265e18cb1dcee52889e2d8acc3</td>\n",
       "      <td>503740e9ca751ccdda7ba28e9ab8f608</td>\n",
       "      <td>delivered</td>\n",
       "      <td>2017-07-09</td>\n",
       "      <td>2017-07-26</td>\n",
       "      <td>2017-08-01</td>\n",
       "      <td>2017-07-01</td>\n",
       "      <td>2017-07-01</td>\n",
       "      <td>060cb19345d90064d1015407193c233d</td>\n",
       "      <td>147.90</td>\n",
       "      <td>1.0</td>\n",
       "      <td>80bb27c7c16e8f973207a5086ab329e2</td>\n",
       "    </tr>\n",
       "    <tr>\n",
       "      <th>7</th>\n",
       "      <td>6514b8ad8028c9f2cc2374ded245783f</td>\n",
       "      <td>9bdf08b4b3b52b5526ff42d37d47f222</td>\n",
       "      <td>delivered</td>\n",
       "      <td>2017-05-16</td>\n",
       "      <td>2017-05-26</td>\n",
       "      <td>2017-06-07</td>\n",
       "      <td>2017-05-01</td>\n",
       "      <td>2017-05-01</td>\n",
       "      <td>4520766ec412348b8d4caa5e8a18c464</td>\n",
       "      <td>59.99</td>\n",
       "      <td>1.0</td>\n",
       "      <td>932afa1e708222e5821dac9cd5db4cae</td>\n",
       "    </tr>\n",
       "    <tr>\n",
       "      <th>8</th>\n",
       "      <td>76c6e866289321a7c93b82b54852dc33</td>\n",
       "      <td>f54a9f0e6b351c431402b8461ea51999</td>\n",
       "      <td>delivered</td>\n",
       "      <td>2017-01-23</td>\n",
       "      <td>2017-02-02</td>\n",
       "      <td>2017-03-06</td>\n",
       "      <td>2017-01-01</td>\n",
       "      <td>2017-02-01</td>\n",
       "      <td>ac1789e492dcd698c5c10b97a671243a</td>\n",
       "      <td>19.90</td>\n",
       "      <td>1.0</td>\n",
       "      <td>39382392765b6dc74812866ee5ee92a7</td>\n",
       "    </tr>\n",
       "  </tbody>\n",
       "</table>\n",
       "</div>"
      ],
      "text/plain": [
       "                           order_id                       customer_id  \\\n",
       "0  e481f51cbdc54678b7cc49136f2d6af7  9ef432eb6251297304e76186b10a928d   \n",
       "3  949d5b44dbf5de918fe9c16f97b45f8a  f88197465ea7920adcdbec7375364d82   \n",
       "5  a4591c265e18cb1dcee52889e2d8acc3  503740e9ca751ccdda7ba28e9ab8f608   \n",
       "7  6514b8ad8028c9f2cc2374ded245783f  9bdf08b4b3b52b5526ff42d37d47f222   \n",
       "8  76c6e866289321a7c93b82b54852dc33  f54a9f0e6b351c431402b8461ea51999   \n",
       "\n",
       "  order_status order_purchase order_delivered estimated_delivery_date  \\\n",
       "0    delivered     2017-10-02      2017-10-10              2017-10-18   \n",
       "3    delivered     2017-11-18      2017-12-02              2017-12-15   \n",
       "5    delivered     2017-07-09      2017-07-26              2017-08-01   \n",
       "7    delivered     2017-05-16      2017-05-26              2017-06-07   \n",
       "8    delivered     2017-01-23      2017-02-02              2017-03-06   \n",
       "\n",
       "  purchase_date delivered_date                        product_id   price  \\\n",
       "0    2017-10-01     2017-10-01  87285b34884572647811a353c7ac498a   29.99   \n",
       "3    2017-11-01     2017-12-01  d0b61bfb1de832b15ba9d266ca96e5b0   45.00   \n",
       "5    2017-07-01     2017-07-01  060cb19345d90064d1015407193c233d  147.90   \n",
       "7    2017-05-01     2017-05-01  4520766ec412348b8d4caa5e8a18c464   59.99   \n",
       "8    2017-01-01     2017-02-01  ac1789e492dcd698c5c10b97a671243a   19.90   \n",
       "\n",
       "   quantity                customer_unique_id  \n",
       "0       1.0  7c396fd4830fd04220f754e42b4e5bff  \n",
       "3       1.0  7c142cf63193a1473d2e66489a9ae977  \n",
       "5       1.0  80bb27c7c16e8f973207a5086ab329e2  \n",
       "7       1.0  932afa1e708222e5821dac9cd5db4cae  \n",
       "8       1.0  39382392765b6dc74812866ee5ee92a7  "
      ]
     },
     "execution_count": 56,
     "metadata": {},
     "output_type": "execute_result"
    }
   ],
   "source": [
    "cohort_df.head()"
   ]
  },
  {
   "cell_type": "code",
   "execution_count": 57,
   "metadata": {},
   "outputs": [],
   "source": [
    "# Определим месяц первого заказа для каждого пользователя\n",
    "first_order_date = cohort_df.groupby(['customer_unique_id'], as_index = False).agg({'purchase_date' : 'min'}) \\\n",
    "                                .rename(columns = {'purchase_date' : 'first_order'})"
   ]
  },
  {
   "cell_type": "code",
   "execution_count": 58,
   "metadata": {},
   "outputs": [
    {
     "data": {
      "text/html": [
       "<div>\n",
       "<style scoped>\n",
       "    .dataframe tbody tr th:only-of-type {\n",
       "        vertical-align: middle;\n",
       "    }\n",
       "\n",
       "    .dataframe tbody tr th {\n",
       "        vertical-align: top;\n",
       "    }\n",
       "\n",
       "    .dataframe thead th {\n",
       "        text-align: right;\n",
       "    }\n",
       "</style>\n",
       "<table border=\"1\" class=\"dataframe\">\n",
       "  <thead>\n",
       "    <tr style=\"text-align: right;\">\n",
       "      <th></th>\n",
       "      <th>order_id</th>\n",
       "      <th>customer_id</th>\n",
       "      <th>order_status</th>\n",
       "      <th>order_purchase</th>\n",
       "      <th>order_delivered</th>\n",
       "      <th>estimated_delivery_date</th>\n",
       "      <th>purchase_date</th>\n",
       "      <th>delivered_date</th>\n",
       "      <th>product_id</th>\n",
       "      <th>price</th>\n",
       "      <th>quantity</th>\n",
       "      <th>customer_unique_id</th>\n",
       "      <th>first_order</th>\n",
       "    </tr>\n",
       "  </thead>\n",
       "  <tbody>\n",
       "    <tr>\n",
       "      <th>0</th>\n",
       "      <td>e481f51cbdc54678b7cc49136f2d6af7</td>\n",
       "      <td>9ef432eb6251297304e76186b10a928d</td>\n",
       "      <td>delivered</td>\n",
       "      <td>2017-10-02</td>\n",
       "      <td>2017-10-10</td>\n",
       "      <td>2017-10-18</td>\n",
       "      <td>2017-10-01</td>\n",
       "      <td>2017-10-01</td>\n",
       "      <td>87285b34884572647811a353c7ac498a</td>\n",
       "      <td>29.99</td>\n",
       "      <td>1.0</td>\n",
       "      <td>7c396fd4830fd04220f754e42b4e5bff</td>\n",
       "      <td>2017-09-01</td>\n",
       "    </tr>\n",
       "    <tr>\n",
       "      <th>1</th>\n",
       "      <td>949d5b44dbf5de918fe9c16f97b45f8a</td>\n",
       "      <td>f88197465ea7920adcdbec7375364d82</td>\n",
       "      <td>delivered</td>\n",
       "      <td>2017-11-18</td>\n",
       "      <td>2017-12-02</td>\n",
       "      <td>2017-12-15</td>\n",
       "      <td>2017-11-01</td>\n",
       "      <td>2017-12-01</td>\n",
       "      <td>d0b61bfb1de832b15ba9d266ca96e5b0</td>\n",
       "      <td>45.00</td>\n",
       "      <td>1.0</td>\n",
       "      <td>7c142cf63193a1473d2e66489a9ae977</td>\n",
       "      <td>2017-11-01</td>\n",
       "    </tr>\n",
       "    <tr>\n",
       "      <th>2</th>\n",
       "      <td>a4591c265e18cb1dcee52889e2d8acc3</td>\n",
       "      <td>503740e9ca751ccdda7ba28e9ab8f608</td>\n",
       "      <td>delivered</td>\n",
       "      <td>2017-07-09</td>\n",
       "      <td>2017-07-26</td>\n",
       "      <td>2017-08-01</td>\n",
       "      <td>2017-07-01</td>\n",
       "      <td>2017-07-01</td>\n",
       "      <td>060cb19345d90064d1015407193c233d</td>\n",
       "      <td>147.90</td>\n",
       "      <td>1.0</td>\n",
       "      <td>80bb27c7c16e8f973207a5086ab329e2</td>\n",
       "      <td>2017-07-01</td>\n",
       "    </tr>\n",
       "    <tr>\n",
       "      <th>3</th>\n",
       "      <td>6514b8ad8028c9f2cc2374ded245783f</td>\n",
       "      <td>9bdf08b4b3b52b5526ff42d37d47f222</td>\n",
       "      <td>delivered</td>\n",
       "      <td>2017-05-16</td>\n",
       "      <td>2017-05-26</td>\n",
       "      <td>2017-06-07</td>\n",
       "      <td>2017-05-01</td>\n",
       "      <td>2017-05-01</td>\n",
       "      <td>4520766ec412348b8d4caa5e8a18c464</td>\n",
       "      <td>59.99</td>\n",
       "      <td>1.0</td>\n",
       "      <td>932afa1e708222e5821dac9cd5db4cae</td>\n",
       "      <td>2017-05-01</td>\n",
       "    </tr>\n",
       "    <tr>\n",
       "      <th>4</th>\n",
       "      <td>76c6e866289321a7c93b82b54852dc33</td>\n",
       "      <td>f54a9f0e6b351c431402b8461ea51999</td>\n",
       "      <td>delivered</td>\n",
       "      <td>2017-01-23</td>\n",
       "      <td>2017-02-02</td>\n",
       "      <td>2017-03-06</td>\n",
       "      <td>2017-01-01</td>\n",
       "      <td>2017-02-01</td>\n",
       "      <td>ac1789e492dcd698c5c10b97a671243a</td>\n",
       "      <td>19.90</td>\n",
       "      <td>1.0</td>\n",
       "      <td>39382392765b6dc74812866ee5ee92a7</td>\n",
       "      <td>2017-01-01</td>\n",
       "    </tr>\n",
       "  </tbody>\n",
       "</table>\n",
       "</div>"
      ],
      "text/plain": [
       "                           order_id                       customer_id  \\\n",
       "0  e481f51cbdc54678b7cc49136f2d6af7  9ef432eb6251297304e76186b10a928d   \n",
       "1  949d5b44dbf5de918fe9c16f97b45f8a  f88197465ea7920adcdbec7375364d82   \n",
       "2  a4591c265e18cb1dcee52889e2d8acc3  503740e9ca751ccdda7ba28e9ab8f608   \n",
       "3  6514b8ad8028c9f2cc2374ded245783f  9bdf08b4b3b52b5526ff42d37d47f222   \n",
       "4  76c6e866289321a7c93b82b54852dc33  f54a9f0e6b351c431402b8461ea51999   \n",
       "\n",
       "  order_status order_purchase order_delivered estimated_delivery_date  \\\n",
       "0    delivered     2017-10-02      2017-10-10              2017-10-18   \n",
       "1    delivered     2017-11-18      2017-12-02              2017-12-15   \n",
       "2    delivered     2017-07-09      2017-07-26              2017-08-01   \n",
       "3    delivered     2017-05-16      2017-05-26              2017-06-07   \n",
       "4    delivered     2017-01-23      2017-02-02              2017-03-06   \n",
       "\n",
       "  purchase_date delivered_date                        product_id   price  \\\n",
       "0    2017-10-01     2017-10-01  87285b34884572647811a353c7ac498a   29.99   \n",
       "1    2017-11-01     2017-12-01  d0b61bfb1de832b15ba9d266ca96e5b0   45.00   \n",
       "2    2017-07-01     2017-07-01  060cb19345d90064d1015407193c233d  147.90   \n",
       "3    2017-05-01     2017-05-01  4520766ec412348b8d4caa5e8a18c464   59.99   \n",
       "4    2017-01-01     2017-02-01  ac1789e492dcd698c5c10b97a671243a   19.90   \n",
       "\n",
       "   quantity                customer_unique_id first_order  \n",
       "0       1.0  7c396fd4830fd04220f754e42b4e5bff  2017-09-01  \n",
       "1       1.0  7c142cf63193a1473d2e66489a9ae977  2017-11-01  \n",
       "2       1.0  80bb27c7c16e8f973207a5086ab329e2  2017-07-01  \n",
       "3       1.0  932afa1e708222e5821dac9cd5db4cae  2017-05-01  \n",
       "4       1.0  39382392765b6dc74812866ee5ee92a7  2017-01-01  "
      ]
     },
     "execution_count": 58,
     "metadata": {},
     "output_type": "execute_result"
    }
   ],
   "source": [
    "# Смерджим полученный ДФ с cohort_df\n",
    "cohort_df = cohort_df.merge(first_order_date, how = 'left', on = 'customer_unique_id')\n",
    "cohort_df.head()"
   ]
  },
  {
   "cell_type": "code",
   "execution_count": 59,
   "metadata": {},
   "outputs": [
    {
     "data": {
      "text/html": [
       "<div>\n",
       "<style scoped>\n",
       "    .dataframe tbody tr th:only-of-type {\n",
       "        vertical-align: middle;\n",
       "    }\n",
       "\n",
       "    .dataframe tbody tr th {\n",
       "        vertical-align: top;\n",
       "    }\n",
       "\n",
       "    .dataframe thead th {\n",
       "        text-align: right;\n",
       "    }\n",
       "</style>\n",
       "<table border=\"1\" class=\"dataframe\">\n",
       "  <thead>\n",
       "    <tr style=\"text-align: right;\">\n",
       "      <th></th>\n",
       "      <th>purchase_date</th>\n",
       "      <th>first_order</th>\n",
       "      <th>customers</th>\n",
       "    </tr>\n",
       "  </thead>\n",
       "  <tbody>\n",
       "    <tr>\n",
       "      <th>0</th>\n",
       "      <td>2017-01-01</td>\n",
       "      <td>2017-01-01</td>\n",
       "      <td>718</td>\n",
       "    </tr>\n",
       "    <tr>\n",
       "      <th>1</th>\n",
       "      <td>2017-02-01</td>\n",
       "      <td>2017-01-01</td>\n",
       "      <td>2</td>\n",
       "    </tr>\n",
       "    <tr>\n",
       "      <th>3</th>\n",
       "      <td>2017-03-01</td>\n",
       "      <td>2017-01-01</td>\n",
       "      <td>2</td>\n",
       "    </tr>\n",
       "    <tr>\n",
       "      <th>6</th>\n",
       "      <td>2017-04-01</td>\n",
       "      <td>2017-01-01</td>\n",
       "      <td>1</td>\n",
       "    </tr>\n",
       "    <tr>\n",
       "      <th>10</th>\n",
       "      <td>2017-05-01</td>\n",
       "      <td>2017-01-01</td>\n",
       "      <td>3</td>\n",
       "    </tr>\n",
       "    <tr>\n",
       "      <th>...</th>\n",
       "      <td>...</td>\n",
       "      <td>...</td>\n",
       "      <td>...</td>\n",
       "    </tr>\n",
       "    <tr>\n",
       "      <th>63</th>\n",
       "      <td>2017-11-01</td>\n",
       "      <td>2017-10-01</td>\n",
       "      <td>31</td>\n",
       "    </tr>\n",
       "    <tr>\n",
       "      <th>74</th>\n",
       "      <td>2017-12-01</td>\n",
       "      <td>2017-10-01</td>\n",
       "      <td>11</td>\n",
       "    </tr>\n",
       "    <tr>\n",
       "      <th>64</th>\n",
       "      <td>2017-11-01</td>\n",
       "      <td>2017-11-01</td>\n",
       "      <td>7061</td>\n",
       "    </tr>\n",
       "    <tr>\n",
       "      <th>75</th>\n",
       "      <td>2017-12-01</td>\n",
       "      <td>2017-11-01</td>\n",
       "      <td>40</td>\n",
       "    </tr>\n",
       "    <tr>\n",
       "      <th>76</th>\n",
       "      <td>2017-12-01</td>\n",
       "      <td>2017-12-01</td>\n",
       "      <td>5338</td>\n",
       "    </tr>\n",
       "  </tbody>\n",
       "</table>\n",
       "<p>77 rows × 3 columns</p>\n",
       "</div>"
      ],
      "text/plain": [
       "   purchase_date first_order  customers\n",
       "0     2017-01-01  2017-01-01        718\n",
       "1     2017-02-01  2017-01-01          2\n",
       "3     2017-03-01  2017-01-01          2\n",
       "6     2017-04-01  2017-01-01          1\n",
       "10    2017-05-01  2017-01-01          3\n",
       "..           ...         ...        ...\n",
       "63    2017-11-01  2017-10-01         31\n",
       "74    2017-12-01  2017-10-01         11\n",
       "64    2017-11-01  2017-11-01       7061\n",
       "75    2017-12-01  2017-11-01         40\n",
       "76    2017-12-01  2017-12-01       5338\n",
       "\n",
       "[77 rows x 3 columns]"
      ]
     },
     "execution_count": 59,
     "metadata": {},
     "output_type": "execute_result"
    }
   ],
   "source": [
    "# Создадим новый ДФ\n",
    "new_cohort = cohort_df \\\n",
    "          .groupby(['purchase_date', 'first_order'], as_index=False) \\\n",
    "          .agg({'customer_unique_id': 'nunique'}) \\\n",
    "          .rename(columns={'customer_unique_id': 'customers'}) \\\n",
    "\n",
    "new_cohort.sort_values(by=['first_order', 'purchase_date'])"
   ]
  },
  {
   "cell_type": "code",
   "execution_count": 60,
   "metadata": {},
   "outputs": [
    {
     "data": {
      "text/html": [
       "<div>\n",
       "<style scoped>\n",
       "    .dataframe tbody tr th:only-of-type {\n",
       "        vertical-align: middle;\n",
       "    }\n",
       "\n",
       "    .dataframe tbody tr th {\n",
       "        vertical-align: top;\n",
       "    }\n",
       "\n",
       "    .dataframe thead th {\n",
       "        text-align: right;\n",
       "    }\n",
       "</style>\n",
       "<table border=\"1\" class=\"dataframe\">\n",
       "  <thead>\n",
       "    <tr style=\"text-align: right;\">\n",
       "      <th>purchase_date</th>\n",
       "      <th>2017-01-01</th>\n",
       "      <th>2017-02-01</th>\n",
       "      <th>2017-03-01</th>\n",
       "      <th>2017-04-01</th>\n",
       "      <th>2017-05-01</th>\n",
       "      <th>2017-06-01</th>\n",
       "      <th>2017-07-01</th>\n",
       "      <th>2017-08-01</th>\n",
       "      <th>2017-09-01</th>\n",
       "      <th>2017-10-01</th>\n",
       "      <th>2017-11-01</th>\n",
       "      <th>2017-12-01</th>\n",
       "    </tr>\n",
       "    <tr>\n",
       "      <th>first_order</th>\n",
       "      <th></th>\n",
       "      <th></th>\n",
       "      <th></th>\n",
       "      <th></th>\n",
       "      <th></th>\n",
       "      <th></th>\n",
       "      <th></th>\n",
       "      <th></th>\n",
       "      <th></th>\n",
       "      <th></th>\n",
       "      <th></th>\n",
       "      <th></th>\n",
       "    </tr>\n",
       "  </thead>\n",
       "  <tbody>\n",
       "    <tr>\n",
       "      <th>2017-01-01</th>\n",
       "      <td>718.0</td>\n",
       "      <td>2.0</td>\n",
       "      <td>2.0</td>\n",
       "      <td>1.0</td>\n",
       "      <td>3.0</td>\n",
       "      <td>1.0</td>\n",
       "      <td>3.0</td>\n",
       "      <td>1.0</td>\n",
       "      <td>1.0</td>\n",
       "      <td>0.0</td>\n",
       "      <td>3.0</td>\n",
       "      <td>1.0</td>\n",
       "    </tr>\n",
       "    <tr>\n",
       "      <th>2017-02-01</th>\n",
       "      <td>0.0</td>\n",
       "      <td>1628.0</td>\n",
       "      <td>3.0</td>\n",
       "      <td>5.0</td>\n",
       "      <td>2.0</td>\n",
       "      <td>7.0</td>\n",
       "      <td>2.0</td>\n",
       "      <td>4.0</td>\n",
       "      <td>3.0</td>\n",
       "      <td>2.0</td>\n",
       "      <td>3.0</td>\n",
       "      <td>2.0</td>\n",
       "    </tr>\n",
       "    <tr>\n",
       "      <th>2017-03-01</th>\n",
       "      <td>0.0</td>\n",
       "      <td>0.0</td>\n",
       "      <td>2503.0</td>\n",
       "      <td>11.0</td>\n",
       "      <td>9.0</td>\n",
       "      <td>10.0</td>\n",
       "      <td>9.0</td>\n",
       "      <td>4.0</td>\n",
       "      <td>4.0</td>\n",
       "      <td>8.0</td>\n",
       "      <td>8.0</td>\n",
       "      <td>2.0</td>\n",
       "    </tr>\n",
       "    <tr>\n",
       "      <th>2017-04-01</th>\n",
       "      <td>0.0</td>\n",
       "      <td>0.0</td>\n",
       "      <td>0.0</td>\n",
       "      <td>2257.0</td>\n",
       "      <td>14.0</td>\n",
       "      <td>5.0</td>\n",
       "      <td>4.0</td>\n",
       "      <td>6.0</td>\n",
       "      <td>6.0</td>\n",
       "      <td>8.0</td>\n",
       "      <td>7.0</td>\n",
       "      <td>7.0</td>\n",
       "    </tr>\n",
       "    <tr>\n",
       "      <th>2017-05-01</th>\n",
       "      <td>0.0</td>\n",
       "      <td>0.0</td>\n",
       "      <td>0.0</td>\n",
       "      <td>0.0</td>\n",
       "      <td>3451.0</td>\n",
       "      <td>16.0</td>\n",
       "      <td>16.0</td>\n",
       "      <td>10.0</td>\n",
       "      <td>10.0</td>\n",
       "      <td>11.0</td>\n",
       "      <td>14.0</td>\n",
       "      <td>5.0</td>\n",
       "    </tr>\n",
       "    <tr>\n",
       "      <th>2017-06-01</th>\n",
       "      <td>0.0</td>\n",
       "      <td>0.0</td>\n",
       "      <td>0.0</td>\n",
       "      <td>0.0</td>\n",
       "      <td>0.0</td>\n",
       "      <td>3037.0</td>\n",
       "      <td>15.0</td>\n",
       "      <td>12.0</td>\n",
       "      <td>13.0</td>\n",
       "      <td>9.0</td>\n",
       "      <td>12.0</td>\n",
       "      <td>11.0</td>\n",
       "    </tr>\n",
       "    <tr>\n",
       "      <th>2017-07-01</th>\n",
       "      <td>0.0</td>\n",
       "      <td>0.0</td>\n",
       "      <td>0.0</td>\n",
       "      <td>0.0</td>\n",
       "      <td>0.0</td>\n",
       "      <td>0.0</td>\n",
       "      <td>3753.0</td>\n",
       "      <td>20.0</td>\n",
       "      <td>13.0</td>\n",
       "      <td>9.0</td>\n",
       "      <td>11.0</td>\n",
       "      <td>8.0</td>\n",
       "    </tr>\n",
       "    <tr>\n",
       "      <th>2017-08-01</th>\n",
       "      <td>0.0</td>\n",
       "      <td>0.0</td>\n",
       "      <td>0.0</td>\n",
       "      <td>0.0</td>\n",
       "      <td>0.0</td>\n",
       "      <td>0.0</td>\n",
       "      <td>0.0</td>\n",
       "      <td>4057.0</td>\n",
       "      <td>28.0</td>\n",
       "      <td>14.0</td>\n",
       "      <td>11.0</td>\n",
       "      <td>14.0</td>\n",
       "    </tr>\n",
       "    <tr>\n",
       "      <th>2017-09-01</th>\n",
       "      <td>0.0</td>\n",
       "      <td>0.0</td>\n",
       "      <td>0.0</td>\n",
       "      <td>0.0</td>\n",
       "      <td>0.0</td>\n",
       "      <td>0.0</td>\n",
       "      <td>0.0</td>\n",
       "      <td>0.0</td>\n",
       "      <td>4005.0</td>\n",
       "      <td>28.0</td>\n",
       "      <td>22.0</td>\n",
       "      <td>11.0</td>\n",
       "    </tr>\n",
       "    <tr>\n",
       "      <th>2017-10-01</th>\n",
       "      <td>0.0</td>\n",
       "      <td>0.0</td>\n",
       "      <td>0.0</td>\n",
       "      <td>0.0</td>\n",
       "      <td>0.0</td>\n",
       "      <td>0.0</td>\n",
       "      <td>0.0</td>\n",
       "      <td>0.0</td>\n",
       "      <td>0.0</td>\n",
       "      <td>4328.0</td>\n",
       "      <td>31.0</td>\n",
       "      <td>11.0</td>\n",
       "    </tr>\n",
       "    <tr>\n",
       "      <th>2017-11-01</th>\n",
       "      <td>0.0</td>\n",
       "      <td>0.0</td>\n",
       "      <td>0.0</td>\n",
       "      <td>0.0</td>\n",
       "      <td>0.0</td>\n",
       "      <td>0.0</td>\n",
       "      <td>0.0</td>\n",
       "      <td>0.0</td>\n",
       "      <td>0.0</td>\n",
       "      <td>0.0</td>\n",
       "      <td>7061.0</td>\n",
       "      <td>40.0</td>\n",
       "    </tr>\n",
       "    <tr>\n",
       "      <th>2017-12-01</th>\n",
       "      <td>0.0</td>\n",
       "      <td>0.0</td>\n",
       "      <td>0.0</td>\n",
       "      <td>0.0</td>\n",
       "      <td>0.0</td>\n",
       "      <td>0.0</td>\n",
       "      <td>0.0</td>\n",
       "      <td>0.0</td>\n",
       "      <td>0.0</td>\n",
       "      <td>0.0</td>\n",
       "      <td>0.0</td>\n",
       "      <td>5338.0</td>\n",
       "    </tr>\n",
       "  </tbody>\n",
       "</table>\n",
       "</div>"
      ],
      "text/plain": [
       "purchase_date  2017-01-01  2017-02-01  2017-03-01  2017-04-01  2017-05-01  \\\n",
       "first_order                                                                 \n",
       "2017-01-01          718.0         2.0         2.0         1.0         3.0   \n",
       "2017-02-01            0.0      1628.0         3.0         5.0         2.0   \n",
       "2017-03-01            0.0         0.0      2503.0        11.0         9.0   \n",
       "2017-04-01            0.0         0.0         0.0      2257.0        14.0   \n",
       "2017-05-01            0.0         0.0         0.0         0.0      3451.0   \n",
       "2017-06-01            0.0         0.0         0.0         0.0         0.0   \n",
       "2017-07-01            0.0         0.0         0.0         0.0         0.0   \n",
       "2017-08-01            0.0         0.0         0.0         0.0         0.0   \n",
       "2017-09-01            0.0         0.0         0.0         0.0         0.0   \n",
       "2017-10-01            0.0         0.0         0.0         0.0         0.0   \n",
       "2017-11-01            0.0         0.0         0.0         0.0         0.0   \n",
       "2017-12-01            0.0         0.0         0.0         0.0         0.0   \n",
       "\n",
       "purchase_date  2017-06-01  2017-07-01  2017-08-01  2017-09-01  2017-10-01  \\\n",
       "first_order                                                                 \n",
       "2017-01-01            1.0         3.0         1.0         1.0         0.0   \n",
       "2017-02-01            7.0         2.0         4.0         3.0         2.0   \n",
       "2017-03-01           10.0         9.0         4.0         4.0         8.0   \n",
       "2017-04-01            5.0         4.0         6.0         6.0         8.0   \n",
       "2017-05-01           16.0        16.0        10.0        10.0        11.0   \n",
       "2017-06-01         3037.0        15.0        12.0        13.0         9.0   \n",
       "2017-07-01            0.0      3753.0        20.0        13.0         9.0   \n",
       "2017-08-01            0.0         0.0      4057.0        28.0        14.0   \n",
       "2017-09-01            0.0         0.0         0.0      4005.0        28.0   \n",
       "2017-10-01            0.0         0.0         0.0         0.0      4328.0   \n",
       "2017-11-01            0.0         0.0         0.0         0.0         0.0   \n",
       "2017-12-01            0.0         0.0         0.0         0.0         0.0   \n",
       "\n",
       "purchase_date  2017-11-01  2017-12-01  \n",
       "first_order                            \n",
       "2017-01-01            3.0         1.0  \n",
       "2017-02-01            3.0         2.0  \n",
       "2017-03-01            8.0         2.0  \n",
       "2017-04-01            7.0         7.0  \n",
       "2017-05-01           14.0         5.0  \n",
       "2017-06-01           12.0        11.0  \n",
       "2017-07-01           11.0         8.0  \n",
       "2017-08-01           11.0        14.0  \n",
       "2017-09-01           22.0        11.0  \n",
       "2017-10-01           31.0        11.0  \n",
       "2017-11-01         7061.0        40.0  \n",
       "2017-12-01            0.0      5338.0  "
      ]
     },
     "execution_count": 60,
     "metadata": {},
     "output_type": "execute_result"
    }
   ],
   "source": [
    "# Создадим pivot таблицу для когортного анализа, а также заполним NaN значения нулями.\n",
    "cohort_analysis_df = new_cohort.pivot(index = 'first_order', columns = 'purchase_date', values = 'customers')\n",
    "cohort_analysis_df = cohort_analysis_df.fillna(0)\n",
    "cohort_analysis_df"
   ]
  },
  {
   "cell_type": "code",
   "execution_count": 61,
   "metadata": {},
   "outputs": [
    {
     "data": {
      "text/html": [
       "<div>\n",
       "<style scoped>\n",
       "    .dataframe tbody tr th:only-of-type {\n",
       "        vertical-align: middle;\n",
       "    }\n",
       "\n",
       "    .dataframe tbody tr th {\n",
       "        vertical-align: top;\n",
       "    }\n",
       "\n",
       "    .dataframe thead th {\n",
       "        text-align: right;\n",
       "    }\n",
       "</style>\n",
       "<table border=\"1\" class=\"dataframe\">\n",
       "  <thead>\n",
       "    <tr style=\"text-align: right;\">\n",
       "      <th></th>\n",
       "      <th>purchase_date</th>\n",
       "      <th>first_order</th>\n",
       "      <th>customers</th>\n",
       "      <th>month_number</th>\n",
       "    </tr>\n",
       "  </thead>\n",
       "  <tbody>\n",
       "    <tr>\n",
       "      <th>0</th>\n",
       "      <td>2017-01-01</td>\n",
       "      <td>2017-01-01</td>\n",
       "      <td>718</td>\n",
       "      <td>1</td>\n",
       "    </tr>\n",
       "    <tr>\n",
       "      <th>1</th>\n",
       "      <td>2017-02-01</td>\n",
       "      <td>2017-01-01</td>\n",
       "      <td>2</td>\n",
       "      <td>2</td>\n",
       "    </tr>\n",
       "    <tr>\n",
       "      <th>2</th>\n",
       "      <td>2017-02-01</td>\n",
       "      <td>2017-02-01</td>\n",
       "      <td>1628</td>\n",
       "      <td>1</td>\n",
       "    </tr>\n",
       "    <tr>\n",
       "      <th>3</th>\n",
       "      <td>2017-03-01</td>\n",
       "      <td>2017-01-01</td>\n",
       "      <td>2</td>\n",
       "      <td>3</td>\n",
       "    </tr>\n",
       "    <tr>\n",
       "      <th>4</th>\n",
       "      <td>2017-03-01</td>\n",
       "      <td>2017-02-01</td>\n",
       "      <td>3</td>\n",
       "      <td>2</td>\n",
       "    </tr>\n",
       "  </tbody>\n",
       "</table>\n",
       "</div>"
      ],
      "text/plain": [
       "  purchase_date first_order  customers  month_number\n",
       "0    2017-01-01  2017-01-01        718             1\n",
       "1    2017-02-01  2017-01-01          2             2\n",
       "2    2017-02-01  2017-02-01       1628             1\n",
       "3    2017-03-01  2017-01-01          2             3\n",
       "4    2017-03-01  2017-02-01          3             2"
      ]
     },
     "execution_count": 61,
     "metadata": {},
     "output_type": "execute_result"
    }
   ],
   "source": [
    "# Сделаем разбивку по месяцам более наглядной, добавив новый столбец\n",
    "new_cohort['month_number'] = (new_cohort.purchase_date.dt.month - new_cohort.first_order.dt.month) + 1\n",
    "new_cohort.head()"
   ]
  },
  {
   "cell_type": "code",
   "execution_count": 62,
   "metadata": {},
   "outputs": [
    {
     "data": {
      "text/html": [
       "<div>\n",
       "<style scoped>\n",
       "    .dataframe tbody tr th:only-of-type {\n",
       "        vertical-align: middle;\n",
       "    }\n",
       "\n",
       "    .dataframe tbody tr th {\n",
       "        vertical-align: top;\n",
       "    }\n",
       "\n",
       "    .dataframe thead th {\n",
       "        text-align: right;\n",
       "    }\n",
       "</style>\n",
       "<table border=\"1\" class=\"dataframe\">\n",
       "  <thead>\n",
       "    <tr style=\"text-align: right;\">\n",
       "      <th>month_number</th>\n",
       "      <th>1</th>\n",
       "      <th>2</th>\n",
       "      <th>3</th>\n",
       "      <th>4</th>\n",
       "      <th>5</th>\n",
       "      <th>6</th>\n",
       "      <th>7</th>\n",
       "      <th>8</th>\n",
       "      <th>9</th>\n",
       "      <th>10</th>\n",
       "      <th>11</th>\n",
       "      <th>12</th>\n",
       "    </tr>\n",
       "    <tr>\n",
       "      <th>first_order</th>\n",
       "      <th></th>\n",
       "      <th></th>\n",
       "      <th></th>\n",
       "      <th></th>\n",
       "      <th></th>\n",
       "      <th></th>\n",
       "      <th></th>\n",
       "      <th></th>\n",
       "      <th></th>\n",
       "      <th></th>\n",
       "      <th></th>\n",
       "      <th></th>\n",
       "    </tr>\n",
       "  </thead>\n",
       "  <tbody>\n",
       "    <tr>\n",
       "      <th>2017-01-01</th>\n",
       "      <td>718.0</td>\n",
       "      <td>2.0</td>\n",
       "      <td>2.0</td>\n",
       "      <td>1.0</td>\n",
       "      <td>3.0</td>\n",
       "      <td>1.0</td>\n",
       "      <td>3.0</td>\n",
       "      <td>1.0</td>\n",
       "      <td>1.0</td>\n",
       "      <td>NaN</td>\n",
       "      <td>3.0</td>\n",
       "      <td>1.0</td>\n",
       "    </tr>\n",
       "    <tr>\n",
       "      <th>2017-02-01</th>\n",
       "      <td>1628.0</td>\n",
       "      <td>3.0</td>\n",
       "      <td>5.0</td>\n",
       "      <td>2.0</td>\n",
       "      <td>7.0</td>\n",
       "      <td>2.0</td>\n",
       "      <td>4.0</td>\n",
       "      <td>3.0</td>\n",
       "      <td>2.0</td>\n",
       "      <td>3.0</td>\n",
       "      <td>2.0</td>\n",
       "      <td>NaN</td>\n",
       "    </tr>\n",
       "    <tr>\n",
       "      <th>2017-03-01</th>\n",
       "      <td>2503.0</td>\n",
       "      <td>11.0</td>\n",
       "      <td>9.0</td>\n",
       "      <td>10.0</td>\n",
       "      <td>9.0</td>\n",
       "      <td>4.0</td>\n",
       "      <td>4.0</td>\n",
       "      <td>8.0</td>\n",
       "      <td>8.0</td>\n",
       "      <td>2.0</td>\n",
       "      <td>NaN</td>\n",
       "      <td>NaN</td>\n",
       "    </tr>\n",
       "    <tr>\n",
       "      <th>2017-04-01</th>\n",
       "      <td>2257.0</td>\n",
       "      <td>14.0</td>\n",
       "      <td>5.0</td>\n",
       "      <td>4.0</td>\n",
       "      <td>6.0</td>\n",
       "      <td>6.0</td>\n",
       "      <td>8.0</td>\n",
       "      <td>7.0</td>\n",
       "      <td>7.0</td>\n",
       "      <td>NaN</td>\n",
       "      <td>NaN</td>\n",
       "      <td>NaN</td>\n",
       "    </tr>\n",
       "    <tr>\n",
       "      <th>2017-05-01</th>\n",
       "      <td>3451.0</td>\n",
       "      <td>16.0</td>\n",
       "      <td>16.0</td>\n",
       "      <td>10.0</td>\n",
       "      <td>10.0</td>\n",
       "      <td>11.0</td>\n",
       "      <td>14.0</td>\n",
       "      <td>5.0</td>\n",
       "      <td>NaN</td>\n",
       "      <td>NaN</td>\n",
       "      <td>NaN</td>\n",
       "      <td>NaN</td>\n",
       "    </tr>\n",
       "    <tr>\n",
       "      <th>2017-06-01</th>\n",
       "      <td>3037.0</td>\n",
       "      <td>15.0</td>\n",
       "      <td>12.0</td>\n",
       "      <td>13.0</td>\n",
       "      <td>9.0</td>\n",
       "      <td>12.0</td>\n",
       "      <td>11.0</td>\n",
       "      <td>NaN</td>\n",
       "      <td>NaN</td>\n",
       "      <td>NaN</td>\n",
       "      <td>NaN</td>\n",
       "      <td>NaN</td>\n",
       "    </tr>\n",
       "    <tr>\n",
       "      <th>2017-07-01</th>\n",
       "      <td>3753.0</td>\n",
       "      <td>20.0</td>\n",
       "      <td>13.0</td>\n",
       "      <td>9.0</td>\n",
       "      <td>11.0</td>\n",
       "      <td>8.0</td>\n",
       "      <td>NaN</td>\n",
       "      <td>NaN</td>\n",
       "      <td>NaN</td>\n",
       "      <td>NaN</td>\n",
       "      <td>NaN</td>\n",
       "      <td>NaN</td>\n",
       "    </tr>\n",
       "    <tr>\n",
       "      <th>2017-08-01</th>\n",
       "      <td>4057.0</td>\n",
       "      <td>28.0</td>\n",
       "      <td>14.0</td>\n",
       "      <td>11.0</td>\n",
       "      <td>14.0</td>\n",
       "      <td>NaN</td>\n",
       "      <td>NaN</td>\n",
       "      <td>NaN</td>\n",
       "      <td>NaN</td>\n",
       "      <td>NaN</td>\n",
       "      <td>NaN</td>\n",
       "      <td>NaN</td>\n",
       "    </tr>\n",
       "    <tr>\n",
       "      <th>2017-09-01</th>\n",
       "      <td>4005.0</td>\n",
       "      <td>28.0</td>\n",
       "      <td>22.0</td>\n",
       "      <td>11.0</td>\n",
       "      <td>NaN</td>\n",
       "      <td>NaN</td>\n",
       "      <td>NaN</td>\n",
       "      <td>NaN</td>\n",
       "      <td>NaN</td>\n",
       "      <td>NaN</td>\n",
       "      <td>NaN</td>\n",
       "      <td>NaN</td>\n",
       "    </tr>\n",
       "    <tr>\n",
       "      <th>2017-10-01</th>\n",
       "      <td>4328.0</td>\n",
       "      <td>31.0</td>\n",
       "      <td>11.0</td>\n",
       "      <td>NaN</td>\n",
       "      <td>NaN</td>\n",
       "      <td>NaN</td>\n",
       "      <td>NaN</td>\n",
       "      <td>NaN</td>\n",
       "      <td>NaN</td>\n",
       "      <td>NaN</td>\n",
       "      <td>NaN</td>\n",
       "      <td>NaN</td>\n",
       "    </tr>\n",
       "    <tr>\n",
       "      <th>2017-11-01</th>\n",
       "      <td>7061.0</td>\n",
       "      <td>40.0</td>\n",
       "      <td>NaN</td>\n",
       "      <td>NaN</td>\n",
       "      <td>NaN</td>\n",
       "      <td>NaN</td>\n",
       "      <td>NaN</td>\n",
       "      <td>NaN</td>\n",
       "      <td>NaN</td>\n",
       "      <td>NaN</td>\n",
       "      <td>NaN</td>\n",
       "      <td>NaN</td>\n",
       "    </tr>\n",
       "    <tr>\n",
       "      <th>2017-12-01</th>\n",
       "      <td>5338.0</td>\n",
       "      <td>NaN</td>\n",
       "      <td>NaN</td>\n",
       "      <td>NaN</td>\n",
       "      <td>NaN</td>\n",
       "      <td>NaN</td>\n",
       "      <td>NaN</td>\n",
       "      <td>NaN</td>\n",
       "      <td>NaN</td>\n",
       "      <td>NaN</td>\n",
       "      <td>NaN</td>\n",
       "      <td>NaN</td>\n",
       "    </tr>\n",
       "  </tbody>\n",
       "</table>\n",
       "</div>"
      ],
      "text/plain": [
       "month_number      1     2     3     4     5     6     7    8    9    10   11  \\\n",
       "first_order                                                                    \n",
       "2017-01-01     718.0   2.0   2.0   1.0   3.0   1.0   3.0  1.0  1.0  NaN  3.0   \n",
       "2017-02-01    1628.0   3.0   5.0   2.0   7.0   2.0   4.0  3.0  2.0  3.0  2.0   \n",
       "2017-03-01    2503.0  11.0   9.0  10.0   9.0   4.0   4.0  8.0  8.0  2.0  NaN   \n",
       "2017-04-01    2257.0  14.0   5.0   4.0   6.0   6.0   8.0  7.0  7.0  NaN  NaN   \n",
       "2017-05-01    3451.0  16.0  16.0  10.0  10.0  11.0  14.0  5.0  NaN  NaN  NaN   \n",
       "2017-06-01    3037.0  15.0  12.0  13.0   9.0  12.0  11.0  NaN  NaN  NaN  NaN   \n",
       "2017-07-01    3753.0  20.0  13.0   9.0  11.0   8.0   NaN  NaN  NaN  NaN  NaN   \n",
       "2017-08-01    4057.0  28.0  14.0  11.0  14.0   NaN   NaN  NaN  NaN  NaN  NaN   \n",
       "2017-09-01    4005.0  28.0  22.0  11.0   NaN   NaN   NaN  NaN  NaN  NaN  NaN   \n",
       "2017-10-01    4328.0  31.0  11.0   NaN   NaN   NaN   NaN  NaN  NaN  NaN  NaN   \n",
       "2017-11-01    7061.0  40.0   NaN   NaN   NaN   NaN   NaN  NaN  NaN  NaN  NaN   \n",
       "2017-12-01    5338.0   NaN   NaN   NaN   NaN   NaN   NaN  NaN  NaN  NaN  NaN   \n",
       "\n",
       "month_number   12  \n",
       "first_order        \n",
       "2017-01-01    1.0  \n",
       "2017-02-01    NaN  \n",
       "2017-03-01    NaN  \n",
       "2017-04-01    NaN  \n",
       "2017-05-01    NaN  \n",
       "2017-06-01    NaN  \n",
       "2017-07-01    NaN  \n",
       "2017-08-01    NaN  \n",
       "2017-09-01    NaN  \n",
       "2017-10-01    NaN  \n",
       "2017-11-01    NaN  \n",
       "2017-12-01    NaN  "
      ]
     },
     "execution_count": 62,
     "metadata": {},
     "output_type": "execute_result"
    }
   ],
   "source": [
    "new_cohort_pivot = new_cohort.pivot(index = 'first_order', columns = 'month_number', values = 'customers')\n",
    "new_cohort_pivot"
   ]
  },
  {
   "cell_type": "code",
   "execution_count": 63,
   "metadata": {},
   "outputs": [
    {
     "data": {
      "text/html": [
       "<div>\n",
       "<style scoped>\n",
       "    .dataframe tbody tr th:only-of-type {\n",
       "        vertical-align: middle;\n",
       "    }\n",
       "\n",
       "    .dataframe tbody tr th {\n",
       "        vertical-align: top;\n",
       "    }\n",
       "\n",
       "    .dataframe thead th {\n",
       "        text-align: right;\n",
       "    }\n",
       "</style>\n",
       "<table border=\"1\" class=\"dataframe\">\n",
       "  <thead>\n",
       "    <tr style=\"text-align: right;\">\n",
       "      <th>month_number</th>\n",
       "      <th>1</th>\n",
       "      <th>2</th>\n",
       "      <th>3</th>\n",
       "      <th>4</th>\n",
       "      <th>5</th>\n",
       "      <th>6</th>\n",
       "      <th>7</th>\n",
       "      <th>8</th>\n",
       "      <th>9</th>\n",
       "      <th>10</th>\n",
       "      <th>11</th>\n",
       "      <th>12</th>\n",
       "    </tr>\n",
       "    <tr>\n",
       "      <th>first_order</th>\n",
       "      <th></th>\n",
       "      <th></th>\n",
       "      <th></th>\n",
       "      <th></th>\n",
       "      <th></th>\n",
       "      <th></th>\n",
       "      <th></th>\n",
       "      <th></th>\n",
       "      <th></th>\n",
       "      <th></th>\n",
       "      <th></th>\n",
       "      <th></th>\n",
       "    </tr>\n",
       "  </thead>\n",
       "  <tbody>\n",
       "    <tr>\n",
       "      <th>2017-01-01</th>\n",
       "      <td>1.0</td>\n",
       "      <td>0.002786</td>\n",
       "      <td>0.002786</td>\n",
       "      <td>0.001393</td>\n",
       "      <td>0.004178</td>\n",
       "      <td>0.001393</td>\n",
       "      <td>0.004178</td>\n",
       "      <td>0.001393</td>\n",
       "      <td>0.001393</td>\n",
       "      <td>NaN</td>\n",
       "      <td>0.004178</td>\n",
       "      <td>0.001393</td>\n",
       "    </tr>\n",
       "    <tr>\n",
       "      <th>2017-02-01</th>\n",
       "      <td>1.0</td>\n",
       "      <td>0.001843</td>\n",
       "      <td>0.003071</td>\n",
       "      <td>0.001229</td>\n",
       "      <td>0.004300</td>\n",
       "      <td>0.001229</td>\n",
       "      <td>0.002457</td>\n",
       "      <td>0.001843</td>\n",
       "      <td>0.001229</td>\n",
       "      <td>0.001843</td>\n",
       "      <td>0.001229</td>\n",
       "      <td>NaN</td>\n",
       "    </tr>\n",
       "    <tr>\n",
       "      <th>2017-03-01</th>\n",
       "      <td>1.0</td>\n",
       "      <td>0.004395</td>\n",
       "      <td>0.003596</td>\n",
       "      <td>0.003995</td>\n",
       "      <td>0.003596</td>\n",
       "      <td>0.001598</td>\n",
       "      <td>0.001598</td>\n",
       "      <td>0.003196</td>\n",
       "      <td>0.003196</td>\n",
       "      <td>0.000799</td>\n",
       "      <td>NaN</td>\n",
       "      <td>NaN</td>\n",
       "    </tr>\n",
       "    <tr>\n",
       "      <th>2017-04-01</th>\n",
       "      <td>1.0</td>\n",
       "      <td>0.006203</td>\n",
       "      <td>0.002215</td>\n",
       "      <td>0.001772</td>\n",
       "      <td>0.002658</td>\n",
       "      <td>0.002658</td>\n",
       "      <td>0.003545</td>\n",
       "      <td>0.003101</td>\n",
       "      <td>0.003101</td>\n",
       "      <td>NaN</td>\n",
       "      <td>NaN</td>\n",
       "      <td>NaN</td>\n",
       "    </tr>\n",
       "    <tr>\n",
       "      <th>2017-05-01</th>\n",
       "      <td>1.0</td>\n",
       "      <td>0.004636</td>\n",
       "      <td>0.004636</td>\n",
       "      <td>0.002898</td>\n",
       "      <td>0.002898</td>\n",
       "      <td>0.003187</td>\n",
       "      <td>0.004057</td>\n",
       "      <td>0.001449</td>\n",
       "      <td>NaN</td>\n",
       "      <td>NaN</td>\n",
       "      <td>NaN</td>\n",
       "      <td>NaN</td>\n",
       "    </tr>\n",
       "    <tr>\n",
       "      <th>2017-06-01</th>\n",
       "      <td>1.0</td>\n",
       "      <td>0.004939</td>\n",
       "      <td>0.003951</td>\n",
       "      <td>0.004281</td>\n",
       "      <td>0.002963</td>\n",
       "      <td>0.003951</td>\n",
       "      <td>0.003622</td>\n",
       "      <td>NaN</td>\n",
       "      <td>NaN</td>\n",
       "      <td>NaN</td>\n",
       "      <td>NaN</td>\n",
       "      <td>NaN</td>\n",
       "    </tr>\n",
       "    <tr>\n",
       "      <th>2017-07-01</th>\n",
       "      <td>1.0</td>\n",
       "      <td>0.005329</td>\n",
       "      <td>0.003464</td>\n",
       "      <td>0.002398</td>\n",
       "      <td>0.002931</td>\n",
       "      <td>0.002132</td>\n",
       "      <td>NaN</td>\n",
       "      <td>NaN</td>\n",
       "      <td>NaN</td>\n",
       "      <td>NaN</td>\n",
       "      <td>NaN</td>\n",
       "      <td>NaN</td>\n",
       "    </tr>\n",
       "    <tr>\n",
       "      <th>2017-08-01</th>\n",
       "      <td>1.0</td>\n",
       "      <td>0.006902</td>\n",
       "      <td>0.003451</td>\n",
       "      <td>0.002711</td>\n",
       "      <td>0.003451</td>\n",
       "      <td>NaN</td>\n",
       "      <td>NaN</td>\n",
       "      <td>NaN</td>\n",
       "      <td>NaN</td>\n",
       "      <td>NaN</td>\n",
       "      <td>NaN</td>\n",
       "      <td>NaN</td>\n",
       "    </tr>\n",
       "    <tr>\n",
       "      <th>2017-09-01</th>\n",
       "      <td>1.0</td>\n",
       "      <td>0.006991</td>\n",
       "      <td>0.005493</td>\n",
       "      <td>0.002747</td>\n",
       "      <td>NaN</td>\n",
       "      <td>NaN</td>\n",
       "      <td>NaN</td>\n",
       "      <td>NaN</td>\n",
       "      <td>NaN</td>\n",
       "      <td>NaN</td>\n",
       "      <td>NaN</td>\n",
       "      <td>NaN</td>\n",
       "    </tr>\n",
       "    <tr>\n",
       "      <th>2017-10-01</th>\n",
       "      <td>1.0</td>\n",
       "      <td>0.007163</td>\n",
       "      <td>0.002542</td>\n",
       "      <td>NaN</td>\n",
       "      <td>NaN</td>\n",
       "      <td>NaN</td>\n",
       "      <td>NaN</td>\n",
       "      <td>NaN</td>\n",
       "      <td>NaN</td>\n",
       "      <td>NaN</td>\n",
       "      <td>NaN</td>\n",
       "      <td>NaN</td>\n",
       "    </tr>\n",
       "    <tr>\n",
       "      <th>2017-11-01</th>\n",
       "      <td>1.0</td>\n",
       "      <td>0.005665</td>\n",
       "      <td>NaN</td>\n",
       "      <td>NaN</td>\n",
       "      <td>NaN</td>\n",
       "      <td>NaN</td>\n",
       "      <td>NaN</td>\n",
       "      <td>NaN</td>\n",
       "      <td>NaN</td>\n",
       "      <td>NaN</td>\n",
       "      <td>NaN</td>\n",
       "      <td>NaN</td>\n",
       "    </tr>\n",
       "    <tr>\n",
       "      <th>2017-12-01</th>\n",
       "      <td>1.0</td>\n",
       "      <td>NaN</td>\n",
       "      <td>NaN</td>\n",
       "      <td>NaN</td>\n",
       "      <td>NaN</td>\n",
       "      <td>NaN</td>\n",
       "      <td>NaN</td>\n",
       "      <td>NaN</td>\n",
       "      <td>NaN</td>\n",
       "      <td>NaN</td>\n",
       "      <td>NaN</td>\n",
       "      <td>NaN</td>\n",
       "    </tr>\n",
       "  </tbody>\n",
       "</table>\n",
       "</div>"
      ],
      "text/plain": [
       "month_number   1         2         3         4         5         6         7   \\\n",
       "first_order                                                                     \n",
       "2017-01-01    1.0  0.002786  0.002786  0.001393  0.004178  0.001393  0.004178   \n",
       "2017-02-01    1.0  0.001843  0.003071  0.001229  0.004300  0.001229  0.002457   \n",
       "2017-03-01    1.0  0.004395  0.003596  0.003995  0.003596  0.001598  0.001598   \n",
       "2017-04-01    1.0  0.006203  0.002215  0.001772  0.002658  0.002658  0.003545   \n",
       "2017-05-01    1.0  0.004636  0.004636  0.002898  0.002898  0.003187  0.004057   \n",
       "2017-06-01    1.0  0.004939  0.003951  0.004281  0.002963  0.003951  0.003622   \n",
       "2017-07-01    1.0  0.005329  0.003464  0.002398  0.002931  0.002132       NaN   \n",
       "2017-08-01    1.0  0.006902  0.003451  0.002711  0.003451       NaN       NaN   \n",
       "2017-09-01    1.0  0.006991  0.005493  0.002747       NaN       NaN       NaN   \n",
       "2017-10-01    1.0  0.007163  0.002542       NaN       NaN       NaN       NaN   \n",
       "2017-11-01    1.0  0.005665       NaN       NaN       NaN       NaN       NaN   \n",
       "2017-12-01    1.0       NaN       NaN       NaN       NaN       NaN       NaN   \n",
       "\n",
       "month_number        8         9         10        11        12  \n",
       "first_order                                                     \n",
       "2017-01-01    0.001393  0.001393       NaN  0.004178  0.001393  \n",
       "2017-02-01    0.001843  0.001229  0.001843  0.001229       NaN  \n",
       "2017-03-01    0.003196  0.003196  0.000799       NaN       NaN  \n",
       "2017-04-01    0.003101  0.003101       NaN       NaN       NaN  \n",
       "2017-05-01    0.001449       NaN       NaN       NaN       NaN  \n",
       "2017-06-01         NaN       NaN       NaN       NaN       NaN  \n",
       "2017-07-01         NaN       NaN       NaN       NaN       NaN  \n",
       "2017-08-01         NaN       NaN       NaN       NaN       NaN  \n",
       "2017-09-01         NaN       NaN       NaN       NaN       NaN  \n",
       "2017-10-01         NaN       NaN       NaN       NaN       NaN  \n",
       "2017-11-01         NaN       NaN       NaN       NaN       NaN  \n",
       "2017-12-01         NaN       NaN       NaN       NaN       NaN  "
      ]
     },
     "execution_count": 63,
     "metadata": {},
     "output_type": "execute_result"
    }
   ],
   "source": [
    "# Вычислим retention rate для каждой когорты в разные месяцы.\n",
    "cohort_retention = new_cohort_pivot.divide(new_cohort_pivot.iloc[:, 0], axis=0)\n",
    "cohort_retention"
   ]
  },
  {
   "cell_type": "code",
   "execution_count": 64,
   "metadata": {},
   "outputs": [
    {
     "data": {
      "text/html": [
       "<style  type=\"text/css\" >\n",
       "#T_648055ba_eabc_11ee_bdbb_96000040dfb6row0_col0,#T_648055ba_eabc_11ee_bdbb_96000040dfb6row0_col7,#T_648055ba_eabc_11ee_bdbb_96000040dfb6row0_col11,#T_648055ba_eabc_11ee_bdbb_96000040dfb6row1_col0,#T_648055ba_eabc_11ee_bdbb_96000040dfb6row1_col1,#T_648055ba_eabc_11ee_bdbb_96000040dfb6row1_col3,#T_648055ba_eabc_11ee_bdbb_96000040dfb6row1_col5,#T_648055ba_eabc_11ee_bdbb_96000040dfb6row1_col8,#T_648055ba_eabc_11ee_bdbb_96000040dfb6row1_col10,#T_648055ba_eabc_11ee_bdbb_96000040dfb6row2_col0,#T_648055ba_eabc_11ee_bdbb_96000040dfb6row2_col6,#T_648055ba_eabc_11ee_bdbb_96000040dfb6row2_col9,#T_648055ba_eabc_11ee_bdbb_96000040dfb6row3_col0,#T_648055ba_eabc_11ee_bdbb_96000040dfb6row3_col2,#T_648055ba_eabc_11ee_bdbb_96000040dfb6row3_col4,#T_648055ba_eabc_11ee_bdbb_96000040dfb6row4_col0,#T_648055ba_eabc_11ee_bdbb_96000040dfb6row5_col0,#T_648055ba_eabc_11ee_bdbb_96000040dfb6row6_col0,#T_648055ba_eabc_11ee_bdbb_96000040dfb6row7_col0,#T_648055ba_eabc_11ee_bdbb_96000040dfb6row8_col0,#T_648055ba_eabc_11ee_bdbb_96000040dfb6row9_col0,#T_648055ba_eabc_11ee_bdbb_96000040dfb6row10_col0,#T_648055ba_eabc_11ee_bdbb_96000040dfb6row11_col0{\n",
       "            background-color:  #440154;\n",
       "            color:  #f1f1f1;\n",
       "        }#T_648055ba_eabc_11ee_bdbb_96000040dfb6row0_col1,#T_648055ba_eabc_11ee_bdbb_96000040dfb6row3_col3{\n",
       "            background-color:  #433d84;\n",
       "            color:  #f1f1f1;\n",
       "        }#T_648055ba_eabc_11ee_bdbb_96000040dfb6row0_col2{\n",
       "            background-color:  #443b84;\n",
       "            color:  #f1f1f1;\n",
       "        }#T_648055ba_eabc_11ee_bdbb_96000040dfb6row0_col3{\n",
       "            background-color:  #481467;\n",
       "            color:  #f1f1f1;\n",
       "        }#T_648055ba_eabc_11ee_bdbb_96000040dfb6row0_col4{\n",
       "            background-color:  #d0e11c;\n",
       "            color:  #000000;\n",
       "        }#T_648055ba_eabc_11ee_bdbb_96000040dfb6row0_col5{\n",
       "            background-color:  #481769;\n",
       "            color:  #f1f1f1;\n",
       "        }#T_648055ba_eabc_11ee_bdbb_96000040dfb6row0_col6,#T_648055ba_eabc_11ee_bdbb_96000040dfb6row0_col10,#T_648055ba_eabc_11ee_bdbb_96000040dfb6row1_col4,#T_648055ba_eabc_11ee_bdbb_96000040dfb6row1_col9,#T_648055ba_eabc_11ee_bdbb_96000040dfb6row2_col7,#T_648055ba_eabc_11ee_bdbb_96000040dfb6row2_col8,#T_648055ba_eabc_11ee_bdbb_96000040dfb6row5_col3,#T_648055ba_eabc_11ee_bdbb_96000040dfb6row5_col5,#T_648055ba_eabc_11ee_bdbb_96000040dfb6row8_col2,#T_648055ba_eabc_11ee_bdbb_96000040dfb6row9_col1{\n",
       "            background-color:  #fde725;\n",
       "            color:  #000000;\n",
       "        }#T_648055ba_eabc_11ee_bdbb_96000040dfb6row0_col8{\n",
       "            background-color:  #481f70;\n",
       "            color:  #f1f1f1;\n",
       "        }#T_648055ba_eabc_11ee_bdbb_96000040dfb6row0_col9,#T_648055ba_eabc_11ee_bdbb_96000040dfb6row2_col10,#T_648055ba_eabc_11ee_bdbb_96000040dfb6row3_col9,#T_648055ba_eabc_11ee_bdbb_96000040dfb6row3_col10,#T_648055ba_eabc_11ee_bdbb_96000040dfb6row4_col8,#T_648055ba_eabc_11ee_bdbb_96000040dfb6row4_col9,#T_648055ba_eabc_11ee_bdbb_96000040dfb6row4_col10,#T_648055ba_eabc_11ee_bdbb_96000040dfb6row5_col7,#T_648055ba_eabc_11ee_bdbb_96000040dfb6row5_col8,#T_648055ba_eabc_11ee_bdbb_96000040dfb6row5_col9,#T_648055ba_eabc_11ee_bdbb_96000040dfb6row5_col10,#T_648055ba_eabc_11ee_bdbb_96000040dfb6row6_col6,#T_648055ba_eabc_11ee_bdbb_96000040dfb6row6_col7,#T_648055ba_eabc_11ee_bdbb_96000040dfb6row6_col8,#T_648055ba_eabc_11ee_bdbb_96000040dfb6row6_col9,#T_648055ba_eabc_11ee_bdbb_96000040dfb6row6_col10,#T_648055ba_eabc_11ee_bdbb_96000040dfb6row7_col5,#T_648055ba_eabc_11ee_bdbb_96000040dfb6row7_col6,#T_648055ba_eabc_11ee_bdbb_96000040dfb6row7_col7,#T_648055ba_eabc_11ee_bdbb_96000040dfb6row7_col8,#T_648055ba_eabc_11ee_bdbb_96000040dfb6row7_col9,#T_648055ba_eabc_11ee_bdbb_96000040dfb6row7_col10,#T_648055ba_eabc_11ee_bdbb_96000040dfb6row8_col4,#T_648055ba_eabc_11ee_bdbb_96000040dfb6row8_col5,#T_648055ba_eabc_11ee_bdbb_96000040dfb6row8_col6,#T_648055ba_eabc_11ee_bdbb_96000040dfb6row8_col7,#T_648055ba_eabc_11ee_bdbb_96000040dfb6row8_col8,#T_648055ba_eabc_11ee_bdbb_96000040dfb6row8_col9,#T_648055ba_eabc_11ee_bdbb_96000040dfb6row8_col10,#T_648055ba_eabc_11ee_bdbb_96000040dfb6row9_col3,#T_648055ba_eabc_11ee_bdbb_96000040dfb6row9_col4,#T_648055ba_eabc_11ee_bdbb_96000040dfb6row9_col5,#T_648055ba_eabc_11ee_bdbb_96000040dfb6row9_col6,#T_648055ba_eabc_11ee_bdbb_96000040dfb6row9_col7,#T_648055ba_eabc_11ee_bdbb_96000040dfb6row9_col8,#T_648055ba_eabc_11ee_bdbb_96000040dfb6row9_col9,#T_648055ba_eabc_11ee_bdbb_96000040dfb6row9_col10,#T_648055ba_eabc_11ee_bdbb_96000040dfb6row10_col2,#T_648055ba_eabc_11ee_bdbb_96000040dfb6row10_col3,#T_648055ba_eabc_11ee_bdbb_96000040dfb6row10_col4,#T_648055ba_eabc_11ee_bdbb_96000040dfb6row10_col5,#T_648055ba_eabc_11ee_bdbb_96000040dfb6row10_col6,#T_648055ba_eabc_11ee_bdbb_96000040dfb6row10_col7,#T_648055ba_eabc_11ee_bdbb_96000040dfb6row10_col8,#T_648055ba_eabc_11ee_bdbb_96000040dfb6row10_col9,#T_648055ba_eabc_11ee_bdbb_96000040dfb6row10_col10,#T_648055ba_eabc_11ee_bdbb_96000040dfb6row11_col1,#T_648055ba_eabc_11ee_bdbb_96000040dfb6row11_col2,#T_648055ba_eabc_11ee_bdbb_96000040dfb6row11_col3,#T_648055ba_eabc_11ee_bdbb_96000040dfb6row11_col4,#T_648055ba_eabc_11ee_bdbb_96000040dfb6row11_col5,#T_648055ba_eabc_11ee_bdbb_96000040dfb6row11_col6,#T_648055ba_eabc_11ee_bdbb_96000040dfb6row11_col7,#T_648055ba_eabc_11ee_bdbb_96000040dfb6row11_col8,#T_648055ba_eabc_11ee_bdbb_96000040dfb6row11_col9,#T_648055ba_eabc_11ee_bdbb_96000040dfb6row11_col10{\n",
       "            background-color:  #000000;\n",
       "            color:  #f1f1f1;\n",
       "            background-color:  white;\n",
       "        }#T_648055ba_eabc_11ee_bdbb_96000040dfb6row1_col2{\n",
       "            background-color:  #3a548c;\n",
       "            color:  #f1f1f1;\n",
       "        }#T_648055ba_eabc_11ee_bdbb_96000040dfb6row1_col6{\n",
       "            background-color:  #31688e;\n",
       "            color:  #f1f1f1;\n",
       "        }#T_648055ba_eabc_11ee_bdbb_96000040dfb6row1_col7{\n",
       "            background-color:  #3b518b;\n",
       "            color:  #f1f1f1;\n",
       "        }#T_648055ba_eabc_11ee_bdbb_96000040dfb6row1_col11,#T_648055ba_eabc_11ee_bdbb_96000040dfb6row2_col11,#T_648055ba_eabc_11ee_bdbb_96000040dfb6row3_col11,#T_648055ba_eabc_11ee_bdbb_96000040dfb6row4_col11,#T_648055ba_eabc_11ee_bdbb_96000040dfb6row5_col11,#T_648055ba_eabc_11ee_bdbb_96000040dfb6row6_col11,#T_648055ba_eabc_11ee_bdbb_96000040dfb6row7_col11,#T_648055ba_eabc_11ee_bdbb_96000040dfb6row8_col11,#T_648055ba_eabc_11ee_bdbb_96000040dfb6row9_col11,#T_648055ba_eabc_11ee_bdbb_96000040dfb6row10_col11,#T_648055ba_eabc_11ee_bdbb_96000040dfb6row11_col11{\n",
       "            background-color:  #440154;\n",
       "            color:  #f1f1f1;\n",
       "            background-color:  white;\n",
       "        }#T_648055ba_eabc_11ee_bdbb_96000040dfb6row2_col1{\n",
       "            background-color:  #228b8d;\n",
       "            color:  #000000;\n",
       "        }#T_648055ba_eabc_11ee_bdbb_96000040dfb6row2_col2{\n",
       "            background-color:  #287d8e;\n",
       "            color:  #000000;\n",
       "        }#T_648055ba_eabc_11ee_bdbb_96000040dfb6row2_col3{\n",
       "            background-color:  #c2df23;\n",
       "            color:  #000000;\n",
       "        }#T_648055ba_eabc_11ee_bdbb_96000040dfb6row2_col4{\n",
       "            background-color:  #1fa187;\n",
       "            color:  #000000;\n",
       "        }#T_648055ba_eabc_11ee_bdbb_96000040dfb6row2_col5{\n",
       "            background-color:  #472f7d;\n",
       "            color:  #f1f1f1;\n",
       "        }#T_648055ba_eabc_11ee_bdbb_96000040dfb6row3_col1{\n",
       "            background-color:  #86d549;\n",
       "            color:  #000000;\n",
       "        }#T_648055ba_eabc_11ee_bdbb_96000040dfb6row3_col5,#T_648055ba_eabc_11ee_bdbb_96000040dfb6row4_col1{\n",
       "            background-color:  #1f968b;\n",
       "            color:  #000000;\n",
       "        }#T_648055ba_eabc_11ee_bdbb_96000040dfb6row3_col6{\n",
       "            background-color:  #60ca60;\n",
       "            color:  #000000;\n",
       "        }#T_648055ba_eabc_11ee_bdbb_96000040dfb6row3_col7{\n",
       "            background-color:  #dde318;\n",
       "            color:  #000000;\n",
       "        }#T_648055ba_eabc_11ee_bdbb_96000040dfb6row3_col8,#T_648055ba_eabc_11ee_bdbb_96000040dfb6row4_col6,#T_648055ba_eabc_11ee_bdbb_96000040dfb6row7_col1{\n",
       "            background-color:  #dfe318;\n",
       "            color:  #000000;\n",
       "        }#T_648055ba_eabc_11ee_bdbb_96000040dfb6row4_col2{\n",
       "            background-color:  #58c765;\n",
       "            color:  #000000;\n",
       "        }#T_648055ba_eabc_11ee_bdbb_96000040dfb6row4_col3{\n",
       "            background-color:  #1e9c89;\n",
       "            color:  #000000;\n",
       "        }#T_648055ba_eabc_11ee_bdbb_96000040dfb6row4_col4{\n",
       "            background-color:  #46337f;\n",
       "            color:  #f1f1f1;\n",
       "        }#T_648055ba_eabc_11ee_bdbb_96000040dfb6row4_col5{\n",
       "            background-color:  #4ec36b;\n",
       "            color:  #000000;\n",
       "        }#T_648055ba_eabc_11ee_bdbb_96000040dfb6row4_col7{\n",
       "            background-color:  #460b5e;\n",
       "            color:  #f1f1f1;\n",
       "        }#T_648055ba_eabc_11ee_bdbb_96000040dfb6row5_col1{\n",
       "            background-color:  #20a386;\n",
       "            color:  #000000;\n",
       "        }#T_648055ba_eabc_11ee_bdbb_96000040dfb6row5_col2{\n",
       "            background-color:  #1f978b;\n",
       "            color:  #000000;\n",
       "        }#T_648055ba_eabc_11ee_bdbb_96000040dfb6row5_col4{\n",
       "            background-color:  #423f85;\n",
       "            color:  #f1f1f1;\n",
       "        }#T_648055ba_eabc_11ee_bdbb_96000040dfb6row5_col6{\n",
       "            background-color:  #70cf57;\n",
       "            color:  #000000;\n",
       "        }#T_648055ba_eabc_11ee_bdbb_96000040dfb6row6_col1{\n",
       "            background-color:  #31b57b;\n",
       "            color:  #000000;\n",
       "        }#T_648055ba_eabc_11ee_bdbb_96000040dfb6row6_col2{\n",
       "            background-color:  #2c738e;\n",
       "            color:  #f1f1f1;\n",
       "        }#T_648055ba_eabc_11ee_bdbb_96000040dfb6row6_col3{\n",
       "            background-color:  #2b748e;\n",
       "            color:  #f1f1f1;\n",
       "        }#T_648055ba_eabc_11ee_bdbb_96000040dfb6row6_col4{\n",
       "            background-color:  #443983;\n",
       "            color:  #f1f1f1;\n",
       "        }#T_648055ba_eabc_11ee_bdbb_96000040dfb6row6_col5{\n",
       "            background-color:  #31678e;\n",
       "            color:  #f1f1f1;\n",
       "        }#T_648055ba_eabc_11ee_bdbb_96000040dfb6row7_col2{\n",
       "            background-color:  #2c728e;\n",
       "            color:  #f1f1f1;\n",
       "        }#T_648055ba_eabc_11ee_bdbb_96000040dfb6row7_col3{\n",
       "            background-color:  #228d8d;\n",
       "            color:  #000000;\n",
       "        }#T_648055ba_eabc_11ee_bdbb_96000040dfb6row7_col4{\n",
       "            background-color:  #228c8d;\n",
       "            color:  #000000;\n",
       "        }#T_648055ba_eabc_11ee_bdbb_96000040dfb6row8_col1{\n",
       "            background-color:  #eae51a;\n",
       "            color:  #000000;\n",
       "        }#T_648055ba_eabc_11ee_bdbb_96000040dfb6row8_col3{\n",
       "            background-color:  #21908d;\n",
       "            color:  #000000;\n",
       "        }#T_648055ba_eabc_11ee_bdbb_96000040dfb6row9_col2{\n",
       "            background-color:  #482475;\n",
       "            color:  #f1f1f1;\n",
       "        }#T_648055ba_eabc_11ee_bdbb_96000040dfb6row10_col1{\n",
       "            background-color:  #4cc26c;\n",
       "            color:  #000000;\n",
       "        }</style><table id=\"T_648055ba_eabc_11ee_bdbb_96000040dfb6\" ><caption>User retention by cohort</caption><thead>    <tr>        <th class=\"index_name level0\" >month_number</th>        <th class=\"col_heading level0 col0\" >1</th>        <th class=\"col_heading level0 col1\" >2</th>        <th class=\"col_heading level0 col2\" >3</th>        <th class=\"col_heading level0 col3\" >4</th>        <th class=\"col_heading level0 col4\" >5</th>        <th class=\"col_heading level0 col5\" >6</th>        <th class=\"col_heading level0 col6\" >7</th>        <th class=\"col_heading level0 col7\" >8</th>        <th class=\"col_heading level0 col8\" >9</th>        <th class=\"col_heading level0 col9\" >10</th>        <th class=\"col_heading level0 col10\" >11</th>        <th class=\"col_heading level0 col11\" >12</th>    </tr>    <tr>        <th class=\"index_name level0\" >first_order</th>        <th class=\"blank\" ></th>        <th class=\"blank\" ></th>        <th class=\"blank\" ></th>        <th class=\"blank\" ></th>        <th class=\"blank\" ></th>        <th class=\"blank\" ></th>        <th class=\"blank\" ></th>        <th class=\"blank\" ></th>        <th class=\"blank\" ></th>        <th class=\"blank\" ></th>        <th class=\"blank\" ></th>        <th class=\"blank\" ></th>    </tr></thead><tbody>\n",
       "                <tr>\n",
       "                        <th id=\"T_648055ba_eabc_11ee_bdbb_96000040dfb6level0_row0\" class=\"row_heading level0 row0\" >2017-01-01 00:00:00</th>\n",
       "                        <td id=\"T_648055ba_eabc_11ee_bdbb_96000040dfb6row0_col0\" class=\"data row0 col0\" >100.00%</td>\n",
       "                        <td id=\"T_648055ba_eabc_11ee_bdbb_96000040dfb6row0_col1\" class=\"data row0 col1\" >0.28%</td>\n",
       "                        <td id=\"T_648055ba_eabc_11ee_bdbb_96000040dfb6row0_col2\" class=\"data row0 col2\" >0.28%</td>\n",
       "                        <td id=\"T_648055ba_eabc_11ee_bdbb_96000040dfb6row0_col3\" class=\"data row0 col3\" >0.14%</td>\n",
       "                        <td id=\"T_648055ba_eabc_11ee_bdbb_96000040dfb6row0_col4\" class=\"data row0 col4\" >0.42%</td>\n",
       "                        <td id=\"T_648055ba_eabc_11ee_bdbb_96000040dfb6row0_col5\" class=\"data row0 col5\" >0.14%</td>\n",
       "                        <td id=\"T_648055ba_eabc_11ee_bdbb_96000040dfb6row0_col6\" class=\"data row0 col6\" >0.42%</td>\n",
       "                        <td id=\"T_648055ba_eabc_11ee_bdbb_96000040dfb6row0_col7\" class=\"data row0 col7\" >0.14%</td>\n",
       "                        <td id=\"T_648055ba_eabc_11ee_bdbb_96000040dfb6row0_col8\" class=\"data row0 col8\" >0.14%</td>\n",
       "                        <td id=\"T_648055ba_eabc_11ee_bdbb_96000040dfb6row0_col9\" class=\"data row0 col9\" ></td>\n",
       "                        <td id=\"T_648055ba_eabc_11ee_bdbb_96000040dfb6row0_col10\" class=\"data row0 col10\" >0.42%</td>\n",
       "                        <td id=\"T_648055ba_eabc_11ee_bdbb_96000040dfb6row0_col11\" class=\"data row0 col11\" >0.14%</td>\n",
       "            </tr>\n",
       "            <tr>\n",
       "                        <th id=\"T_648055ba_eabc_11ee_bdbb_96000040dfb6level0_row1\" class=\"row_heading level0 row1\" >2017-02-01 00:00:00</th>\n",
       "                        <td id=\"T_648055ba_eabc_11ee_bdbb_96000040dfb6row1_col0\" class=\"data row1 col0\" >100.00%</td>\n",
       "                        <td id=\"T_648055ba_eabc_11ee_bdbb_96000040dfb6row1_col1\" class=\"data row1 col1\" >0.18%</td>\n",
       "                        <td id=\"T_648055ba_eabc_11ee_bdbb_96000040dfb6row1_col2\" class=\"data row1 col2\" >0.31%</td>\n",
       "                        <td id=\"T_648055ba_eabc_11ee_bdbb_96000040dfb6row1_col3\" class=\"data row1 col3\" >0.12%</td>\n",
       "                        <td id=\"T_648055ba_eabc_11ee_bdbb_96000040dfb6row1_col4\" class=\"data row1 col4\" >0.43%</td>\n",
       "                        <td id=\"T_648055ba_eabc_11ee_bdbb_96000040dfb6row1_col5\" class=\"data row1 col5\" >0.12%</td>\n",
       "                        <td id=\"T_648055ba_eabc_11ee_bdbb_96000040dfb6row1_col6\" class=\"data row1 col6\" >0.25%</td>\n",
       "                        <td id=\"T_648055ba_eabc_11ee_bdbb_96000040dfb6row1_col7\" class=\"data row1 col7\" >0.18%</td>\n",
       "                        <td id=\"T_648055ba_eabc_11ee_bdbb_96000040dfb6row1_col8\" class=\"data row1 col8\" >0.12%</td>\n",
       "                        <td id=\"T_648055ba_eabc_11ee_bdbb_96000040dfb6row1_col9\" class=\"data row1 col9\" >0.18%</td>\n",
       "                        <td id=\"T_648055ba_eabc_11ee_bdbb_96000040dfb6row1_col10\" class=\"data row1 col10\" >0.12%</td>\n",
       "                        <td id=\"T_648055ba_eabc_11ee_bdbb_96000040dfb6row1_col11\" class=\"data row1 col11\" ></td>\n",
       "            </tr>\n",
       "            <tr>\n",
       "                        <th id=\"T_648055ba_eabc_11ee_bdbb_96000040dfb6level0_row2\" class=\"row_heading level0 row2\" >2017-03-01 00:00:00</th>\n",
       "                        <td id=\"T_648055ba_eabc_11ee_bdbb_96000040dfb6row2_col0\" class=\"data row2 col0\" >100.00%</td>\n",
       "                        <td id=\"T_648055ba_eabc_11ee_bdbb_96000040dfb6row2_col1\" class=\"data row2 col1\" >0.44%</td>\n",
       "                        <td id=\"T_648055ba_eabc_11ee_bdbb_96000040dfb6row2_col2\" class=\"data row2 col2\" >0.36%</td>\n",
       "                        <td id=\"T_648055ba_eabc_11ee_bdbb_96000040dfb6row2_col3\" class=\"data row2 col3\" >0.40%</td>\n",
       "                        <td id=\"T_648055ba_eabc_11ee_bdbb_96000040dfb6row2_col4\" class=\"data row2 col4\" >0.36%</td>\n",
       "                        <td id=\"T_648055ba_eabc_11ee_bdbb_96000040dfb6row2_col5\" class=\"data row2 col5\" >0.16%</td>\n",
       "                        <td id=\"T_648055ba_eabc_11ee_bdbb_96000040dfb6row2_col6\" class=\"data row2 col6\" >0.16%</td>\n",
       "                        <td id=\"T_648055ba_eabc_11ee_bdbb_96000040dfb6row2_col7\" class=\"data row2 col7\" >0.32%</td>\n",
       "                        <td id=\"T_648055ba_eabc_11ee_bdbb_96000040dfb6row2_col8\" class=\"data row2 col8\" >0.32%</td>\n",
       "                        <td id=\"T_648055ba_eabc_11ee_bdbb_96000040dfb6row2_col9\" class=\"data row2 col9\" >0.08%</td>\n",
       "                        <td id=\"T_648055ba_eabc_11ee_bdbb_96000040dfb6row2_col10\" class=\"data row2 col10\" ></td>\n",
       "                        <td id=\"T_648055ba_eabc_11ee_bdbb_96000040dfb6row2_col11\" class=\"data row2 col11\" ></td>\n",
       "            </tr>\n",
       "            <tr>\n",
       "                        <th id=\"T_648055ba_eabc_11ee_bdbb_96000040dfb6level0_row3\" class=\"row_heading level0 row3\" >2017-04-01 00:00:00</th>\n",
       "                        <td id=\"T_648055ba_eabc_11ee_bdbb_96000040dfb6row3_col0\" class=\"data row3 col0\" >100.00%</td>\n",
       "                        <td id=\"T_648055ba_eabc_11ee_bdbb_96000040dfb6row3_col1\" class=\"data row3 col1\" >0.62%</td>\n",
       "                        <td id=\"T_648055ba_eabc_11ee_bdbb_96000040dfb6row3_col2\" class=\"data row3 col2\" >0.22%</td>\n",
       "                        <td id=\"T_648055ba_eabc_11ee_bdbb_96000040dfb6row3_col3\" class=\"data row3 col3\" >0.18%</td>\n",
       "                        <td id=\"T_648055ba_eabc_11ee_bdbb_96000040dfb6row3_col4\" class=\"data row3 col4\" >0.27%</td>\n",
       "                        <td id=\"T_648055ba_eabc_11ee_bdbb_96000040dfb6row3_col5\" class=\"data row3 col5\" >0.27%</td>\n",
       "                        <td id=\"T_648055ba_eabc_11ee_bdbb_96000040dfb6row3_col6\" class=\"data row3 col6\" >0.35%</td>\n",
       "                        <td id=\"T_648055ba_eabc_11ee_bdbb_96000040dfb6row3_col7\" class=\"data row3 col7\" >0.31%</td>\n",
       "                        <td id=\"T_648055ba_eabc_11ee_bdbb_96000040dfb6row3_col8\" class=\"data row3 col8\" >0.31%</td>\n",
       "                        <td id=\"T_648055ba_eabc_11ee_bdbb_96000040dfb6row3_col9\" class=\"data row3 col9\" ></td>\n",
       "                        <td id=\"T_648055ba_eabc_11ee_bdbb_96000040dfb6row3_col10\" class=\"data row3 col10\" ></td>\n",
       "                        <td id=\"T_648055ba_eabc_11ee_bdbb_96000040dfb6row3_col11\" class=\"data row3 col11\" ></td>\n",
       "            </tr>\n",
       "            <tr>\n",
       "                        <th id=\"T_648055ba_eabc_11ee_bdbb_96000040dfb6level0_row4\" class=\"row_heading level0 row4\" >2017-05-01 00:00:00</th>\n",
       "                        <td id=\"T_648055ba_eabc_11ee_bdbb_96000040dfb6row4_col0\" class=\"data row4 col0\" >100.00%</td>\n",
       "                        <td id=\"T_648055ba_eabc_11ee_bdbb_96000040dfb6row4_col1\" class=\"data row4 col1\" >0.46%</td>\n",
       "                        <td id=\"T_648055ba_eabc_11ee_bdbb_96000040dfb6row4_col2\" class=\"data row4 col2\" >0.46%</td>\n",
       "                        <td id=\"T_648055ba_eabc_11ee_bdbb_96000040dfb6row4_col3\" class=\"data row4 col3\" >0.29%</td>\n",
       "                        <td id=\"T_648055ba_eabc_11ee_bdbb_96000040dfb6row4_col4\" class=\"data row4 col4\" >0.29%</td>\n",
       "                        <td id=\"T_648055ba_eabc_11ee_bdbb_96000040dfb6row4_col5\" class=\"data row4 col5\" >0.32%</td>\n",
       "                        <td id=\"T_648055ba_eabc_11ee_bdbb_96000040dfb6row4_col6\" class=\"data row4 col6\" >0.41%</td>\n",
       "                        <td id=\"T_648055ba_eabc_11ee_bdbb_96000040dfb6row4_col7\" class=\"data row4 col7\" >0.14%</td>\n",
       "                        <td id=\"T_648055ba_eabc_11ee_bdbb_96000040dfb6row4_col8\" class=\"data row4 col8\" ></td>\n",
       "                        <td id=\"T_648055ba_eabc_11ee_bdbb_96000040dfb6row4_col9\" class=\"data row4 col9\" ></td>\n",
       "                        <td id=\"T_648055ba_eabc_11ee_bdbb_96000040dfb6row4_col10\" class=\"data row4 col10\" ></td>\n",
       "                        <td id=\"T_648055ba_eabc_11ee_bdbb_96000040dfb6row4_col11\" class=\"data row4 col11\" ></td>\n",
       "            </tr>\n",
       "            <tr>\n",
       "                        <th id=\"T_648055ba_eabc_11ee_bdbb_96000040dfb6level0_row5\" class=\"row_heading level0 row5\" >2017-06-01 00:00:00</th>\n",
       "                        <td id=\"T_648055ba_eabc_11ee_bdbb_96000040dfb6row5_col0\" class=\"data row5 col0\" >100.00%</td>\n",
       "                        <td id=\"T_648055ba_eabc_11ee_bdbb_96000040dfb6row5_col1\" class=\"data row5 col1\" >0.49%</td>\n",
       "                        <td id=\"T_648055ba_eabc_11ee_bdbb_96000040dfb6row5_col2\" class=\"data row5 col2\" >0.40%</td>\n",
       "                        <td id=\"T_648055ba_eabc_11ee_bdbb_96000040dfb6row5_col3\" class=\"data row5 col3\" >0.43%</td>\n",
       "                        <td id=\"T_648055ba_eabc_11ee_bdbb_96000040dfb6row5_col4\" class=\"data row5 col4\" >0.30%</td>\n",
       "                        <td id=\"T_648055ba_eabc_11ee_bdbb_96000040dfb6row5_col5\" class=\"data row5 col5\" >0.40%</td>\n",
       "                        <td id=\"T_648055ba_eabc_11ee_bdbb_96000040dfb6row5_col6\" class=\"data row5 col6\" >0.36%</td>\n",
       "                        <td id=\"T_648055ba_eabc_11ee_bdbb_96000040dfb6row5_col7\" class=\"data row5 col7\" ></td>\n",
       "                        <td id=\"T_648055ba_eabc_11ee_bdbb_96000040dfb6row5_col8\" class=\"data row5 col8\" ></td>\n",
       "                        <td id=\"T_648055ba_eabc_11ee_bdbb_96000040dfb6row5_col9\" class=\"data row5 col9\" ></td>\n",
       "                        <td id=\"T_648055ba_eabc_11ee_bdbb_96000040dfb6row5_col10\" class=\"data row5 col10\" ></td>\n",
       "                        <td id=\"T_648055ba_eabc_11ee_bdbb_96000040dfb6row5_col11\" class=\"data row5 col11\" ></td>\n",
       "            </tr>\n",
       "            <tr>\n",
       "                        <th id=\"T_648055ba_eabc_11ee_bdbb_96000040dfb6level0_row6\" class=\"row_heading level0 row6\" >2017-07-01 00:00:00</th>\n",
       "                        <td id=\"T_648055ba_eabc_11ee_bdbb_96000040dfb6row6_col0\" class=\"data row6 col0\" >100.00%</td>\n",
       "                        <td id=\"T_648055ba_eabc_11ee_bdbb_96000040dfb6row6_col1\" class=\"data row6 col1\" >0.53%</td>\n",
       "                        <td id=\"T_648055ba_eabc_11ee_bdbb_96000040dfb6row6_col2\" class=\"data row6 col2\" >0.35%</td>\n",
       "                        <td id=\"T_648055ba_eabc_11ee_bdbb_96000040dfb6row6_col3\" class=\"data row6 col3\" >0.24%</td>\n",
       "                        <td id=\"T_648055ba_eabc_11ee_bdbb_96000040dfb6row6_col4\" class=\"data row6 col4\" >0.29%</td>\n",
       "                        <td id=\"T_648055ba_eabc_11ee_bdbb_96000040dfb6row6_col5\" class=\"data row6 col5\" >0.21%</td>\n",
       "                        <td id=\"T_648055ba_eabc_11ee_bdbb_96000040dfb6row6_col6\" class=\"data row6 col6\" ></td>\n",
       "                        <td id=\"T_648055ba_eabc_11ee_bdbb_96000040dfb6row6_col7\" class=\"data row6 col7\" ></td>\n",
       "                        <td id=\"T_648055ba_eabc_11ee_bdbb_96000040dfb6row6_col8\" class=\"data row6 col8\" ></td>\n",
       "                        <td id=\"T_648055ba_eabc_11ee_bdbb_96000040dfb6row6_col9\" class=\"data row6 col9\" ></td>\n",
       "                        <td id=\"T_648055ba_eabc_11ee_bdbb_96000040dfb6row6_col10\" class=\"data row6 col10\" ></td>\n",
       "                        <td id=\"T_648055ba_eabc_11ee_bdbb_96000040dfb6row6_col11\" class=\"data row6 col11\" ></td>\n",
       "            </tr>\n",
       "            <tr>\n",
       "                        <th id=\"T_648055ba_eabc_11ee_bdbb_96000040dfb6level0_row7\" class=\"row_heading level0 row7\" >2017-08-01 00:00:00</th>\n",
       "                        <td id=\"T_648055ba_eabc_11ee_bdbb_96000040dfb6row7_col0\" class=\"data row7 col0\" >100.00%</td>\n",
       "                        <td id=\"T_648055ba_eabc_11ee_bdbb_96000040dfb6row7_col1\" class=\"data row7 col1\" >0.69%</td>\n",
       "                        <td id=\"T_648055ba_eabc_11ee_bdbb_96000040dfb6row7_col2\" class=\"data row7 col2\" >0.35%</td>\n",
       "                        <td id=\"T_648055ba_eabc_11ee_bdbb_96000040dfb6row7_col3\" class=\"data row7 col3\" >0.27%</td>\n",
       "                        <td id=\"T_648055ba_eabc_11ee_bdbb_96000040dfb6row7_col4\" class=\"data row7 col4\" >0.35%</td>\n",
       "                        <td id=\"T_648055ba_eabc_11ee_bdbb_96000040dfb6row7_col5\" class=\"data row7 col5\" ></td>\n",
       "                        <td id=\"T_648055ba_eabc_11ee_bdbb_96000040dfb6row7_col6\" class=\"data row7 col6\" ></td>\n",
       "                        <td id=\"T_648055ba_eabc_11ee_bdbb_96000040dfb6row7_col7\" class=\"data row7 col7\" ></td>\n",
       "                        <td id=\"T_648055ba_eabc_11ee_bdbb_96000040dfb6row7_col8\" class=\"data row7 col8\" ></td>\n",
       "                        <td id=\"T_648055ba_eabc_11ee_bdbb_96000040dfb6row7_col9\" class=\"data row7 col9\" ></td>\n",
       "                        <td id=\"T_648055ba_eabc_11ee_bdbb_96000040dfb6row7_col10\" class=\"data row7 col10\" ></td>\n",
       "                        <td id=\"T_648055ba_eabc_11ee_bdbb_96000040dfb6row7_col11\" class=\"data row7 col11\" ></td>\n",
       "            </tr>\n",
       "            <tr>\n",
       "                        <th id=\"T_648055ba_eabc_11ee_bdbb_96000040dfb6level0_row8\" class=\"row_heading level0 row8\" >2017-09-01 00:00:00</th>\n",
       "                        <td id=\"T_648055ba_eabc_11ee_bdbb_96000040dfb6row8_col0\" class=\"data row8 col0\" >100.00%</td>\n",
       "                        <td id=\"T_648055ba_eabc_11ee_bdbb_96000040dfb6row8_col1\" class=\"data row8 col1\" >0.70%</td>\n",
       "                        <td id=\"T_648055ba_eabc_11ee_bdbb_96000040dfb6row8_col2\" class=\"data row8 col2\" >0.55%</td>\n",
       "                        <td id=\"T_648055ba_eabc_11ee_bdbb_96000040dfb6row8_col3\" class=\"data row8 col3\" >0.27%</td>\n",
       "                        <td id=\"T_648055ba_eabc_11ee_bdbb_96000040dfb6row8_col4\" class=\"data row8 col4\" ></td>\n",
       "                        <td id=\"T_648055ba_eabc_11ee_bdbb_96000040dfb6row8_col5\" class=\"data row8 col5\" ></td>\n",
       "                        <td id=\"T_648055ba_eabc_11ee_bdbb_96000040dfb6row8_col6\" class=\"data row8 col6\" ></td>\n",
       "                        <td id=\"T_648055ba_eabc_11ee_bdbb_96000040dfb6row8_col7\" class=\"data row8 col7\" ></td>\n",
       "                        <td id=\"T_648055ba_eabc_11ee_bdbb_96000040dfb6row8_col8\" class=\"data row8 col8\" ></td>\n",
       "                        <td id=\"T_648055ba_eabc_11ee_bdbb_96000040dfb6row8_col9\" class=\"data row8 col9\" ></td>\n",
       "                        <td id=\"T_648055ba_eabc_11ee_bdbb_96000040dfb6row8_col10\" class=\"data row8 col10\" ></td>\n",
       "                        <td id=\"T_648055ba_eabc_11ee_bdbb_96000040dfb6row8_col11\" class=\"data row8 col11\" ></td>\n",
       "            </tr>\n",
       "            <tr>\n",
       "                        <th id=\"T_648055ba_eabc_11ee_bdbb_96000040dfb6level0_row9\" class=\"row_heading level0 row9\" >2017-10-01 00:00:00</th>\n",
       "                        <td id=\"T_648055ba_eabc_11ee_bdbb_96000040dfb6row9_col0\" class=\"data row9 col0\" >100.00%</td>\n",
       "                        <td id=\"T_648055ba_eabc_11ee_bdbb_96000040dfb6row9_col1\" class=\"data row9 col1\" >0.72%</td>\n",
       "                        <td id=\"T_648055ba_eabc_11ee_bdbb_96000040dfb6row9_col2\" class=\"data row9 col2\" >0.25%</td>\n",
       "                        <td id=\"T_648055ba_eabc_11ee_bdbb_96000040dfb6row9_col3\" class=\"data row9 col3\" ></td>\n",
       "                        <td id=\"T_648055ba_eabc_11ee_bdbb_96000040dfb6row9_col4\" class=\"data row9 col4\" ></td>\n",
       "                        <td id=\"T_648055ba_eabc_11ee_bdbb_96000040dfb6row9_col5\" class=\"data row9 col5\" ></td>\n",
       "                        <td id=\"T_648055ba_eabc_11ee_bdbb_96000040dfb6row9_col6\" class=\"data row9 col6\" ></td>\n",
       "                        <td id=\"T_648055ba_eabc_11ee_bdbb_96000040dfb6row9_col7\" class=\"data row9 col7\" ></td>\n",
       "                        <td id=\"T_648055ba_eabc_11ee_bdbb_96000040dfb6row9_col8\" class=\"data row9 col8\" ></td>\n",
       "                        <td id=\"T_648055ba_eabc_11ee_bdbb_96000040dfb6row9_col9\" class=\"data row9 col9\" ></td>\n",
       "                        <td id=\"T_648055ba_eabc_11ee_bdbb_96000040dfb6row9_col10\" class=\"data row9 col10\" ></td>\n",
       "                        <td id=\"T_648055ba_eabc_11ee_bdbb_96000040dfb6row9_col11\" class=\"data row9 col11\" ></td>\n",
       "            </tr>\n",
       "            <tr>\n",
       "                        <th id=\"T_648055ba_eabc_11ee_bdbb_96000040dfb6level0_row10\" class=\"row_heading level0 row10\" >2017-11-01 00:00:00</th>\n",
       "                        <td id=\"T_648055ba_eabc_11ee_bdbb_96000040dfb6row10_col0\" class=\"data row10 col0\" >100.00%</td>\n",
       "                        <td id=\"T_648055ba_eabc_11ee_bdbb_96000040dfb6row10_col1\" class=\"data row10 col1\" >0.57%</td>\n",
       "                        <td id=\"T_648055ba_eabc_11ee_bdbb_96000040dfb6row10_col2\" class=\"data row10 col2\" ></td>\n",
       "                        <td id=\"T_648055ba_eabc_11ee_bdbb_96000040dfb6row10_col3\" class=\"data row10 col3\" ></td>\n",
       "                        <td id=\"T_648055ba_eabc_11ee_bdbb_96000040dfb6row10_col4\" class=\"data row10 col4\" ></td>\n",
       "                        <td id=\"T_648055ba_eabc_11ee_bdbb_96000040dfb6row10_col5\" class=\"data row10 col5\" ></td>\n",
       "                        <td id=\"T_648055ba_eabc_11ee_bdbb_96000040dfb6row10_col6\" class=\"data row10 col6\" ></td>\n",
       "                        <td id=\"T_648055ba_eabc_11ee_bdbb_96000040dfb6row10_col7\" class=\"data row10 col7\" ></td>\n",
       "                        <td id=\"T_648055ba_eabc_11ee_bdbb_96000040dfb6row10_col8\" class=\"data row10 col8\" ></td>\n",
       "                        <td id=\"T_648055ba_eabc_11ee_bdbb_96000040dfb6row10_col9\" class=\"data row10 col9\" ></td>\n",
       "                        <td id=\"T_648055ba_eabc_11ee_bdbb_96000040dfb6row10_col10\" class=\"data row10 col10\" ></td>\n",
       "                        <td id=\"T_648055ba_eabc_11ee_bdbb_96000040dfb6row10_col11\" class=\"data row10 col11\" ></td>\n",
       "            </tr>\n",
       "            <tr>\n",
       "                        <th id=\"T_648055ba_eabc_11ee_bdbb_96000040dfb6level0_row11\" class=\"row_heading level0 row11\" >2017-12-01 00:00:00</th>\n",
       "                        <td id=\"T_648055ba_eabc_11ee_bdbb_96000040dfb6row11_col0\" class=\"data row11 col0\" >100.00%</td>\n",
       "                        <td id=\"T_648055ba_eabc_11ee_bdbb_96000040dfb6row11_col1\" class=\"data row11 col1\" ></td>\n",
       "                        <td id=\"T_648055ba_eabc_11ee_bdbb_96000040dfb6row11_col2\" class=\"data row11 col2\" ></td>\n",
       "                        <td id=\"T_648055ba_eabc_11ee_bdbb_96000040dfb6row11_col3\" class=\"data row11 col3\" ></td>\n",
       "                        <td id=\"T_648055ba_eabc_11ee_bdbb_96000040dfb6row11_col4\" class=\"data row11 col4\" ></td>\n",
       "                        <td id=\"T_648055ba_eabc_11ee_bdbb_96000040dfb6row11_col5\" class=\"data row11 col5\" ></td>\n",
       "                        <td id=\"T_648055ba_eabc_11ee_bdbb_96000040dfb6row11_col6\" class=\"data row11 col6\" ></td>\n",
       "                        <td id=\"T_648055ba_eabc_11ee_bdbb_96000040dfb6row11_col7\" class=\"data row11 col7\" ></td>\n",
       "                        <td id=\"T_648055ba_eabc_11ee_bdbb_96000040dfb6row11_col8\" class=\"data row11 col8\" ></td>\n",
       "                        <td id=\"T_648055ba_eabc_11ee_bdbb_96000040dfb6row11_col9\" class=\"data row11 col9\" ></td>\n",
       "                        <td id=\"T_648055ba_eabc_11ee_bdbb_96000040dfb6row11_col10\" class=\"data row11 col10\" ></td>\n",
       "                        <td id=\"T_648055ba_eabc_11ee_bdbb_96000040dfb6row11_col11\" class=\"data row11 col11\" ></td>\n",
       "            </tr>\n",
       "    </tbody></table>"
      ],
      "text/plain": [
       "<pandas.io.formats.style.Styler at 0x7ff27a399668>"
      ]
     },
     "execution_count": 64,
     "metadata": {},
     "output_type": "execute_result"
    }
   ],
   "source": [
    "cohort_retention_styled = (cohort_retention\n",
    "            .style\n",
    "            .set_caption('User retention by cohort')  # добавляем подпись\n",
    "            .background_gradient(cmap='viridis')  # раскрашиваем ячейки по столбцам\n",
    "            .highlight_null('white')  # делаем белый фон для значений NaN\n",
    "            .format(\"{:.02%}\", na_rep=\"\"))  # числа форматируем как проценты, 0 заменяем на пустоту\n",
    "cohort_retention_styled"
   ]
  },
  {
   "cell_type": "code",
   "execution_count": 65,
   "metadata": {},
   "outputs": [
    {
     "data": {
      "text/plain": [
       "Timestamp('2017-09-01 00:00:00')"
      ]
     },
     "execution_count": 65,
     "metadata": {},
     "output_type": "execute_result"
    }
   ],
   "source": [
    "# Выявим когорту с самым высоким retention на 3 месяц\n",
    "cohort_retention.columns = cohort_retention.columns.astype(str)\n",
    "cohort_retention['3'].idxmax()"
   ]
  },
  {
   "cell_type": "code",
   "execution_count": 66,
   "metadata": {},
   "outputs": [
    {
     "data": {
      "text/plain": [
       "0.55"
      ]
     },
     "execution_count": 66,
     "metadata": {},
     "output_type": "execute_result"
    }
   ],
   "source": [
    "round(cohort_retention['3'].max() * 100, 2)"
   ]
  },
  {
   "cell_type": "markdown",
   "metadata": {},
   "source": [
    "Вывод: наибольший retention rate на 3-й месяц приходится на когорту 2017-09-01 и составляет 0,55%"
   ]
  },
  {
   "cell_type": "markdown",
   "metadata": {},
   "source": [
    "6. Часто для качественного анализа аудитории использую подходы, основанные на сегментации. Используя python, построй RFM-сегментацию пользователей, чтобы качественно оценить свою аудиторию. В кластеризации можешь выбрать следующие метрики: R - время от последней покупки пользователя до текущей даты, F - суммарное количество покупок у пользователя за всё время, M - сумма покупок за всё время. Подробно опиши, как ты создавал кластеры. Для каждого RFM-сегмента построй границы метрик recency, frequency и monetary для интерпретации этих кластеров."
   ]
  },
  {
   "cell_type": "code",
   "execution_count": 67,
   "metadata": {},
   "outputs": [
    {
     "data": {
      "text/html": [
       "<div>\n",
       "<style scoped>\n",
       "    .dataframe tbody tr th:only-of-type {\n",
       "        vertical-align: middle;\n",
       "    }\n",
       "\n",
       "    .dataframe tbody tr th {\n",
       "        vertical-align: top;\n",
       "    }\n",
       "\n",
       "    .dataframe thead th {\n",
       "        text-align: right;\n",
       "    }\n",
       "</style>\n",
       "<table border=\"1\" class=\"dataframe\">\n",
       "  <thead>\n",
       "    <tr style=\"text-align: right;\">\n",
       "      <th></th>\n",
       "      <th>order_id</th>\n",
       "      <th>customer_id</th>\n",
       "      <th>order_status</th>\n",
       "      <th>order_purchase</th>\n",
       "      <th>order_delivered</th>\n",
       "      <th>estimated_delivery_date</th>\n",
       "      <th>purchase_date</th>\n",
       "      <th>delivered_date</th>\n",
       "      <th>product_id</th>\n",
       "      <th>price</th>\n",
       "      <th>quantity</th>\n",
       "      <th>customer_unique_id</th>\n",
       "    </tr>\n",
       "  </thead>\n",
       "  <tbody>\n",
       "    <tr>\n",
       "      <th>0</th>\n",
       "      <td>e481f51cbdc54678b7cc49136f2d6af7</td>\n",
       "      <td>9ef432eb6251297304e76186b10a928d</td>\n",
       "      <td>delivered</td>\n",
       "      <td>2017-10-02</td>\n",
       "      <td>2017-10-10</td>\n",
       "      <td>2017-10-18</td>\n",
       "      <td>2017-10-01</td>\n",
       "      <td>2017-10-01</td>\n",
       "      <td>87285b34884572647811a353c7ac498a</td>\n",
       "      <td>29.99</td>\n",
       "      <td>1.0</td>\n",
       "      <td>7c396fd4830fd04220f754e42b4e5bff</td>\n",
       "    </tr>\n",
       "    <tr>\n",
       "      <th>1</th>\n",
       "      <td>53cdb2fc8bc7dce0b6741e2150273451</td>\n",
       "      <td>b0830fb4747a6c6d20dea0b8c802d7ef</td>\n",
       "      <td>delivered</td>\n",
       "      <td>2018-07-24</td>\n",
       "      <td>2018-08-07</td>\n",
       "      <td>2018-08-13</td>\n",
       "      <td>2018-07-01</td>\n",
       "      <td>2018-08-01</td>\n",
       "      <td>595fac2a385ac33a80bd5114aec74eb8</td>\n",
       "      <td>118.70</td>\n",
       "      <td>1.0</td>\n",
       "      <td>af07308b275d755c9edb36a90c618231</td>\n",
       "    </tr>\n",
       "    <tr>\n",
       "      <th>2</th>\n",
       "      <td>47770eb9100c2d0c44946d9cf07ec65d</td>\n",
       "      <td>41ce2a54c0b03bf3443c3d931a367089</td>\n",
       "      <td>delivered</td>\n",
       "      <td>2018-08-08</td>\n",
       "      <td>2018-08-17</td>\n",
       "      <td>2018-09-04</td>\n",
       "      <td>2018-08-01</td>\n",
       "      <td>2018-08-01</td>\n",
       "      <td>aa4383b373c6aca5d8797843e5594415</td>\n",
       "      <td>159.90</td>\n",
       "      <td>1.0</td>\n",
       "      <td>3a653a41f6f9fc3d2a113cf8398680e8</td>\n",
       "    </tr>\n",
       "    <tr>\n",
       "      <th>3</th>\n",
       "      <td>949d5b44dbf5de918fe9c16f97b45f8a</td>\n",
       "      <td>f88197465ea7920adcdbec7375364d82</td>\n",
       "      <td>delivered</td>\n",
       "      <td>2017-11-18</td>\n",
       "      <td>2017-12-02</td>\n",
       "      <td>2017-12-15</td>\n",
       "      <td>2017-11-01</td>\n",
       "      <td>2017-12-01</td>\n",
       "      <td>d0b61bfb1de832b15ba9d266ca96e5b0</td>\n",
       "      <td>45.00</td>\n",
       "      <td>1.0</td>\n",
       "      <td>7c142cf63193a1473d2e66489a9ae977</td>\n",
       "    </tr>\n",
       "    <tr>\n",
       "      <th>4</th>\n",
       "      <td>ad21c59c0840e6cb83a9ceb5573f8159</td>\n",
       "      <td>8ab97904e6daea8866dbdbc4fb7aad2c</td>\n",
       "      <td>delivered</td>\n",
       "      <td>2018-02-13</td>\n",
       "      <td>2018-02-16</td>\n",
       "      <td>2018-02-26</td>\n",
       "      <td>2018-02-01</td>\n",
       "      <td>2018-02-01</td>\n",
       "      <td>65266b2da20d04dbe00c5c2d3bb7859e</td>\n",
       "      <td>19.90</td>\n",
       "      <td>1.0</td>\n",
       "      <td>72632f0f9dd73dfee390c9b22eb56dd6</td>\n",
       "    </tr>\n",
       "  </tbody>\n",
       "</table>\n",
       "</div>"
      ],
      "text/plain": [
       "                           order_id                       customer_id  \\\n",
       "0  e481f51cbdc54678b7cc49136f2d6af7  9ef432eb6251297304e76186b10a928d   \n",
       "1  53cdb2fc8bc7dce0b6741e2150273451  b0830fb4747a6c6d20dea0b8c802d7ef   \n",
       "2  47770eb9100c2d0c44946d9cf07ec65d  41ce2a54c0b03bf3443c3d931a367089   \n",
       "3  949d5b44dbf5de918fe9c16f97b45f8a  f88197465ea7920adcdbec7375364d82   \n",
       "4  ad21c59c0840e6cb83a9ceb5573f8159  8ab97904e6daea8866dbdbc4fb7aad2c   \n",
       "\n",
       "  order_status order_purchase order_delivered estimated_delivery_date  \\\n",
       "0    delivered     2017-10-02      2017-10-10              2017-10-18   \n",
       "1    delivered     2018-07-24      2018-08-07              2018-08-13   \n",
       "2    delivered     2018-08-08      2018-08-17              2018-09-04   \n",
       "3    delivered     2017-11-18      2017-12-02              2017-12-15   \n",
       "4    delivered     2018-02-13      2018-02-16              2018-02-26   \n",
       "\n",
       "  purchase_date delivered_date                        product_id   price  \\\n",
       "0    2017-10-01     2017-10-01  87285b34884572647811a353c7ac498a   29.99   \n",
       "1    2018-07-01     2018-08-01  595fac2a385ac33a80bd5114aec74eb8  118.70   \n",
       "2    2018-08-01     2018-08-01  aa4383b373c6aca5d8797843e5594415  159.90   \n",
       "3    2017-11-01     2017-12-01  d0b61bfb1de832b15ba9d266ca96e5b0   45.00   \n",
       "4    2018-02-01     2018-02-01  65266b2da20d04dbe00c5c2d3bb7859e   19.90   \n",
       "\n",
       "   quantity                customer_unique_id  \n",
       "0       1.0  7c396fd4830fd04220f754e42b4e5bff  \n",
       "1       1.0  af07308b275d755c9edb36a90c618231  \n",
       "2       1.0  3a653a41f6f9fc3d2a113cf8398680e8  \n",
       "3       1.0  7c142cf63193a1473d2e66489a9ae977  \n",
       "4       1.0  72632f0f9dd73dfee390c9b22eb56dd6  "
      ]
     },
     "execution_count": 67,
     "metadata": {},
     "output_type": "execute_result"
    }
   ],
   "source": [
    "task_6 = df_merged.copy().query('order_status == \"delivered\"')\n",
    "task_6.head()"
   ]
  },
  {
   "cell_type": "code",
   "execution_count": 68,
   "metadata": {},
   "outputs": [],
   "source": [
    "# Вычислим дату последней покупки для каждого пользователя\n",
    "recency_df =task_6.groupby('customer_unique_id', as_index=False) \\\n",
    "                     .agg({'order_purchase' : 'max'}) \\\n",
    "                     .rename(columns={'order_purchase': 'last_purchase_date'})"
   ]
  },
  {
   "cell_type": "code",
   "execution_count": 69,
   "metadata": {},
   "outputs": [],
   "source": [
    "# Создадим столбец recency где будет рассчитано количество дней прошедших с момента последнего заказа\n",
    "recency_df['recency'] = pd.Timestamp.now() - recency_df['last_purchase_date']\n",
    "recency_df['recency'] = recency_df['recency'].dt.days"
   ]
  },
  {
   "cell_type": "code",
   "execution_count": 70,
   "metadata": {},
   "outputs": [],
   "source": [
    "# Посчитаем количество покупок (чеков) для каждого пользователя\n",
    "frequency_df = task_6.groupby('customer_unique_id', as_index=False) \\\n",
    "                     .agg({'order_id' : 'nunique'}) \\\n",
    "                     .rename(columns={'order_id' : 'frequency'})"
   ]
  },
  {
   "cell_type": "code",
   "execution_count": 71,
   "metadata": {},
   "outputs": [],
   "source": [
    "# Смерджим 2 датафрейма\n",
    "rfm_df = recency_df[['customer_unique_id', 'recency']].merge(frequency_df, how='left', on='customer_unique_id')"
   ]
  },
  {
   "cell_type": "code",
   "execution_count": 72,
   "metadata": {},
   "outputs": [
    {
     "data": {
      "text/html": [
       "<div>\n",
       "<style scoped>\n",
       "    .dataframe tbody tr th:only-of-type {\n",
       "        vertical-align: middle;\n",
       "    }\n",
       "\n",
       "    .dataframe tbody tr th {\n",
       "        vertical-align: top;\n",
       "    }\n",
       "\n",
       "    .dataframe thead th {\n",
       "        text-align: right;\n",
       "    }\n",
       "</style>\n",
       "<table border=\"1\" class=\"dataframe\">\n",
       "  <thead>\n",
       "    <tr style=\"text-align: right;\">\n",
       "      <th></th>\n",
       "      <th>customer_unique_id</th>\n",
       "      <th>recency</th>\n",
       "      <th>frequency</th>\n",
       "    </tr>\n",
       "  </thead>\n",
       "  <tbody>\n",
       "    <tr>\n",
       "      <th>0</th>\n",
       "      <td>0000366f3b9a7992bf8c76cfdf3221e2</td>\n",
       "      <td>2146</td>\n",
       "      <td>1</td>\n",
       "    </tr>\n",
       "    <tr>\n",
       "      <th>1</th>\n",
       "      <td>0000b849f77a49e4a4ce2b2a4ca5be3f</td>\n",
       "      <td>2149</td>\n",
       "      <td>1</td>\n",
       "    </tr>\n",
       "    <tr>\n",
       "      <th>2</th>\n",
       "      <td>0000f46a3911fa3c0805444483337064</td>\n",
       "      <td>2572</td>\n",
       "      <td>1</td>\n",
       "    </tr>\n",
       "    <tr>\n",
       "      <th>3</th>\n",
       "      <td>0000f6ccb0745a6a4b88665a16c9f078</td>\n",
       "      <td>2356</td>\n",
       "      <td>1</td>\n",
       "    </tr>\n",
       "    <tr>\n",
       "      <th>4</th>\n",
       "      <td>0004aac84e0df4da2b147fca70cf8255</td>\n",
       "      <td>2323</td>\n",
       "      <td>1</td>\n",
       "    </tr>\n",
       "  </tbody>\n",
       "</table>\n",
       "</div>"
      ],
      "text/plain": [
       "                 customer_unique_id  recency  frequency\n",
       "0  0000366f3b9a7992bf8c76cfdf3221e2     2146          1\n",
       "1  0000b849f77a49e4a4ce2b2a4ca5be3f     2149          1\n",
       "2  0000f46a3911fa3c0805444483337064     2572          1\n",
       "3  0000f6ccb0745a6a4b88665a16c9f078     2356          1\n",
       "4  0004aac84e0df4da2b147fca70cf8255     2323          1"
      ]
     },
     "execution_count": 72,
     "metadata": {},
     "output_type": "execute_result"
    }
   ],
   "source": [
    "rfm_df.head()"
   ]
  },
  {
   "cell_type": "code",
   "execution_count": 73,
   "metadata": {},
   "outputs": [],
   "source": [
    "# Теперь посчитаем monetary для каждого клиента\n",
    "monetary_df = task_6.groupby('customer_unique_id', as_index = False)['price'].sum().rename(columns={'price' : 'monetary'})"
   ]
  },
  {
   "cell_type": "code",
   "execution_count": 74,
   "metadata": {},
   "outputs": [
    {
     "data": {
      "text/html": [
       "<div>\n",
       "<style scoped>\n",
       "    .dataframe tbody tr th:only-of-type {\n",
       "        vertical-align: middle;\n",
       "    }\n",
       "\n",
       "    .dataframe tbody tr th {\n",
       "        vertical-align: top;\n",
       "    }\n",
       "\n",
       "    .dataframe thead th {\n",
       "        text-align: right;\n",
       "    }\n",
       "</style>\n",
       "<table border=\"1\" class=\"dataframe\">\n",
       "  <thead>\n",
       "    <tr style=\"text-align: right;\">\n",
       "      <th></th>\n",
       "      <th>customer_unique_id</th>\n",
       "      <th>monetary</th>\n",
       "    </tr>\n",
       "  </thead>\n",
       "  <tbody>\n",
       "    <tr>\n",
       "      <th>0</th>\n",
       "      <td>0000366f3b9a7992bf8c76cfdf3221e2</td>\n",
       "      <td>129.90</td>\n",
       "    </tr>\n",
       "    <tr>\n",
       "      <th>1</th>\n",
       "      <td>0000b849f77a49e4a4ce2b2a4ca5be3f</td>\n",
       "      <td>18.90</td>\n",
       "    </tr>\n",
       "    <tr>\n",
       "      <th>2</th>\n",
       "      <td>0000f46a3911fa3c0805444483337064</td>\n",
       "      <td>69.00</td>\n",
       "    </tr>\n",
       "    <tr>\n",
       "      <th>3</th>\n",
       "      <td>0000f6ccb0745a6a4b88665a16c9f078</td>\n",
       "      <td>25.99</td>\n",
       "    </tr>\n",
       "    <tr>\n",
       "      <th>4</th>\n",
       "      <td>0004aac84e0df4da2b147fca70cf8255</td>\n",
       "      <td>180.00</td>\n",
       "    </tr>\n",
       "  </tbody>\n",
       "</table>\n",
       "</div>"
      ],
      "text/plain": [
       "                 customer_unique_id  monetary\n",
       "0  0000366f3b9a7992bf8c76cfdf3221e2    129.90\n",
       "1  0000b849f77a49e4a4ce2b2a4ca5be3f     18.90\n",
       "2  0000f46a3911fa3c0805444483337064     69.00\n",
       "3  0000f6ccb0745a6a4b88665a16c9f078     25.99\n",
       "4  0004aac84e0df4da2b147fca70cf8255    180.00"
      ]
     },
     "execution_count": 74,
     "metadata": {},
     "output_type": "execute_result"
    }
   ],
   "source": [
    "monetary_df.head()"
   ]
  },
  {
   "cell_type": "code",
   "execution_count": 75,
   "metadata": {},
   "outputs": [
    {
     "data": {
      "text/html": [
       "<div>\n",
       "<style scoped>\n",
       "    .dataframe tbody tr th:only-of-type {\n",
       "        vertical-align: middle;\n",
       "    }\n",
       "\n",
       "    .dataframe tbody tr th {\n",
       "        vertical-align: top;\n",
       "    }\n",
       "\n",
       "    .dataframe thead th {\n",
       "        text-align: right;\n",
       "    }\n",
       "</style>\n",
       "<table border=\"1\" class=\"dataframe\">\n",
       "  <thead>\n",
       "    <tr style=\"text-align: right;\">\n",
       "      <th></th>\n",
       "      <th>customer_unique_id</th>\n",
       "      <th>recency</th>\n",
       "      <th>frequency</th>\n",
       "      <th>monetary</th>\n",
       "    </tr>\n",
       "  </thead>\n",
       "  <tbody>\n",
       "    <tr>\n",
       "      <th>0</th>\n",
       "      <td>0000366f3b9a7992bf8c76cfdf3221e2</td>\n",
       "      <td>2146</td>\n",
       "      <td>1</td>\n",
       "      <td>129.90</td>\n",
       "    </tr>\n",
       "    <tr>\n",
       "      <th>1</th>\n",
       "      <td>0000b849f77a49e4a4ce2b2a4ca5be3f</td>\n",
       "      <td>2149</td>\n",
       "      <td>1</td>\n",
       "      <td>18.90</td>\n",
       "    </tr>\n",
       "    <tr>\n",
       "      <th>2</th>\n",
       "      <td>0000f46a3911fa3c0805444483337064</td>\n",
       "      <td>2572</td>\n",
       "      <td>1</td>\n",
       "      <td>69.00</td>\n",
       "    </tr>\n",
       "    <tr>\n",
       "      <th>3</th>\n",
       "      <td>0000f6ccb0745a6a4b88665a16c9f078</td>\n",
       "      <td>2356</td>\n",
       "      <td>1</td>\n",
       "      <td>25.99</td>\n",
       "    </tr>\n",
       "    <tr>\n",
       "      <th>4</th>\n",
       "      <td>0004aac84e0df4da2b147fca70cf8255</td>\n",
       "      <td>2323</td>\n",
       "      <td>1</td>\n",
       "      <td>180.00</td>\n",
       "    </tr>\n",
       "  </tbody>\n",
       "</table>\n",
       "</div>"
      ],
      "text/plain": [
       "                 customer_unique_id  recency  frequency  monetary\n",
       "0  0000366f3b9a7992bf8c76cfdf3221e2     2146          1    129.90\n",
       "1  0000b849f77a49e4a4ce2b2a4ca5be3f     2149          1     18.90\n",
       "2  0000f46a3911fa3c0805444483337064     2572          1     69.00\n",
       "3  0000f6ccb0745a6a4b88665a16c9f078     2356          1     25.99\n",
       "4  0004aac84e0df4da2b147fca70cf8255     2323          1    180.00"
      ]
     },
     "execution_count": 75,
     "metadata": {},
     "output_type": "execute_result"
    }
   ],
   "source": [
    "rfm_df = rfm_df.merge(monetary_df, how='left', on='customer_unique_id')\n",
    "rfm_df.head()"
   ]
  },
  {
   "cell_type": "markdown",
   "metadata": {},
   "source": [
    "Теперь нам нужно как-то сегментировать пользователей для RFM анализа."
   ]
  },
  {
   "cell_type": "code",
   "execution_count": 76,
   "metadata": {},
   "outputs": [
    {
     "data": {
      "text/plain": [
       "2313    1114\n",
       "2312     472\n",
       "2310     383\n",
       "2311     369\n",
       "2309     361\n",
       "        ... \n",
       "2632       5\n",
       "2633       4\n",
       "2634       4\n",
       "2635       4\n",
       "2748       1\n",
       "Name: recency, Length: 611, dtype: int64"
      ]
     },
     "execution_count": 76,
     "metadata": {},
     "output_type": "execute_result"
    }
   ],
   "source": [
    "rfm_df.recency.value_counts()"
   ]
  },
  {
   "cell_type": "code",
   "execution_count": 77,
   "metadata": {},
   "outputs": [
    {
     "data": {
      "text/plain": [
       "1     90557\n",
       "2      2573\n",
       "3       181\n",
       "4        28\n",
       "5         9\n",
       "6         5\n",
       "7         3\n",
       "15        1\n",
       "9         1\n",
       "Name: frequency, dtype: int64"
      ]
     },
     "execution_count": 77,
     "metadata": {},
     "output_type": "execute_result"
    }
   ],
   "source": [
    "rfm_df.frequency.value_counts()"
   ]
  },
  {
   "cell_type": "code",
   "execution_count": 78,
   "metadata": {},
   "outputs": [
    {
     "data": {
      "text/plain": [
       "59.90     1815\n",
       "69.90     1580\n",
       "49.90     1464\n",
       "89.90     1192\n",
       "99.90     1154\n",
       "          ... \n",
       "117.84       1\n",
       "18.76        1\n",
       "121.35       1\n",
       "54.06        1\n",
       "61.72        1\n",
       "Name: monetary, Length: 7571, dtype: int64"
      ]
     },
     "execution_count": 78,
     "metadata": {},
     "output_type": "execute_result"
    }
   ],
   "source": [
    "rfm_df.monetary.value_counts()"
   ]
  },
  {
   "cell_type": "markdown",
   "metadata": {},
   "source": [
    "Честно говоря, не совсем понимаю как правильно провести сегментацию. В гугле читал, что в принципе можно сегментировать и по своему усмотрению, но как это сделать более технично не нашел. Поэтому предлагаю сегментировать как в условии задания и сделать 3 сегмента. Для этого посмотрим на 0.33 и 0.66 квантили в наших данных"
   ]
  },
  {
   "cell_type": "code",
   "execution_count": 79,
   "metadata": {},
   "outputs": [],
   "source": [
    "quantiles = rfm_df.quantile(q=[0.33,0.66])"
   ]
  },
  {
   "cell_type": "code",
   "execution_count": 80,
   "metadata": {},
   "outputs": [
    {
     "data": {
      "text/html": [
       "<div>\n",
       "<style scoped>\n",
       "    .dataframe tbody tr th:only-of-type {\n",
       "        vertical-align: middle;\n",
       "    }\n",
       "\n",
       "    .dataframe tbody tr th {\n",
       "        vertical-align: top;\n",
       "    }\n",
       "\n",
       "    .dataframe thead th {\n",
       "        text-align: right;\n",
       "    }\n",
       "</style>\n",
       "<table border=\"1\" class=\"dataframe\">\n",
       "  <thead>\n",
       "    <tr style=\"text-align: right;\">\n",
       "      <th></th>\n",
       "      <th>recency</th>\n",
       "      <th>frequency</th>\n",
       "      <th>monetary</th>\n",
       "    </tr>\n",
       "  </thead>\n",
       "  <tbody>\n",
       "    <tr>\n",
       "      <th>0.33</th>\n",
       "      <td>2182.0</td>\n",
       "      <td>1.0</td>\n",
       "      <td>54.9</td>\n",
       "    </tr>\n",
       "    <tr>\n",
       "      <th>0.66</th>\n",
       "      <td>2321.0</td>\n",
       "      <td>1.0</td>\n",
       "      <td>119.9</td>\n",
       "    </tr>\n",
       "  </tbody>\n",
       "</table>\n",
       "</div>"
      ],
      "text/plain": [
       "      recency  frequency  monetary\n",
       "0.33   2182.0        1.0      54.9\n",
       "0.66   2321.0        1.0     119.9"
      ]
     },
     "execution_count": 80,
     "metadata": {},
     "output_type": "execute_result"
    }
   ],
   "source": [
    "quantiles"
   ]
  },
  {
   "cell_type": "code",
   "execution_count": 81,
   "metadata": {},
   "outputs": [],
   "source": [
    "# Определим сегменты для requency где 1 - клиенты, совершившие покупку давно, 2 - относительно недавно и 3 - недавно\n",
    "rfm_df['r_segment'] = np.where(rfm_df['recency'] < rfm_df.recency.quantile(0.33), 3,\n",
    "                       np.where(rfm_df['recency'] < rfm_df.recency.quantile(0.66), 2, 1))"
   ]
  },
  {
   "cell_type": "code",
   "execution_count": 82,
   "metadata": {},
   "outputs": [],
   "source": [
    "# Для frequency сделаем следующие сегменты: 1 - 1 покупка, 2 - 2 покупки, 3 - 3 и более покупок\n",
    "rfm_df['f_segment'] = np.where(rfm_df['frequency'] == 1, 1,\n",
    "                      np.where(rfm_df['frequency'] == 2, 2, 3))"
   ]
  },
  {
   "cell_type": "code",
   "execution_count": 83,
   "metadata": {},
   "outputs": [],
   "source": [
    "# Для monetary сделаем следующие сегменты: 1 - клиенты платят мало, 2 - клиенты платят не так много, 3 - клиенты платят много\n",
    "rfm_df['m_segment'] = np.where(rfm_df['monetary'] < rfm_df.monetary.quantile(0.33), 1,\n",
    "                       np.where(rfm_df['monetary'] < rfm_df.monetary.quantile(0.66), 2, 3))"
   ]
  },
  {
   "cell_type": "code",
   "execution_count": 84,
   "metadata": {},
   "outputs": [
    {
     "data": {
      "text/html": [
       "<div>\n",
       "<style scoped>\n",
       "    .dataframe tbody tr th:only-of-type {\n",
       "        vertical-align: middle;\n",
       "    }\n",
       "\n",
       "    .dataframe tbody tr th {\n",
       "        vertical-align: top;\n",
       "    }\n",
       "\n",
       "    .dataframe thead th {\n",
       "        text-align: right;\n",
       "    }\n",
       "</style>\n",
       "<table border=\"1\" class=\"dataframe\">\n",
       "  <thead>\n",
       "    <tr style=\"text-align: right;\">\n",
       "      <th></th>\n",
       "      <th>customer_unique_id</th>\n",
       "      <th>recency</th>\n",
       "      <th>frequency</th>\n",
       "      <th>monetary</th>\n",
       "      <th>r_segment</th>\n",
       "      <th>f_segment</th>\n",
       "      <th>m_segment</th>\n",
       "    </tr>\n",
       "  </thead>\n",
       "  <tbody>\n",
       "    <tr>\n",
       "      <th>0</th>\n",
       "      <td>0000366f3b9a7992bf8c76cfdf3221e2</td>\n",
       "      <td>2146</td>\n",
       "      <td>1</td>\n",
       "      <td>129.90</td>\n",
       "      <td>3</td>\n",
       "      <td>1</td>\n",
       "      <td>3</td>\n",
       "    </tr>\n",
       "    <tr>\n",
       "      <th>1</th>\n",
       "      <td>0000b849f77a49e4a4ce2b2a4ca5be3f</td>\n",
       "      <td>2149</td>\n",
       "      <td>1</td>\n",
       "      <td>18.90</td>\n",
       "      <td>3</td>\n",
       "      <td>1</td>\n",
       "      <td>1</td>\n",
       "    </tr>\n",
       "    <tr>\n",
       "      <th>2</th>\n",
       "      <td>0000f46a3911fa3c0805444483337064</td>\n",
       "      <td>2572</td>\n",
       "      <td>1</td>\n",
       "      <td>69.00</td>\n",
       "      <td>1</td>\n",
       "      <td>1</td>\n",
       "      <td>2</td>\n",
       "    </tr>\n",
       "    <tr>\n",
       "      <th>3</th>\n",
       "      <td>0000f6ccb0745a6a4b88665a16c9f078</td>\n",
       "      <td>2356</td>\n",
       "      <td>1</td>\n",
       "      <td>25.99</td>\n",
       "      <td>1</td>\n",
       "      <td>1</td>\n",
       "      <td>1</td>\n",
       "    </tr>\n",
       "    <tr>\n",
       "      <th>4</th>\n",
       "      <td>0004aac84e0df4da2b147fca70cf8255</td>\n",
       "      <td>2323</td>\n",
       "      <td>1</td>\n",
       "      <td>180.00</td>\n",
       "      <td>1</td>\n",
       "      <td>1</td>\n",
       "      <td>3</td>\n",
       "    </tr>\n",
       "  </tbody>\n",
       "</table>\n",
       "</div>"
      ],
      "text/plain": [
       "                 customer_unique_id  recency  frequency  monetary  r_segment  \\\n",
       "0  0000366f3b9a7992bf8c76cfdf3221e2     2146          1    129.90          3   \n",
       "1  0000b849f77a49e4a4ce2b2a4ca5be3f     2149          1     18.90          3   \n",
       "2  0000f46a3911fa3c0805444483337064     2572          1     69.00          1   \n",
       "3  0000f6ccb0745a6a4b88665a16c9f078     2356          1     25.99          1   \n",
       "4  0004aac84e0df4da2b147fca70cf8255     2323          1    180.00          1   \n",
       "\n",
       "   f_segment  m_segment  \n",
       "0          1          3  \n",
       "1          1          1  \n",
       "2          1          2  \n",
       "3          1          1  \n",
       "4          1          3  "
      ]
     },
     "execution_count": 84,
     "metadata": {},
     "output_type": "execute_result"
    }
   ],
   "source": [
    "rfm_df.head()"
   ]
  },
  {
   "cell_type": "code",
   "execution_count": 85,
   "metadata": {},
   "outputs": [],
   "source": [
    "# Добавим столбец RFM score \n",
    "rfm_df['RFMscore'] = rfm_df['r_segment'].astype(str) + rfm_df['f_segment'].astype(str) + rfm_df['m_segment'].astype(str)"
   ]
  },
  {
   "cell_type": "code",
   "execution_count": 86,
   "metadata": {},
   "outputs": [
    {
     "data": {
      "text/html": [
       "<div>\n",
       "<style scoped>\n",
       "    .dataframe tbody tr th:only-of-type {\n",
       "        vertical-align: middle;\n",
       "    }\n",
       "\n",
       "    .dataframe tbody tr th {\n",
       "        vertical-align: top;\n",
       "    }\n",
       "\n",
       "    .dataframe thead th {\n",
       "        text-align: right;\n",
       "    }\n",
       "</style>\n",
       "<table border=\"1\" class=\"dataframe\">\n",
       "  <thead>\n",
       "    <tr style=\"text-align: right;\">\n",
       "      <th></th>\n",
       "      <th>customer_unique_id</th>\n",
       "      <th>recency</th>\n",
       "      <th>frequency</th>\n",
       "      <th>monetary</th>\n",
       "      <th>r_segment</th>\n",
       "      <th>f_segment</th>\n",
       "      <th>m_segment</th>\n",
       "      <th>RFMscore</th>\n",
       "    </tr>\n",
       "  </thead>\n",
       "  <tbody>\n",
       "    <tr>\n",
       "      <th>0</th>\n",
       "      <td>0000366f3b9a7992bf8c76cfdf3221e2</td>\n",
       "      <td>2146</td>\n",
       "      <td>1</td>\n",
       "      <td>129.90</td>\n",
       "      <td>3</td>\n",
       "      <td>1</td>\n",
       "      <td>3</td>\n",
       "      <td>313</td>\n",
       "    </tr>\n",
       "    <tr>\n",
       "      <th>1</th>\n",
       "      <td>0000b849f77a49e4a4ce2b2a4ca5be3f</td>\n",
       "      <td>2149</td>\n",
       "      <td>1</td>\n",
       "      <td>18.90</td>\n",
       "      <td>3</td>\n",
       "      <td>1</td>\n",
       "      <td>1</td>\n",
       "      <td>311</td>\n",
       "    </tr>\n",
       "    <tr>\n",
       "      <th>2</th>\n",
       "      <td>0000f46a3911fa3c0805444483337064</td>\n",
       "      <td>2572</td>\n",
       "      <td>1</td>\n",
       "      <td>69.00</td>\n",
       "      <td>1</td>\n",
       "      <td>1</td>\n",
       "      <td>2</td>\n",
       "      <td>112</td>\n",
       "    </tr>\n",
       "    <tr>\n",
       "      <th>3</th>\n",
       "      <td>0000f6ccb0745a6a4b88665a16c9f078</td>\n",
       "      <td>2356</td>\n",
       "      <td>1</td>\n",
       "      <td>25.99</td>\n",
       "      <td>1</td>\n",
       "      <td>1</td>\n",
       "      <td>1</td>\n",
       "      <td>111</td>\n",
       "    </tr>\n",
       "    <tr>\n",
       "      <th>4</th>\n",
       "      <td>0004aac84e0df4da2b147fca70cf8255</td>\n",
       "      <td>2323</td>\n",
       "      <td>1</td>\n",
       "      <td>180.00</td>\n",
       "      <td>1</td>\n",
       "      <td>1</td>\n",
       "      <td>3</td>\n",
       "      <td>113</td>\n",
       "    </tr>\n",
       "  </tbody>\n",
       "</table>\n",
       "</div>"
      ],
      "text/plain": [
       "                 customer_unique_id  recency  frequency  monetary  r_segment  \\\n",
       "0  0000366f3b9a7992bf8c76cfdf3221e2     2146          1    129.90          3   \n",
       "1  0000b849f77a49e4a4ce2b2a4ca5be3f     2149          1     18.90          3   \n",
       "2  0000f46a3911fa3c0805444483337064     2572          1     69.00          1   \n",
       "3  0000f6ccb0745a6a4b88665a16c9f078     2356          1     25.99          1   \n",
       "4  0004aac84e0df4da2b147fca70cf8255     2323          1    180.00          1   \n",
       "\n",
       "   f_segment  m_segment RFMscore  \n",
       "0          1          3      313  \n",
       "1          1          1      311  \n",
       "2          1          2      112  \n",
       "3          1          1      111  \n",
       "4          1          3      113  "
      ]
     },
     "execution_count": 86,
     "metadata": {},
     "output_type": "execute_result"
    }
   ],
   "source": [
    "rfm_df.head()"
   ]
  },
  {
   "cell_type": "code",
   "execution_count": 87,
   "metadata": {},
   "outputs": [
    {
     "data": {
      "image/png": "[encoded data removed]",
      "text/plain": [
       "<Figure size 1440x800 with 1 Axes>"
      ]
     },
     "metadata": {},
     "output_type": "display_data"
    }
   ],
   "source": [
    "fig=plt.figure(figsize=(18, 10), dpi= 80, facecolor='w', edgecolor='k')\n",
    "rfm_df.groupby('RFMscore').agg('recency').mean().plot(kind='bar', colormap='Blues_r')\n",
    "plt.show()"
   ]
  },
  {
   "cell_type": "markdown",
   "metadata": {},
   "source": [
    "Попробуем расписать сегменты в более наглядном виде"
   ]
  },
  {
   "cell_type": "code",
   "execution_count": 88,
   "metadata": {},
   "outputs": [],
   "source": [
    "rfm_characteristics = pd.DataFrame({'RFMscore': ['111', '112', '113', \n",
    "                                '121', '122', '123', \n",
    "                                '131', '132', '133', \n",
    "                                '211', '212', '213', \n",
    "                                '221', '222', '223', \n",
    "                                '231', '232', '233', \n",
    "                                '311', '312', '313', \n",
    "                                '321', '322', '323', \n",
    "                                '332', '333'], \n",
    "                    'characteristic': ['Потерянные экономные', 'Одноразовые', 'Одноразовые', \n",
    "                                       'Уходящие редкие', 'Уходящие редкие', 'Уходящие редкие', \n",
    "                                       'Уходящие постоянные', 'Уходящие хорошие постоянные', 'Уходящие VIP', \n",
    "                                       'Спящие разовые с маленьким чеком', 'Спящие разовые с маленьким чеком', 'Спящие разовые с маленьким чеком',\n",
    "                                       'Спящие редкие с маленьким чеком', 'Спящие редкие со средним чеком', 'Спящие редкие с высоким чеком',\n",
    "                                       'Спящие постоянные с маленьким чеком', 'Спящие постоянные со средним чеком', 'Спящие постоянные с высоким чеком',\n",
    "                                       'Новички с маленьким чеком', 'Новички со средним чеком', 'Новички с высоким чеком. Потенциальные VIP',\n",
    "                                       'Постоянные с маленьким чеком', 'Постоянные со средним чеком', 'Постоянные с высоким чеком',\n",
    "                                       'Постоянные со средним чеком', 'VIP']})"
   ]
  },
  {
   "cell_type": "code",
   "execution_count": 89,
   "metadata": {},
   "outputs": [],
   "source": [
    "rfm_df_char = rfm_df.merge(rfm_characteristics, how = 'left', on = 'RFMscore')"
   ]
  },
  {
   "cell_type": "code",
   "execution_count": 90,
   "metadata": {},
   "outputs": [
    {
     "data": {
      "text/html": [
       "<div>\n",
       "<style scoped>\n",
       "    .dataframe tbody tr th:only-of-type {\n",
       "        vertical-align: middle;\n",
       "    }\n",
       "\n",
       "    .dataframe tbody tr th {\n",
       "        vertical-align: top;\n",
       "    }\n",
       "\n",
       "    .dataframe thead th {\n",
       "        text-align: right;\n",
       "    }\n",
       "</style>\n",
       "<table border=\"1\" class=\"dataframe\">\n",
       "  <thead>\n",
       "    <tr style=\"text-align: right;\">\n",
       "      <th></th>\n",
       "      <th>customer_unique_id</th>\n",
       "      <th>recency</th>\n",
       "      <th>frequency</th>\n",
       "      <th>monetary</th>\n",
       "      <th>r_segment</th>\n",
       "      <th>f_segment</th>\n",
       "      <th>m_segment</th>\n",
       "      <th>RFMscore</th>\n",
       "      <th>characteristic</th>\n",
       "    </tr>\n",
       "  </thead>\n",
       "  <tbody>\n",
       "    <tr>\n",
       "      <th>0</th>\n",
       "      <td>0000366f3b9a7992bf8c76cfdf3221e2</td>\n",
       "      <td>2146</td>\n",
       "      <td>1</td>\n",
       "      <td>129.90</td>\n",
       "      <td>3</td>\n",
       "      <td>1</td>\n",
       "      <td>3</td>\n",
       "      <td>313</td>\n",
       "      <td>Новички с высоким чеком. Потенциальные VIP</td>\n",
       "    </tr>\n",
       "    <tr>\n",
       "      <th>1</th>\n",
       "      <td>0000b849f77a49e4a4ce2b2a4ca5be3f</td>\n",
       "      <td>2149</td>\n",
       "      <td>1</td>\n",
       "      <td>18.90</td>\n",
       "      <td>3</td>\n",
       "      <td>1</td>\n",
       "      <td>1</td>\n",
       "      <td>311</td>\n",
       "      <td>Новички с маленьким чеком</td>\n",
       "    </tr>\n",
       "    <tr>\n",
       "      <th>2</th>\n",
       "      <td>0000f46a3911fa3c0805444483337064</td>\n",
       "      <td>2572</td>\n",
       "      <td>1</td>\n",
       "      <td>69.00</td>\n",
       "      <td>1</td>\n",
       "      <td>1</td>\n",
       "      <td>2</td>\n",
       "      <td>112</td>\n",
       "      <td>Одноразовые</td>\n",
       "    </tr>\n",
       "    <tr>\n",
       "      <th>3</th>\n",
       "      <td>0000f6ccb0745a6a4b88665a16c9f078</td>\n",
       "      <td>2356</td>\n",
       "      <td>1</td>\n",
       "      <td>25.99</td>\n",
       "      <td>1</td>\n",
       "      <td>1</td>\n",
       "      <td>1</td>\n",
       "      <td>111</td>\n",
       "      <td>Потерянные экономные</td>\n",
       "    </tr>\n",
       "    <tr>\n",
       "      <th>4</th>\n",
       "      <td>0004aac84e0df4da2b147fca70cf8255</td>\n",
       "      <td>2323</td>\n",
       "      <td>1</td>\n",
       "      <td>180.00</td>\n",
       "      <td>1</td>\n",
       "      <td>1</td>\n",
       "      <td>3</td>\n",
       "      <td>113</td>\n",
       "      <td>Одноразовые</td>\n",
       "    </tr>\n",
       "  </tbody>\n",
       "</table>\n",
       "</div>"
      ],
      "text/plain": [
       "                 customer_unique_id  recency  frequency  monetary  r_segment  \\\n",
       "0  0000366f3b9a7992bf8c76cfdf3221e2     2146          1    129.90          3   \n",
       "1  0000b849f77a49e4a4ce2b2a4ca5be3f     2149          1     18.90          3   \n",
       "2  0000f46a3911fa3c0805444483337064     2572          1     69.00          1   \n",
       "3  0000f6ccb0745a6a4b88665a16c9f078     2356          1     25.99          1   \n",
       "4  0004aac84e0df4da2b147fca70cf8255     2323          1    180.00          1   \n",
       "\n",
       "   f_segment  m_segment RFMscore                              characteristic  \n",
       "0          1          3      313  Новички с высоким чеком. Потенциальные VIP  \n",
       "1          1          1      311                   Новички с маленьким чеком  \n",
       "2          1          2      112                                 Одноразовые  \n",
       "3          1          1      111                        Потерянные экономные  \n",
       "4          1          3      113                                 Одноразовые  "
      ]
     },
     "execution_count": 90,
     "metadata": {},
     "output_type": "execute_result"
    }
   ],
   "source": [
    "rfm_df_char.head()"
   ]
  },
  {
   "cell_type": "code",
   "execution_count": 96,
   "metadata": {},
   "outputs": [
    {
     "data": {
      "text/html": [
       "<div>\n",
       "<style scoped>\n",
       "    .dataframe tbody tr th:only-of-type {\n",
       "        vertical-align: middle;\n",
       "    }\n",
       "\n",
       "    .dataframe tbody tr th {\n",
       "        vertical-align: top;\n",
       "    }\n",
       "\n",
       "    .dataframe thead th {\n",
       "        text-align: right;\n",
       "    }\n",
       "</style>\n",
       "<table border=\"1\" class=\"dataframe\">\n",
       "  <thead>\n",
       "    <tr style=\"text-align: right;\">\n",
       "      <th></th>\n",
       "      <th>characteristic</th>\n",
       "      <th>count_customer</th>\n",
       "    </tr>\n",
       "  </thead>\n",
       "  <tbody>\n",
       "    <tr>\n",
       "      <th>12</th>\n",
       "      <td>Спящие разовые с маленьким чеком</td>\n",
       "      <td>29878</td>\n",
       "    </tr>\n",
       "    <tr>\n",
       "      <th>4</th>\n",
       "      <td>Одноразовые</td>\n",
       "      <td>20650</td>\n",
       "    </tr>\n",
       "    <tr>\n",
       "      <th>8</th>\n",
       "      <td>Потерянные экономные</td>\n",
       "      <td>10336</td>\n",
       "    </tr>\n",
       "    <tr>\n",
       "      <th>1</th>\n",
       "      <td>Новички с высоким чеком. Потенциальные VIP</td>\n",
       "      <td>9938</td>\n",
       "    </tr>\n",
       "    <tr>\n",
       "      <th>2</th>\n",
       "      <td>Новички с маленьким чеком</td>\n",
       "      <td>9879</td>\n",
       "    </tr>\n",
       "    <tr>\n",
       "      <th>3</th>\n",
       "      <td>Новички со средним чеком</td>\n",
       "      <td>9876</td>\n",
       "    </tr>\n",
       "    <tr>\n",
       "      <th>18</th>\n",
       "      <td>Уходящие редкие</td>\n",
       "      <td>765</td>\n",
       "    </tr>\n",
       "    <tr>\n",
       "      <th>13</th>\n",
       "      <td>Спящие редкие с высоким чеком</td>\n",
       "      <td>627</td>\n",
       "    </tr>\n",
       "    <tr>\n",
       "      <th>5</th>\n",
       "      <td>Постоянные с высоким чеком</td>\n",
       "      <td>608</td>\n",
       "    </tr>\n",
       "    <tr>\n",
       "      <th>7</th>\n",
       "      <td>Постоянные со средним чеком</td>\n",
       "      <td>249</td>\n",
       "    </tr>\n",
       "    <tr>\n",
       "      <th>15</th>\n",
       "      <td>Спящие редкие со средним чеком</td>\n",
       "      <td>216</td>\n",
       "    </tr>\n",
       "    <tr>\n",
       "      <th>0</th>\n",
       "      <td>VIP</td>\n",
       "      <td>92</td>\n",
       "    </tr>\n",
       "    <tr>\n",
       "      <th>6</th>\n",
       "      <td>Постоянные с маленьким чеком</td>\n",
       "      <td>63</td>\n",
       "    </tr>\n",
       "    <tr>\n",
       "      <th>9</th>\n",
       "      <td>Спящие постоянные с высоким чеком</td>\n",
       "      <td>55</td>\n",
       "    </tr>\n",
       "    <tr>\n",
       "      <th>14</th>\n",
       "      <td>Спящие редкие с маленьким чеком</td>\n",
       "      <td>55</td>\n",
       "    </tr>\n",
       "    <tr>\n",
       "      <th>16</th>\n",
       "      <td>Уходящие VIP</td>\n",
       "      <td>50</td>\n",
       "    </tr>\n",
       "    <tr>\n",
       "      <th>19</th>\n",
       "      <td>Уходящие хорошие постоянные</td>\n",
       "      <td>8</td>\n",
       "    </tr>\n",
       "    <tr>\n",
       "      <th>11</th>\n",
       "      <td>Спящие постоянные со средним чеком</td>\n",
       "      <td>7</td>\n",
       "    </tr>\n",
       "    <tr>\n",
       "      <th>17</th>\n",
       "      <td>Уходящие постоянные</td>\n",
       "      <td>5</td>\n",
       "    </tr>\n",
       "    <tr>\n",
       "      <th>10</th>\n",
       "      <td>Спящие постоянные с маленьким чеком</td>\n",
       "      <td>1</td>\n",
       "    </tr>\n",
       "  </tbody>\n",
       "</table>\n",
       "</div>"
      ],
      "text/plain": [
       "                                characteristic  count_customer\n",
       "12            Спящие разовые с маленьким чеком           29878\n",
       "4                                  Одноразовые           20650\n",
       "8                         Потерянные экономные           10336\n",
       "1   Новички с высоким чеком. Потенциальные VIP            9938\n",
       "2                    Новички с маленьким чеком            9879\n",
       "3                     Новички со средним чеком            9876\n",
       "18                             Уходящие редкие             765\n",
       "13               Спящие редкие с высоким чеком             627\n",
       "5                   Постоянные с высоким чеком             608\n",
       "7                  Постоянные со средним чеком             249\n",
       "15              Спящие редкие со средним чеком             216\n",
       "0                                          VIP              92\n",
       "6                 Постоянные с маленьким чеком              63\n",
       "9            Спящие постоянные с высоким чеком              55\n",
       "14             Спящие редкие с маленьким чеком              55\n",
       "16                                Уходящие VIP              50\n",
       "19                 Уходящие хорошие постоянные               8\n",
       "11          Спящие постоянные со средним чеком               7\n",
       "17                         Уходящие постоянные               5\n",
       "10         Спящие постоянные с маленьким чеком               1"
      ]
     },
     "execution_count": 96,
     "metadata": {},
     "output_type": "execute_result"
    }
   ],
   "source": [
    "segmentation=rfm_df_char.groupby('characteristic', as_index=False)  \\\n",
    "                .agg({'customer_unique_id':'count'}) \\\n",
    "                .rename(columns={'customer_unique_id':'count_customer'}) \\\n",
    "                .sort_values('count_customer', ascending=False)\n",
    "segmentation"
   ]
  },
  {
   "cell_type": "code",
   "execution_count": 97,
   "metadata": {},
   "outputs": [
    {
     "data": {
      "application/vnd.plotly.v1+json": {
       "config": {
        "plotlyServerURL": "https://plot.ly"
       },
       "data": [
        {
         "branchvalues": "total",
         "domain": {
          "x": [
           0,
           1
          ],
          "y": [
           0,
           1
          ]
         },
         "hovertemplate": "labels=%{label}<br>count_customer=%{value}<br>parent=%{parent}<br>id=%{id}<extra></extra>",
         "ids": [
          "VIP",
          "Новички с высоким чеком. Потенциальные VIP",
          "Новички с маленьким чеком",
          "Новички со средним чеком",
          "Одноразовые",
          "Постоянные с высоким чеком",
          "Постоянные с маленьким чеком",
          "Постоянные со средним чеком",
          "Потерянные экономные",
          "Спящие постоянные с высоким чеком",
          "Спящие постоянные с маленьким чеком",
          "Спящие постоянные со средним чеком",
          "Спящие разовые с маленьким чеком",
          "Спящие редкие с высоким чеком",
          "Спящие редкие с маленьким чеком",
          "Спящие редкие со средним чеком",
          "Уходящие VIP",
          "Уходящие постоянные",
          "Уходящие редкие",
          "Уходящие хорошие постоянные"
         ],
         "labels": [
          "VIP",
          "Новички с высоким чеком. Потенциальные VIP",
          "Новички с маленьким чеком",
          "Новички со средним чеком",
          "Одноразовые",
          "Постоянные с высоким чеком",
          "Постоянные с маленьким чеком",
          "Постоянные со средним чеком",
          "Потерянные экономные",
          "Спящие постоянные с высоким чеком",
          "Спящие постоянные с маленьким чеком",
          "Спящие постоянные со средним чеком",
          "Спящие разовые с маленьким чеком",
          "Спящие редкие с высоким чеком",
          "Спящие редкие с маленьким чеком",
          "Спящие редкие со средним чеком",
          "Уходящие VIP",
          "Уходящие постоянные",
          "Уходящие редкие",
          "Уходящие хорошие постоянные"
         ],
         "name": "",
         "parents": [
          "",
          "",
          "",
          "",
          "",
          "",
          "",
          "",
          "",
          "",
          "",
          "",
          "",
          "",
          "",
          "",
          "",
          "",
          "",
          ""
         ],
         "type": "treemap",
         "values": [
          92,
          9938,
          9879,
          9876,
          20650,
          608,
          63,
          249,
          10336,
          55,
          1,
          7,
          29878,
          627,
          55,
          216,
          50,
          5,
          765,
          8
         ]
        }
       ],
       "layout": {
        "height": 500,
        "legend": {
         "tracegroupgap": 0
        },
        "margin": {
         "t": 60
        },
        "template": {
         "data": {
          "bar": [
           {
            "error_x": {
             "color": "#2a3f5f"
            },
            "error_y": {
             "color": "#2a3f5f"
            },
            "marker": {
             "line": {
              "color": "#E5ECF6",
              "width": 0.5
             }
            },
            "type": "bar"
           }
          ],
          "barpolar": [
           {
            "marker": {
             "line": {
              "color": "#E5ECF6",
              "width": 0.5
             }
            },
            "type": "barpolar"
           }
          ],
          "carpet": [
           {
            "aaxis": {
             "endlinecolor": "#2a3f5f",
             "gridcolor": "white",
             "linecolor": "white",
             "minorgridcolor": "white",
             "startlinecolor": "#2a3f5f"
            },
            "baxis": {
             "endlinecolor": "#2a3f5f",
             "gridcolor": "white",
             "linecolor": "white",
             "minorgridcolor": "white",
             "startlinecolor": "#2a3f5f"
            },
            "type": "carpet"
           }
          ],
          "choropleth": [
           {
            "colorbar": {
             "outlinewidth": 0,
             "ticks": ""
            },
            "type": "choropleth"
           }
          ],
          "contour": [
           {
            "colorbar": {
             "outlinewidth": 0,
             "ticks": ""
            },
            "colorscale": [
             [
              0,
              "#0d0887"
             ],
             [
              0.1111111111111111,
              "#46039f"
             ],
             [
              0.2222222222222222,
              "#7201a8"
             ],
             [
              0.3333333333333333,
              "#9c179e"
             ],
             [
              0.4444444444444444,
              "#bd3786"
             ],
             [
              0.5555555555555556,
              "#d8576b"
             ],
             [
              0.6666666666666666,
              "#ed7953"
             ],
             [
              0.7777777777777778,
              "#fb9f3a"
             ],
             [
              0.8888888888888888,
              "#fdca26"
             ],
             [
              1,
              "#f0f921"
             ]
            ],
            "type": "contour"
           }
          ],
          "contourcarpet": [
           {
            "colorbar": {
             "outlinewidth": 0,
             "ticks": ""
            },
            "type": "contourcarpet"
           }
          ],
          "heatmap": [
           {
            "colorbar": {
             "outlinewidth": 0,
             "ticks": ""
            },
            "colorscale": [
             [
              0,
              "#0d0887"
             ],
             [
              0.1111111111111111,
              "#46039f"
             ],
             [
              0.2222222222222222,
              "#7201a8"
             ],
             [
              0.3333333333333333,
              "#9c179e"
             ],
             [
              0.4444444444444444,
              "#bd3786"
             ],
             [
              0.5555555555555556,
              "#d8576b"
             ],
             [
              0.6666666666666666,
              "#ed7953"
             ],
             [
              0.7777777777777778,
              "#fb9f3a"
             ],
             [
              0.8888888888888888,
              "#fdca26"
             ],
             [
              1,
              "#f0f921"
             ]
            ],
            "type": "heatmap"
           }
          ],
          "heatmapgl": [
           {
            "colorbar": {
             "outlinewidth": 0,
             "ticks": ""
            },
            "colorscale": [
             [
              0,
              "#0d0887"
             ],
             [
              0.1111111111111111,
              "#46039f"
             ],
             [
              0.2222222222222222,
              "#7201a8"
             ],
             [
              0.3333333333333333,
              "#9c179e"
             ],
             [
              0.4444444444444444,
              "#bd3786"
             ],
             [
              0.5555555555555556,
              "#d8576b"
             ],
             [
              0.6666666666666666,
              "#ed7953"
             ],
             [
              0.7777777777777778,
              "#fb9f3a"
             ],
             [
              0.8888888888888888,
              "#fdca26"
             ],
             [
              1,
              "#f0f921"
             ]
            ],
            "type": "heatmapgl"
           }
          ],
          "histogram": [
           {
            "marker": {
             "colorbar": {
              "outlinewidth": 0,
              "ticks": ""
             }
            },
            "type": "histogram"
           }
          ],
          "histogram2d": [
           {
            "colorbar": {
             "outlinewidth": 0,
             "ticks": ""
            },
            "colorscale": [
             [
              0,
              "#0d0887"
             ],
             [
              0.1111111111111111,
              "#46039f"
             ],
             [
              0.2222222222222222,
              "#7201a8"
             ],
             [
              0.3333333333333333,
              "#9c179e"
             ],
             [
              0.4444444444444444,
              "#bd3786"
             ],
             [
              0.5555555555555556,
              "#d8576b"
             ],
             [
              0.6666666666666666,
              "#ed7953"
             ],
             [
              0.7777777777777778,
              "#fb9f3a"
             ],
             [
              0.8888888888888888,
              "#fdca26"
             ],
             [
              1,
              "#f0f921"
             ]
            ],
            "type": "histogram2d"
           }
          ],
          "histogram2dcontour": [
           {
            "colorbar": {
             "outlinewidth": 0,
             "ticks": ""
            },
            "colorscale": [
             [
              0,
              "#0d0887"
             ],
             [
              0.1111111111111111,
              "#46039f"
             ],
             [
              0.2222222222222222,
              "#7201a8"
             ],
             [
              0.3333333333333333,
              "#9c179e"
             ],
             [
              0.4444444444444444,
              "#bd3786"
             ],
             [
              0.5555555555555556,
              "#d8576b"
             ],
             [
              0.6666666666666666,
              "#ed7953"
             ],
             [
              0.7777777777777778,
              "#fb9f3a"
             ],
             [
              0.8888888888888888,
              "#fdca26"
             ],
             [
              1,
              "#f0f921"
             ]
            ],
            "type": "histogram2dcontour"
           }
          ],
          "mesh3d": [
           {
            "colorbar": {
             "outlinewidth": 0,
             "ticks": ""
            },
            "type": "mesh3d"
           }
          ],
          "parcoords": [
           {
            "line": {
             "colorbar": {
              "outlinewidth": 0,
              "ticks": ""
             }
            },
            "type": "parcoords"
           }
          ],
          "pie": [
           {
            "automargin": true,
            "type": "pie"
           }
          ],
          "scatter": [
           {
            "marker": {
             "colorbar": {
              "outlinewidth": 0,
              "ticks": ""
             }
            },
            "type": "scatter"
           }
          ],
          "scatter3d": [
           {
            "line": {
             "colorbar": {
              "outlinewidth": 0,
              "ticks": ""
             }
            },
            "marker": {
             "colorbar": {
              "outlinewidth": 0,
              "ticks": ""
             }
            },
            "type": "scatter3d"
           }
          ],
          "scattercarpet": [
           {
            "marker": {
             "colorbar": {
              "outlinewidth": 0,
              "ticks": ""
             }
            },
            "type": "scattercarpet"
           }
          ],
          "scattergeo": [
           {
            "marker": {
             "colorbar": {
              "outlinewidth": 0,
              "ticks": ""
             }
            },
            "type": "scattergeo"
           }
          ],
          "scattergl": [
           {
            "marker": {
             "colorbar": {
              "outlinewidth": 0,
              "ticks": ""
             }
            },
            "type": "scattergl"
           }
          ],
          "scattermapbox": [
           {
            "marker": {
             "colorbar": {
              "outlinewidth": 0,
              "ticks": ""
             }
            },
            "type": "scattermapbox"
           }
          ],
          "scatterpolar": [
           {
            "marker": {
             "colorbar": {
              "outlinewidth": 0,
              "ticks": ""
             }
            },
            "type": "scatterpolar"
           }
          ],
          "scatterpolargl": [
           {
            "marker": {
             "colorbar": {
              "outlinewidth": 0,
              "ticks": ""
             }
            },
            "type": "scatterpolargl"
           }
          ],
          "scatterternary": [
           {
            "marker": {
             "colorbar": {
              "outlinewidth": 0,
              "ticks": ""
             }
            },
            "type": "scatterternary"
           }
          ],
          "surface": [
           {
            "colorbar": {
             "outlinewidth": 0,
             "ticks": ""
            },
            "colorscale": [
             [
              0,
              "#0d0887"
             ],
             [
              0.1111111111111111,
              "#46039f"
             ],
             [
              0.2222222222222222,
              "#7201a8"
             ],
             [
              0.3333333333333333,
              "#9c179e"
             ],
             [
              0.4444444444444444,
              "#bd3786"
             ],
             [
              0.5555555555555556,
              "#d8576b"
             ],
             [
              0.6666666666666666,
              "#ed7953"
             ],
             [
              0.7777777777777778,
              "#fb9f3a"
             ],
             [
              0.8888888888888888,
              "#fdca26"
             ],
             [
              1,
              "#f0f921"
             ]
            ],
            "type": "surface"
           }
          ],
          "table": [
           {
            "cells": {
             "fill": {
              "color": "#EBF0F8"
             },
             "line": {
              "color": "white"
             }
            },
            "header": {
             "fill": {
              "color": "#C8D4E3"
             },
             "line": {
              "color": "white"
             }
            },
            "type": "table"
           }
          ]
         },
         "layout": {
          "annotationdefaults": {
           "arrowcolor": "#2a3f5f",
           "arrowhead": 0,
           "arrowwidth": 1
          },
          "coloraxis": {
           "colorbar": {
            "outlinewidth": 0,
            "ticks": ""
           }
          },
          "colorscale": {
           "diverging": [
            [
             0,
             "#8e0152"
            ],
            [
             0.1,
             "#c51b7d"
            ],
            [
             0.2,
             "#de77ae"
            ],
            [
             0.3,
             "#f1b6da"
            ],
            [
             0.4,
             "#fde0ef"
            ],
            [
             0.5,
             "#f7f7f7"
            ],
            [
             0.6,
             "#e6f5d0"
            ],
            [
             0.7,
             "#b8e186"
            ],
            [
             0.8,
             "#7fbc41"
            ],
            [
             0.9,
             "#4d9221"
            ],
            [
             1,
             "#276419"
            ]
           ],
           "sequential": [
            [
             0,
             "#0d0887"
            ],
            [
             0.1111111111111111,
             "#46039f"
            ],
            [
             0.2222222222222222,
             "#7201a8"
            ],
            [
             0.3333333333333333,
             "#9c179e"
            ],
            [
             0.4444444444444444,
             "#bd3786"
            ],
            [
             0.5555555555555556,
             "#d8576b"
            ],
            [
             0.6666666666666666,
             "#ed7953"
            ],
            [
             0.7777777777777778,
             "#fb9f3a"
            ],
            [
             0.8888888888888888,
             "#fdca26"
            ],
            [
             1,
             "#f0f921"
            ]
           ],
           "sequentialminus": [
            [
             0,
             "#0d0887"
            ],
            [
             0.1111111111111111,
             "#46039f"
            ],
            [
             0.2222222222222222,
             "#7201a8"
            ],
            [
             0.3333333333333333,
             "#9c179e"
            ],
            [
             0.4444444444444444,
             "#bd3786"
            ],
            [
             0.5555555555555556,
             "#d8576b"
            ],
            [
             0.6666666666666666,
             "#ed7953"
            ],
            [
             0.7777777777777778,
             "#fb9f3a"
            ],
            [
             0.8888888888888888,
             "#fdca26"
            ],
            [
             1,
             "#f0f921"
            ]
           ]
          },
          "colorway": [
           "#636efa",
           "#EF553B",
           "#00cc96",
           "#ab63fa",
           "#FFA15A",
           "#19d3f3",
           "#FF6692",
           "#B6E880",
           "#FF97FF",
           "#FECB52"
          ],
          "font": {
           "color": "#2a3f5f"
          },
          "geo": {
           "bgcolor": "white",
           "lakecolor": "white",
           "landcolor": "#E5ECF6",
           "showlakes": true,
           "showland": true,
           "subunitcolor": "white"
          },
          "hoverlabel": {
           "align": "left"
          },
          "hovermode": "closest",
          "mapbox": {
           "style": "light"
          },
          "paper_bgcolor": "white",
          "plot_bgcolor": "#E5ECF6",
          "polar": {
           "angularaxis": {
            "gridcolor": "white",
            "linecolor": "white",
            "ticks": ""
           },
           "bgcolor": "#E5ECF6",
           "radialaxis": {
            "gridcolor": "white",
            "linecolor": "white",
            "ticks": ""
           }
          },
          "scene": {
           "xaxis": {
            "backgroundcolor": "#E5ECF6",
            "gridcolor": "white",
            "gridwidth": 2,
            "linecolor": "white",
            "showbackground": true,
            "ticks": "",
            "zerolinecolor": "white"
           },
           "yaxis": {
            "backgroundcolor": "#E5ECF6",
            "gridcolor": "white",
            "gridwidth": 2,
            "linecolor": "white",
            "showbackground": true,
            "ticks": "",
            "zerolinecolor": "white"
           },
           "zaxis": {
            "backgroundcolor": "#E5ECF6",
            "gridcolor": "white",
            "gridwidth": 2,
            "linecolor": "white",
            "showbackground": true,
            "ticks": "",
            "zerolinecolor": "white"
           }
          },
          "shapedefaults": {
           "line": {
            "color": "#2a3f5f"
           }
          },
          "ternary": {
           "aaxis": {
            "gridcolor": "white",
            "linecolor": "white",
            "ticks": ""
           },
           "baxis": {
            "gridcolor": "white",
            "linecolor": "white",
            "ticks": ""
           },
           "bgcolor": "#E5ECF6",
           "caxis": {
            "gridcolor": "white",
            "linecolor": "white",
            "ticks": ""
           }
          },
          "title": {
           "x": 0.05
          },
          "xaxis": {
           "automargin": true,
           "gridcolor": "white",
           "linecolor": "white",
           "ticks": "",
           "title": {
            "standoff": 15
           },
           "zerolinecolor": "white",
           "zerolinewidth": 2
          },
          "yaxis": {
           "automargin": true,
           "gridcolor": "white",
           "linecolor": "white",
           "ticks": "",
           "title": {
            "standoff": 15
           },
           "zerolinecolor": "white",
           "zerolinewidth": 2
          }
         }
        },
        "title": {
         "text": "Tree map of Segments"
        },
        "width": 700
       }
      },
      "text/html": [
       "<div>\n",
       "        \n",
       "        \n",
       "            <div id=\"354a68bd-0b59-4866-9a1f-cbdc4673db5b\" class=\"plotly-graph-div\" style=\"height:500px; width:700px;\"></div>\n",
       "            <script type=\"text/javascript\">\n",
       "                require([\"plotly\"], function(Plotly) {\n",
       "                    window.PLOTLYENV=window.PLOTLYENV || {};\n",
       "                    \n",
       "                if (document.getElementById(\"354a68bd-0b59-4866-9a1f-cbdc4673db5b\")) {\n",
       "                    Plotly.newPlot(\n",
       "                        '354a68bd-0b59-4866-9a1f-cbdc4673db5b',\n",
       "                        [{\"branchvalues\": \"total\", \"domain\": {\"x\": [0.0, 1.0], \"y\": [0.0, 1.0]}, \"hovertemplate\": \"labels=%{label}<br>count_customer=%{value}<br>parent=%{parent}<br>id=%{id}<extra></extra>\", \"ids\": [\"VIP\", \"\\u041d\\u043e\\u0432\\u0438\\u0447\\u043a\\u0438 \\u0441 \\u0432\\u044b\\u0441\\u043e\\u043a\\u0438\\u043c \\u0447\\u0435\\u043a\\u043e\\u043c. \\u041f\\u043e\\u0442\\u0435\\u043d\\u0446\\u0438\\u0430\\u043b\\u044c\\u043d\\u044b\\u0435 VIP\", \"\\u041d\\u043e\\u0432\\u0438\\u0447\\u043a\\u0438 \\u0441 \\u043c\\u0430\\u043b\\u0435\\u043d\\u044c\\u043a\\u0438\\u043c \\u0447\\u0435\\u043a\\u043e\\u043c\", \"\\u041d\\u043e\\u0432\\u0438\\u0447\\u043a\\u0438 \\u0441\\u043e \\u0441\\u0440\\u0435\\u0434\\u043d\\u0438\\u043c \\u0447\\u0435\\u043a\\u043e\\u043c\", \"\\u041e\\u0434\\u043d\\u043e\\u0440\\u0430\\u0437\\u043e\\u0432\\u044b\\u0435\", \"\\u041f\\u043e\\u0441\\u0442\\u043e\\u044f\\u043d\\u043d\\u044b\\u0435 \\u0441 \\u0432\\u044b\\u0441\\u043e\\u043a\\u0438\\u043c \\u0447\\u0435\\u043a\\u043e\\u043c\", \"\\u041f\\u043e\\u0441\\u0442\\u043e\\u044f\\u043d\\u043d\\u044b\\u0435 \\u0441 \\u043c\\u0430\\u043b\\u0435\\u043d\\u044c\\u043a\\u0438\\u043c \\u0447\\u0435\\u043a\\u043e\\u043c\", \"\\u041f\\u043e\\u0441\\u0442\\u043e\\u044f\\u043d\\u043d\\u044b\\u0435 \\u0441\\u043e \\u0441\\u0440\\u0435\\u0434\\u043d\\u0438\\u043c \\u0447\\u0435\\u043a\\u043e\\u043c\", \"\\u041f\\u043e\\u0442\\u0435\\u0440\\u044f\\u043d\\u043d\\u044b\\u0435 \\u044d\\u043a\\u043e\\u043d\\u043e\\u043c\\u043d\\u044b\\u0435\", \"\\u0421\\u043f\\u044f\\u0449\\u0438\\u0435 \\u043f\\u043e\\u0441\\u0442\\u043e\\u044f\\u043d\\u043d\\u044b\\u0435 \\u0441 \\u0432\\u044b\\u0441\\u043e\\u043a\\u0438\\u043c \\u0447\\u0435\\u043a\\u043e\\u043c\", \"\\u0421\\u043f\\u044f\\u0449\\u0438\\u0435 \\u043f\\u043e\\u0441\\u0442\\u043e\\u044f\\u043d\\u043d\\u044b\\u0435 \\u0441 \\u043c\\u0430\\u043b\\u0435\\u043d\\u044c\\u043a\\u0438\\u043c \\u0447\\u0435\\u043a\\u043e\\u043c\", \"\\u0421\\u043f\\u044f\\u0449\\u0438\\u0435 \\u043f\\u043e\\u0441\\u0442\\u043e\\u044f\\u043d\\u043d\\u044b\\u0435 \\u0441\\u043e \\u0441\\u0440\\u0435\\u0434\\u043d\\u0438\\u043c \\u0447\\u0435\\u043a\\u043e\\u043c\", \"\\u0421\\u043f\\u044f\\u0449\\u0438\\u0435 \\u0440\\u0430\\u0437\\u043e\\u0432\\u044b\\u0435 \\u0441 \\u043c\\u0430\\u043b\\u0435\\u043d\\u044c\\u043a\\u0438\\u043c \\u0447\\u0435\\u043a\\u043e\\u043c\", \"\\u0421\\u043f\\u044f\\u0449\\u0438\\u0435 \\u0440\\u0435\\u0434\\u043a\\u0438\\u0435 \\u0441 \\u0432\\u044b\\u0441\\u043e\\u043a\\u0438\\u043c \\u0447\\u0435\\u043a\\u043e\\u043c\", \"\\u0421\\u043f\\u044f\\u0449\\u0438\\u0435 \\u0440\\u0435\\u0434\\u043a\\u0438\\u0435 \\u0441 \\u043c\\u0430\\u043b\\u0435\\u043d\\u044c\\u043a\\u0438\\u043c \\u0447\\u0435\\u043a\\u043e\\u043c\", \"\\u0421\\u043f\\u044f\\u0449\\u0438\\u0435 \\u0440\\u0435\\u0434\\u043a\\u0438\\u0435 \\u0441\\u043e \\u0441\\u0440\\u0435\\u0434\\u043d\\u0438\\u043c \\u0447\\u0435\\u043a\\u043e\\u043c\", \"\\u0423\\u0445\\u043e\\u0434\\u044f\\u0449\\u0438\\u0435 VIP\", \"\\u0423\\u0445\\u043e\\u0434\\u044f\\u0449\\u0438\\u0435 \\u043f\\u043e\\u0441\\u0442\\u043e\\u044f\\u043d\\u043d\\u044b\\u0435\", \"\\u0423\\u0445\\u043e\\u0434\\u044f\\u0449\\u0438\\u0435 \\u0440\\u0435\\u0434\\u043a\\u0438\\u0435\", \"\\u0423\\u0445\\u043e\\u0434\\u044f\\u0449\\u0438\\u0435 \\u0445\\u043e\\u0440\\u043e\\u0448\\u0438\\u0435 \\u043f\\u043e\\u0441\\u0442\\u043e\\u044f\\u043d\\u043d\\u044b\\u0435\"], \"labels\": [\"VIP\", \"\\u041d\\u043e\\u0432\\u0438\\u0447\\u043a\\u0438 \\u0441 \\u0432\\u044b\\u0441\\u043e\\u043a\\u0438\\u043c \\u0447\\u0435\\u043a\\u043e\\u043c. \\u041f\\u043e\\u0442\\u0435\\u043d\\u0446\\u0438\\u0430\\u043b\\u044c\\u043d\\u044b\\u0435 VIP\", \"\\u041d\\u043e\\u0432\\u0438\\u0447\\u043a\\u0438 \\u0441 \\u043c\\u0430\\u043b\\u0435\\u043d\\u044c\\u043a\\u0438\\u043c \\u0447\\u0435\\u043a\\u043e\\u043c\", \"\\u041d\\u043e\\u0432\\u0438\\u0447\\u043a\\u0438 \\u0441\\u043e \\u0441\\u0440\\u0435\\u0434\\u043d\\u0438\\u043c \\u0447\\u0435\\u043a\\u043e\\u043c\", \"\\u041e\\u0434\\u043d\\u043e\\u0440\\u0430\\u0437\\u043e\\u0432\\u044b\\u0435\", \"\\u041f\\u043e\\u0441\\u0442\\u043e\\u044f\\u043d\\u043d\\u044b\\u0435 \\u0441 \\u0432\\u044b\\u0441\\u043e\\u043a\\u0438\\u043c \\u0447\\u0435\\u043a\\u043e\\u043c\", \"\\u041f\\u043e\\u0441\\u0442\\u043e\\u044f\\u043d\\u043d\\u044b\\u0435 \\u0441 \\u043c\\u0430\\u043b\\u0435\\u043d\\u044c\\u043a\\u0438\\u043c \\u0447\\u0435\\u043a\\u043e\\u043c\", \"\\u041f\\u043e\\u0441\\u0442\\u043e\\u044f\\u043d\\u043d\\u044b\\u0435 \\u0441\\u043e \\u0441\\u0440\\u0435\\u0434\\u043d\\u0438\\u043c \\u0447\\u0435\\u043a\\u043e\\u043c\", \"\\u041f\\u043e\\u0442\\u0435\\u0440\\u044f\\u043d\\u043d\\u044b\\u0435 \\u044d\\u043a\\u043e\\u043d\\u043e\\u043c\\u043d\\u044b\\u0435\", \"\\u0421\\u043f\\u044f\\u0449\\u0438\\u0435 \\u043f\\u043e\\u0441\\u0442\\u043e\\u044f\\u043d\\u043d\\u044b\\u0435 \\u0441 \\u0432\\u044b\\u0441\\u043e\\u043a\\u0438\\u043c \\u0447\\u0435\\u043a\\u043e\\u043c\", \"\\u0421\\u043f\\u044f\\u0449\\u0438\\u0435 \\u043f\\u043e\\u0441\\u0442\\u043e\\u044f\\u043d\\u043d\\u044b\\u0435 \\u0441 \\u043c\\u0430\\u043b\\u0435\\u043d\\u044c\\u043a\\u0438\\u043c \\u0447\\u0435\\u043a\\u043e\\u043c\", \"\\u0421\\u043f\\u044f\\u0449\\u0438\\u0435 \\u043f\\u043e\\u0441\\u0442\\u043e\\u044f\\u043d\\u043d\\u044b\\u0435 \\u0441\\u043e \\u0441\\u0440\\u0435\\u0434\\u043d\\u0438\\u043c \\u0447\\u0435\\u043a\\u043e\\u043c\", \"\\u0421\\u043f\\u044f\\u0449\\u0438\\u0435 \\u0440\\u0430\\u0437\\u043e\\u0432\\u044b\\u0435 \\u0441 \\u043c\\u0430\\u043b\\u0435\\u043d\\u044c\\u043a\\u0438\\u043c \\u0447\\u0435\\u043a\\u043e\\u043c\", \"\\u0421\\u043f\\u044f\\u0449\\u0438\\u0435 \\u0440\\u0435\\u0434\\u043a\\u0438\\u0435 \\u0441 \\u0432\\u044b\\u0441\\u043e\\u043a\\u0438\\u043c \\u0447\\u0435\\u043a\\u043e\\u043c\", \"\\u0421\\u043f\\u044f\\u0449\\u0438\\u0435 \\u0440\\u0435\\u0434\\u043a\\u0438\\u0435 \\u0441 \\u043c\\u0430\\u043b\\u0435\\u043d\\u044c\\u043a\\u0438\\u043c \\u0447\\u0435\\u043a\\u043e\\u043c\", \"\\u0421\\u043f\\u044f\\u0449\\u0438\\u0435 \\u0440\\u0435\\u0434\\u043a\\u0438\\u0435 \\u0441\\u043e \\u0441\\u0440\\u0435\\u0434\\u043d\\u0438\\u043c \\u0447\\u0435\\u043a\\u043e\\u043c\", \"\\u0423\\u0445\\u043e\\u0434\\u044f\\u0449\\u0438\\u0435 VIP\", \"\\u0423\\u0445\\u043e\\u0434\\u044f\\u0449\\u0438\\u0435 \\u043f\\u043e\\u0441\\u0442\\u043e\\u044f\\u043d\\u043d\\u044b\\u0435\", \"\\u0423\\u0445\\u043e\\u0434\\u044f\\u0449\\u0438\\u0435 \\u0440\\u0435\\u0434\\u043a\\u0438\\u0435\", \"\\u0423\\u0445\\u043e\\u0434\\u044f\\u0449\\u0438\\u0435 \\u0445\\u043e\\u0440\\u043e\\u0448\\u0438\\u0435 \\u043f\\u043e\\u0441\\u0442\\u043e\\u044f\\u043d\\u043d\\u044b\\u0435\"], \"name\": \"\", \"parents\": [\"\", \"\", \"\", \"\", \"\", \"\", \"\", \"\", \"\", \"\", \"\", \"\", \"\", \"\", \"\", \"\", \"\", \"\", \"\", \"\"], \"type\": \"treemap\", \"values\": [92, 9938, 9879, 9876, 20650, 608, 63, 249, 10336, 55, 1, 7, 29878, 627, 55, 216, 50, 5, 765, 8]}],\n",
       "                        {\"height\": 500, \"legend\": {\"tracegroupgap\": 0}, \"margin\": {\"t\": 60}, \"template\": {\"data\": {\"bar\": [{\"error_x\": {\"color\": \"#2a3f5f\"}, \"error_y\": {\"color\": \"#2a3f5f\"}, \"marker\": {\"line\": {\"color\": \"#E5ECF6\", \"width\": 0.5}}, \"type\": \"bar\"}], \"barpolar\": [{\"marker\": {\"line\": {\"color\": \"#E5ECF6\", \"width\": 0.5}}, \"type\": \"barpolar\"}], \"carpet\": [{\"aaxis\": {\"endlinecolor\": \"#2a3f5f\", \"gridcolor\": \"white\", \"linecolor\": \"white\", \"minorgridcolor\": \"white\", \"startlinecolor\": \"#2a3f5f\"}, \"baxis\": {\"endlinecolor\": \"#2a3f5f\", \"gridcolor\": \"white\", \"linecolor\": \"white\", \"minorgridcolor\": \"white\", \"startlinecolor\": \"#2a3f5f\"}, \"type\": \"carpet\"}], \"choropleth\": [{\"colorbar\": {\"outlinewidth\": 0, \"ticks\": \"\"}, \"type\": \"choropleth\"}], \"contour\": [{\"colorbar\": {\"outlinewidth\": 0, \"ticks\": \"\"}, \"colorscale\": [[0.0, \"#0d0887\"], [0.1111111111111111, \"#46039f\"], [0.2222222222222222, \"#7201a8\"], [0.3333333333333333, \"#9c179e\"], [0.4444444444444444, \"#bd3786\"], [0.5555555555555556, \"#d8576b\"], [0.6666666666666666, \"#ed7953\"], [0.7777777777777778, \"#fb9f3a\"], [0.8888888888888888, \"#fdca26\"], [1.0, \"#f0f921\"]], \"type\": \"contour\"}], \"contourcarpet\": [{\"colorbar\": {\"outlinewidth\": 0, \"ticks\": \"\"}, \"type\": \"contourcarpet\"}], \"heatmap\": [{\"colorbar\": {\"outlinewidth\": 0, \"ticks\": \"\"}, \"colorscale\": [[0.0, \"#0d0887\"], [0.1111111111111111, \"#46039f\"], [0.2222222222222222, \"#7201a8\"], [0.3333333333333333, \"#9c179e\"], [0.4444444444444444, \"#bd3786\"], [0.5555555555555556, \"#d8576b\"], [0.6666666666666666, \"#ed7953\"], [0.7777777777777778, \"#fb9f3a\"], [0.8888888888888888, \"#fdca26\"], [1.0, \"#f0f921\"]], \"type\": \"heatmap\"}], \"heatmapgl\": [{\"colorbar\": {\"outlinewidth\": 0, \"ticks\": \"\"}, \"colorscale\": [[0.0, \"#0d0887\"], [0.1111111111111111, \"#46039f\"], [0.2222222222222222, \"#7201a8\"], [0.3333333333333333, \"#9c179e\"], [0.4444444444444444, \"#bd3786\"], [0.5555555555555556, \"#d8576b\"], [0.6666666666666666, \"#ed7953\"], [0.7777777777777778, \"#fb9f3a\"], [0.8888888888888888, \"#fdca26\"], [1.0, \"#f0f921\"]], \"type\": \"heatmapgl\"}], \"histogram\": [{\"marker\": {\"colorbar\": {\"outlinewidth\": 0, \"ticks\": \"\"}}, \"type\": \"histogram\"}], \"histogram2d\": [{\"colorbar\": {\"outlinewidth\": 0, \"ticks\": \"\"}, \"colorscale\": [[0.0, \"#0d0887\"], [0.1111111111111111, \"#46039f\"], [0.2222222222222222, \"#7201a8\"], [0.3333333333333333, \"#9c179e\"], [0.4444444444444444, \"#bd3786\"], [0.5555555555555556, \"#d8576b\"], [0.6666666666666666, \"#ed7953\"], [0.7777777777777778, \"#fb9f3a\"], [0.8888888888888888, \"#fdca26\"], [1.0, \"#f0f921\"]], \"type\": \"histogram2d\"}], \"histogram2dcontour\": [{\"colorbar\": {\"outlinewidth\": 0, \"ticks\": \"\"}, \"colorscale\": [[0.0, \"#0d0887\"], [0.1111111111111111, \"#46039f\"], [0.2222222222222222, \"#7201a8\"], [0.3333333333333333, \"#9c179e\"], [0.4444444444444444, \"#bd3786\"], [0.5555555555555556, \"#d8576b\"], [0.6666666666666666, \"#ed7953\"], [0.7777777777777778, \"#fb9f3a\"], [0.8888888888888888, \"#fdca26\"], [1.0, \"#f0f921\"]], \"type\": \"histogram2dcontour\"}], \"mesh3d\": [{\"colorbar\": {\"outlinewidth\": 0, \"ticks\": \"\"}, \"type\": \"mesh3d\"}], \"parcoords\": [{\"line\": {\"colorbar\": {\"outlinewidth\": 0, \"ticks\": \"\"}}, \"type\": \"parcoords\"}], \"pie\": [{\"automargin\": true, \"type\": \"pie\"}], \"scatter\": [{\"marker\": {\"colorbar\": {\"outlinewidth\": 0, \"ticks\": \"\"}}, \"type\": \"scatter\"}], \"scatter3d\": [{\"line\": {\"colorbar\": {\"outlinewidth\": 0, \"ticks\": \"\"}}, \"marker\": {\"colorbar\": {\"outlinewidth\": 0, \"ticks\": \"\"}}, \"type\": \"scatter3d\"}], \"scattercarpet\": [{\"marker\": {\"colorbar\": {\"outlinewidth\": 0, \"ticks\": \"\"}}, \"type\": \"scattercarpet\"}], \"scattergeo\": [{\"marker\": {\"colorbar\": {\"outlinewidth\": 0, \"ticks\": \"\"}}, \"type\": \"scattergeo\"}], \"scattergl\": [{\"marker\": {\"colorbar\": {\"outlinewidth\": 0, \"ticks\": \"\"}}, \"type\": \"scattergl\"}], \"scattermapbox\": [{\"marker\": {\"colorbar\": {\"outlinewidth\": 0, \"ticks\": \"\"}}, \"type\": \"scattermapbox\"}], \"scatterpolar\": [{\"marker\": {\"colorbar\": {\"outlinewidth\": 0, \"ticks\": \"\"}}, \"type\": \"scatterpolar\"}], \"scatterpolargl\": [{\"marker\": {\"colorbar\": {\"outlinewidth\": 0, \"ticks\": \"\"}}, \"type\": \"scatterpolargl\"}], \"scatterternary\": [{\"marker\": {\"colorbar\": {\"outlinewidth\": 0, \"ticks\": \"\"}}, \"type\": \"scatterternary\"}], \"surface\": [{\"colorbar\": {\"outlinewidth\": 0, \"ticks\": \"\"}, \"colorscale\": [[0.0, \"#0d0887\"], [0.1111111111111111, \"#46039f\"], [0.2222222222222222, \"#7201a8\"], [0.3333333333333333, \"#9c179e\"], [0.4444444444444444, \"#bd3786\"], [0.5555555555555556, \"#d8576b\"], [0.6666666666666666, \"#ed7953\"], [0.7777777777777778, \"#fb9f3a\"], [0.8888888888888888, \"#fdca26\"], [1.0, \"#f0f921\"]], \"type\": \"surface\"}], \"table\": [{\"cells\": {\"fill\": {\"color\": \"#EBF0F8\"}, \"line\": {\"color\": \"white\"}}, \"header\": {\"fill\": {\"color\": \"#C8D4E3\"}, \"line\": {\"color\": \"white\"}}, \"type\": \"table\"}]}, \"layout\": {\"annotationdefaults\": {\"arrowcolor\": \"#2a3f5f\", \"arrowhead\": 0, \"arrowwidth\": 1}, \"coloraxis\": {\"colorbar\": {\"outlinewidth\": 0, \"ticks\": \"\"}}, \"colorscale\": {\"diverging\": [[0, \"#8e0152\"], [0.1, \"#c51b7d\"], [0.2, \"#de77ae\"], [0.3, \"#f1b6da\"], [0.4, \"#fde0ef\"], [0.5, \"#f7f7f7\"], [0.6, \"#e6f5d0\"], [0.7, \"#b8e186\"], [0.8, \"#7fbc41\"], [0.9, \"#4d9221\"], [1, \"#276419\"]], \"sequential\": [[0.0, \"#0d0887\"], [0.1111111111111111, \"#46039f\"], [0.2222222222222222, \"#7201a8\"], [0.3333333333333333, \"#9c179e\"], [0.4444444444444444, \"#bd3786\"], [0.5555555555555556, \"#d8576b\"], [0.6666666666666666, \"#ed7953\"], [0.7777777777777778, \"#fb9f3a\"], [0.8888888888888888, \"#fdca26\"], [1.0, \"#f0f921\"]], \"sequentialminus\": [[0.0, \"#0d0887\"], [0.1111111111111111, \"#46039f\"], [0.2222222222222222, \"#7201a8\"], [0.3333333333333333, \"#9c179e\"], [0.4444444444444444, \"#bd3786\"], [0.5555555555555556, \"#d8576b\"], [0.6666666666666666, \"#ed7953\"], [0.7777777777777778, \"#fb9f3a\"], [0.8888888888888888, \"#fdca26\"], [1.0, \"#f0f921\"]]}, \"colorway\": [\"#636efa\", \"#EF553B\", \"#00cc96\", \"#ab63fa\", \"#FFA15A\", \"#19d3f3\", \"#FF6692\", \"#B6E880\", \"#FF97FF\", \"#FECB52\"], \"font\": {\"color\": \"#2a3f5f\"}, \"geo\": {\"bgcolor\": \"white\", \"lakecolor\": \"white\", \"landcolor\": \"#E5ECF6\", \"showlakes\": true, \"showland\": true, \"subunitcolor\": \"white\"}, \"hoverlabel\": {\"align\": \"left\"}, \"hovermode\": \"closest\", \"mapbox\": {\"style\": \"light\"}, \"paper_bgcolor\": \"white\", \"plot_bgcolor\": \"#E5ECF6\", \"polar\": {\"angularaxis\": {\"gridcolor\": \"white\", \"linecolor\": \"white\", \"ticks\": \"\"}, \"bgcolor\": \"#E5ECF6\", \"radialaxis\": {\"gridcolor\": \"white\", \"linecolor\": \"white\", \"ticks\": \"\"}}, \"scene\": {\"xaxis\": {\"backgroundcolor\": \"#E5ECF6\", \"gridcolor\": \"white\", \"gridwidth\": 2, \"linecolor\": \"white\", \"showbackground\": true, \"ticks\": \"\", \"zerolinecolor\": \"white\"}, \"yaxis\": {\"backgroundcolor\": \"#E5ECF6\", \"gridcolor\": \"white\", \"gridwidth\": 2, \"linecolor\": \"white\", \"showbackground\": true, \"ticks\": \"\", \"zerolinecolor\": \"white\"}, \"zaxis\": {\"backgroundcolor\": \"#E5ECF6\", \"gridcolor\": \"white\", \"gridwidth\": 2, \"linecolor\": \"white\", \"showbackground\": true, \"ticks\": \"\", \"zerolinecolor\": \"white\"}}, \"shapedefaults\": {\"line\": {\"color\": \"#2a3f5f\"}}, \"ternary\": {\"aaxis\": {\"gridcolor\": \"white\", \"linecolor\": \"white\", \"ticks\": \"\"}, \"baxis\": {\"gridcolor\": \"white\", \"linecolor\": \"white\", \"ticks\": \"\"}, \"bgcolor\": \"#E5ECF6\", \"caxis\": {\"gridcolor\": \"white\", \"linecolor\": \"white\", \"ticks\": \"\"}}, \"title\": {\"x\": 0.05}, \"xaxis\": {\"automargin\": true, \"gridcolor\": \"white\", \"linecolor\": \"white\", \"ticks\": \"\", \"title\": {\"standoff\": 15}, \"zerolinecolor\": \"white\", \"zerolinewidth\": 2}, \"yaxis\": {\"automargin\": true, \"gridcolor\": \"white\", \"linecolor\": \"white\", \"ticks\": \"\", \"title\": {\"standoff\": 15}, \"zerolinecolor\": \"white\", \"zerolinewidth\": 2}}}, \"title\": {\"text\": \"Tree map of Segments\"}, \"width\": 700},\n",
       "                        {\"responsive\": true}\n",
       "                    ).then(function(){\n",
       "                            \n",
       "var gd = document.getElementById('354a68bd-0b59-4866-9a1f-cbdc4673db5b');\n",
       "var x = new MutationObserver(function (mutations, observer) {{\n",
       "        var display = window.getComputedStyle(gd).display;\n",
       "        if (!display || display === 'none') {{\n",
       "            console.log([gd, 'removed!']);\n",
       "            Plotly.purge(gd);\n",
       "            observer.disconnect();\n",
       "        }}\n",
       "}});\n",
       "\n",
       "// Listen for the removal of the full notebook cells\n",
       "var notebookContainer = gd.closest('#notebook-container');\n",
       "if (notebookContainer) {{\n",
       "    x.observe(notebookContainer, {childList: true});\n",
       "}}\n",
       "\n",
       "// Listen for the clearing of the current output cell\n",
       "var outputEl = gd.closest('.output');\n",
       "if (outputEl) {{\n",
       "    x.observe(outputEl, {childList: true});\n",
       "}}\n",
       "\n",
       "                        })\n",
       "                };\n",
       "                });\n",
       "            </script>\n",
       "        </div>"
      ]
     },
     "metadata": {},
     "output_type": "display_data"
    }
   ],
   "source": [
    "fig = px.treemap(segmentation, path=['characteristic'], values='count_customer')\n",
    "fig.update_layout(title=\"Tree map of Segments\", width=700, height=500,)\n",
    "fig.show()"
   ]
  }
 ],
 "metadata": {
  "kernelspec": {
   "display_name": "Python 3",
   "language": "python",
   "name": "python3"
  },
  "language_info": {
   "codemirror_mode": {
    "name": "ipython",
    "version": 3
   },
   "file_extension": ".py",
   "mimetype": "text/x-python",
   "name": "python",
   "nbconvert_exporter": "python",
   "pygments_lexer": "ipython3",
   "version": "3.7.3"
  }
 },
 "nbformat": 4,
 "nbformat_minor": 4
}
